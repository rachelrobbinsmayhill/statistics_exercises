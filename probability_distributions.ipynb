{
 "cells": [
  {
   "cell_type": "markdown",
   "id": "cc22383f",
   "metadata": {},
   "source": [
    "#  Probability Distributions"
   ]
  },
  {
   "cell_type": "markdown",
   "id": "1a83a789",
   "metadata": {},
   "source": [
    "#### For the following problems, use python to simulate the problem and calculate an experimental probability, then compare that to the theoretical probability."
   ]
  },
  {
   "cell_type": "code",
   "execution_count": 16,
   "id": "71edddd6",
   "metadata": {},
   "outputs": [],
   "source": [
    "import matplotlib.pyplot as plt\n",
    "import numpy as np\n",
    "import pandas as pd\n",
    "from scipy import stats"
   ]
  },
  {
   "cell_type": "code",
   "execution_count": 17,
   "id": "f67d5596",
   "metadata": {},
   "outputs": [],
   "source": [
    "n_trials = 100_000\n",
    "np.random.seed(123)"
   ]
  },
  {
   "cell_type": "markdown",
   "id": "988673f7",
   "metadata": {},
   "source": [
    "### 1. A bank found that the average number of cars waiting during the noon hour at a drive-up window follows a Poisson distribution with a mean of 2 cars. Make a chart of this distribution and answer these questions concerning the probability of cars waiting at the drive-up window."
   ]
  },
  {
   "cell_type": "code",
   "execution_count": 130,
   "id": "6668726c",
   "metadata": {},
   "outputs": [
    {
     "data": {
      "text/plain": [
       "Text(0, 0.5, 'P(X)')"
      ]
     },
     "execution_count": 130,
     "metadata": {},
     "output_type": "execute_result"
    },
    {
     "data": {
      "image/png": "[encoded data removed]",
      "text/plain": [
       "<Figure size 432x288 with 1 Axes>"
      ]
     },
     "metadata": {
      "needs_background": "light"
     },
     "output_type": "display_data"
    }
   ],
   "source": [
    "λ = 2 #during noon hour, (λ is lambda, which is expected rate of occurances)\n",
    "\n",
    "x = np.arange(0,12)\n",
    "y = stats.poisson(λ).pmf(x)\n",
    "\n",
    "plt.bar(x,y)\n",
    "plt.title('Poisson representing cars through bank drive through at noon, avg rate 2/noon-hour')\n",
    "plt.xlabel('Number of Cars')\n",
    "plt.ylabel('P(X)')"
   ]
  },
  {
   "cell_type": "markdown",
   "id": "532ded27",
   "metadata": {},
   "source": [
    "### - What is the probability that no cars drive up in the noon hour?"
   ]
  },
  {
   "cell_type": "code",
   "execution_count": 133,
   "id": "23cc3892",
   "metadata": {},
   "outputs": [
    {
     "data": {
      "text/plain": [
       "0.1353352832366127"
      ]
     },
     "execution_count": 133,
     "metadata": {},
     "output_type": "execute_result"
    }
   ],
   "source": [
    "# Theoretical\n",
    "λ = 2 \n",
    "\n",
    "stats.poisson(λ).pmf(0)"
   ]
  },
  {
   "cell_type": "code",
   "execution_count": 164,
   "id": "b332af46",
   "metadata": {},
   "outputs": [
    {
     "data": {
      "text/plain": [
       "0.13597"
      ]
     },
     "execution_count": 164,
     "metadata": {},
     "output_type": "execute_result"
    }
   ],
   "source": [
    "# Experimental\n",
    "car_numbers = np.random.poisson(2, n_trials)\n",
    "(car_numbers == 0).mean()"
   ]
  },
  {
   "cell_type": "markdown",
   "id": "6ce94df9",
   "metadata": {},
   "source": [
    "### - What is the probability that 3 or more cars come through the drive through?"
   ]
  },
  {
   "cell_type": "code",
   "execution_count": 135,
   "id": "540ea6dc",
   "metadata": {},
   "outputs": [
    {
     "data": {
      "text/plain": [
       "0.32332358381693654"
      ]
     },
     "execution_count": 135,
     "metadata": {},
     "output_type": "execute_result"
    }
   ],
   "source": [
    "# Theoretical\n",
    "\n",
    "stats.poisson(λ).sf(2)"
   ]
  },
  {
   "cell_type": "code",
   "execution_count": 165,
   "id": "f3ef409f",
   "metadata": {},
   "outputs": [
    {
     "data": {
      "text/plain": [
       "0.32557"
      ]
     },
     "execution_count": 165,
     "metadata": {},
     "output_type": "execute_result"
    }
   ],
   "source": [
    "# Experimental\n",
    "\n",
    "(car_numbers >= 3).mean()"
   ]
  },
  {
   "cell_type": "markdown",
   "id": "4e9bc064",
   "metadata": {},
   "source": [
    "### -How likely is it that the drive through gets at least 1 car?"
   ]
  },
  {
   "cell_type": "code",
   "execution_count": 137,
   "id": "b83b3a0a",
   "metadata": {},
   "outputs": [
    {
     "data": {
      "text/plain": [
       "0.8646647167633873"
      ]
     },
     "execution_count": 137,
     "metadata": {},
     "output_type": "execute_result"
    }
   ],
   "source": [
    "# Theoretical\n",
    "\n",
    "stats.poisson(λ).sf(0)"
   ]
  },
  {
   "cell_type": "code",
   "execution_count": 166,
   "id": "cbae4263",
   "metadata": {},
   "outputs": [
    {
     "data": {
      "text/plain": [
       "0.86403"
      ]
     },
     "execution_count": 166,
     "metadata": {},
     "output_type": "execute_result"
    }
   ],
   "source": [
    "# Experimental\n",
    "(car_numbers >= 1).mean()"
   ]
  },
  {
   "cell_type": "markdown",
   "id": "35faf064",
   "metadata": {},
   "source": [
    "### 2. Grades of State University graduates are normally distributed with a mean of 3.0 and a standard deviation of .3. Calculate the following:"
   ]
  },
  {
   "cell_type": "code",
   "execution_count": 172,
   "id": "a92e66bf",
   "metadata": {},
   "outputs": [],
   "source": [
    "μ = 3.0\n",
    "σ = .3"
   ]
  },
  {
   "cell_type": "markdown",
   "id": "2e3741a1",
   "metadata": {},
   "source": [
    "### - What grade point average is required to be in the top 5% of the graduating class?"
   ]
  },
  {
   "cell_type": "code",
   "execution_count": 173,
   "id": "b9e6a9c1",
   "metadata": {},
   "outputs": [
    {
     "data": {
      "text/plain": [
       "3.4934560880854417"
      ]
     },
     "execution_count": 173,
     "metadata": {},
     "output_type": "execute_result"
    }
   ],
   "source": [
    "# Theoretical\n",
    "grades = stats.norm(μ, σ)\n",
    "top_5_percent = grades.isf(.05)\n",
    "top_5_percent"
   ]
  },
  {
   "cell_type": "code",
   "execution_count": 174,
   "id": "7ff2f560",
   "metadata": {},
   "outputs": [
    {
     "data": {
      "text/plain": [
       "3.4934560880854417"
      ]
     },
     "execution_count": 174,
     "metadata": {},
     "output_type": "execute_result"
    }
   ],
   "source": [
    "stats.norm (μ,σ).isf(0.05)"
   ]
  },
  {
   "cell_type": "code",
   "execution_count": 188,
   "id": "db0263d0",
   "metadata": {},
   "outputs": [
    {
     "data": {
      "text/plain": [
       "3.4938917316223566"
      ]
     },
     "execution_count": 188,
     "metadata": {},
     "output_type": "execute_result"
    }
   ],
   "source": [
    "# Experimental\n",
    "(np.percentile([np.random.normal(3, 0.3, n_trials)],[95])).mean()"
   ]
  },
  {
   "cell_type": "markdown",
   "id": "8d1e75b8",
   "metadata": {},
   "source": [
    "### - What GPA constitutes the bottom 15% of the class?"
   ]
  },
  {
   "cell_type": "code",
   "execution_count": 180,
   "id": "a4e34b8a",
   "metadata": {},
   "outputs": [
    {
     "data": {
      "text/plain": [
       "2.689069983151863"
      ]
     },
     "execution_count": 180,
     "metadata": {},
     "output_type": "execute_result"
    }
   ],
   "source": [
    "# Theoretical \n",
    "stats.norm(μ, σ).ppf(.15)"
   ]
  },
  {
   "cell_type": "code",
   "execution_count": 187,
   "id": "7806675c",
   "metadata": {},
   "outputs": [
    {
     "data": {
      "text/plain": [
       "2.685442956278943"
      ]
     },
     "execution_count": 187,
     "metadata": {},
     "output_type": "execute_result"
    }
   ],
   "source": [
    "# Experimental\n",
    "(np.percentile([np.random.normal(3, 0.3, n_trials)],[15])).mean()"
   ]
  },
  {
   "cell_type": "markdown",
   "id": "026ad24e",
   "metadata": {},
   "source": [
    "### - An eccentric alumnus left scholarship money for students in the third decile from the bottom of their class. Determine the range of the third decile. Would a student with a 2.8 grade point average qualify for this scholarship?"
   ]
  },
  {
   "cell_type": "code",
   "execution_count": 189,
   "id": "f77991ca",
   "metadata": {},
   "outputs": [
    {
     "data": {
      "text/plain": [
       "array([2.74751363, 2.84267985])"
      ]
     },
     "execution_count": 189,
     "metadata": {},
     "output_type": "execute_result"
    }
   ],
   "source": [
    "# Theoretical\n",
    "stats.norm(μ, σ).ppf([0.2,0.3])\n",
    "\n",
    "#Yes, a student with a 2.8 GPA would qualify."
   ]
  },
  {
   "cell_type": "code",
   "execution_count": 190,
   "id": "c602c607",
   "metadata": {},
   "outputs": [
    {
     "data": {
      "text/plain": [
       "array([2.8429087])"
      ]
     },
     "execution_count": 190,
     "metadata": {},
     "output_type": "execute_result"
    }
   ],
   "source": [
    "# Experimental\n",
    "(np.percentile([np.random.normal(3, 0.3, n_trials)],[30]))"
   ]
  },
  {
   "cell_type": "markdown",
   "id": "4070750d",
   "metadata": {},
   "source": [
    "### - If I have a GPA of 3.5, what percentile am I in?"
   ]
  },
  {
   "cell_type": "code",
   "execution_count": 178,
   "id": "83b83ef1",
   "metadata": {},
   "outputs": [
    {
     "data": {
      "text/plain": [
       "0.9522096477271853"
      ]
     },
     "execution_count": 178,
     "metadata": {},
     "output_type": "execute_result"
    }
   ],
   "source": [
    "# Theoretical\n",
    "stats.norm(μ, σ).cdf(3.5)"
   ]
  },
  {
   "cell_type": "code",
   "execution_count": 179,
   "id": "4b6fb7f9",
   "metadata": {},
   "outputs": [
    {
     "data": {
      "text/plain": [
       "0.95283"
      ]
     },
     "execution_count": 179,
     "metadata": {},
     "output_type": "execute_result"
    }
   ],
   "source": [
    "# Experimental\n",
    "(np.random.normal(3, 0.3, n_trials) < 3.5).mean()"
   ]
  },
  {
   "cell_type": "markdown",
   "id": "4c767316",
   "metadata": {},
   "source": [
    "### 3. A marketing website has an average click-through rate of 2%. One day they observe 4326 visitors and 97 click-throughs. How likely is it that this many people or more click through?"
   ]
  },
  {
   "cell_type": "code",
   "execution_count": 3,
   "id": "a3705b57",
   "metadata": {},
   "outputs": [],
   "source": [
    "# Theoretical\n",
    "\n",
    "n_trials = 4326\n",
    "p = 0.02\n",
    "\n",
    "click_through = stats.binom(n_trials, p)"
   ]
  },
  {
   "cell_type": "code",
   "execution_count": 8,
   "id": "c41b2bbc",
   "metadata": {},
   "outputs": [
    {
     "data": {
      "text/plain": [
       "0.13975823631416445"
      ]
     },
     "execution_count": 8,
     "metadata": {},
     "output_type": "execute_result"
    }
   ],
   "source": [
    "click_through.sf(96)"
   ]
  },
  {
   "cell_type": "code",
   "execution_count": 10,
   "id": "35102df1",
   "metadata": {},
   "outputs": [
    {
     "data": {
      "text/plain": [
       "0.1396208969024503"
      ]
     },
     "execution_count": 10,
     "metadata": {},
     "output_type": "execute_result"
    }
   ],
   "source": [
    "# Experimental\n",
    "(click_through.rvs(n_trials) >= 97).mean()"
   ]
  },
  {
   "cell_type": "markdown",
   "id": "48893602",
   "metadata": {},
   "source": [
    "### 4. You are working on some statistics homework consisting of 100 questions where all of the answers are a probability rounded to the hundreths place. Looking to save time, you put down random probabilities as the answer to each question.\n",
    "\n",
    "### - What is the probability that at least one of your first 60 answers is correct?"
   ]
  },
  {
   "cell_type": "code",
   "execution_count": 203,
   "id": "fd466382",
   "metadata": {},
   "outputs": [
    {
     "data": {
      "text/plain": [
       "0.45284335760923855"
      ]
     },
     "execution_count": 203,
     "metadata": {},
     "output_type": "execute_result"
    }
   ],
   "source": [
    "# Theoretical\n",
    "\n",
    "n_trials = 60\n",
    "p = 0.01 #answers rounded to nearest hudredths place\n",
    "\n",
    "homework_guesses = stats.binom(n_trials ,p).sf(0)\n",
    "homework_guesses"
   ]
  },
  {
   "cell_type": "code",
   "execution_count": 210,
   "id": "18b36489",
   "metadata": {},
   "outputs": [
    {
     "data": {
      "text/plain": [
       "0.45193"
      ]
     },
     "execution_count": 210,
     "metadata": {},
     "output_type": "execute_result"
    }
   ],
   "source": [
    "# Experimental\n",
    "((np.random.choice([0,1], (100_000, 60), p = (.99, .01)).sum(axis = 1) >0).mean())"
   ]
  },
  {
   "cell_type": "markdown",
   "id": "199e0228",
   "metadata": {},
   "source": [
    "### 5. The codeup staff tends to get upset when the student break area is not cleaned up. Suppose that there's a 3% chance that any one student cleans the break area when they visit it, and, on any given day, about 90% of the 3 active cohorts of 22 students visit the break area. \n",
    "\n",
    "### -How likely is it that the break area gets cleaned up each day? "
   ]
  },
  {
   "cell_type": "code",
   "execution_count": 27,
   "id": "f2829954",
   "metadata": {},
   "outputs": [
    {
     "data": {
      "text/plain": [
       "59"
      ]
     },
     "execution_count": 27,
     "metadata": {},
     "output_type": "execute_result"
    }
   ],
   "source": [
    "# Theoretical\n",
    "n_trials = round((3 *22)*.9)\n",
    "n_trials"
   ]
  },
  {
   "cell_type": "code",
   "execution_count": 28,
   "id": "94db5e8f",
   "metadata": {},
   "outputs": [
    {
     "data": {
      "text/plain": [
       "0.8342199288437352"
      ]
     },
     "execution_count": 28,
     "metadata": {},
     "output_type": "execute_result"
    }
   ],
   "source": [
    "p = 0.03\n",
    "\n",
    "stats.binom(n_trials, p).sf(0)"
   ]
  },
  {
   "cell_type": "code",
   "execution_count": 29,
   "id": "692347ff",
   "metadata": {},
   "outputs": [
    {
     "data": {
      "text/plain": [
       "0.83435"
      ]
     },
     "execution_count": 29,
     "metadata": {},
     "output_type": "execute_result"
    }
   ],
   "source": [
    "# Experimental\n",
    "(stats.binom(n_trials, p).rvs(100_000) >= 1).mean()\n"
   ]
  },
  {
   "cell_type": "markdown",
   "id": "ee8770e1",
   "metadata": {},
   "source": [
    "### -How likely is it that it goes two days without getting cleaned up? "
   ]
  },
  {
   "cell_type": "code",
   "execution_count": 213,
   "id": "ce89a4a7",
   "metadata": {},
   "outputs": [
    {
     "data": {
      "text/plain": [
       "0.026821436301628997"
      ]
     },
     "execution_count": 213,
     "metadata": {},
     "output_type": "execute_result"
    }
   ],
   "source": [
    "# Theoretical\n",
    "stats.binom(n_trials * 2, p).pmf(0)"
   ]
  },
  {
   "cell_type": "code",
   "execution_count": 30,
   "id": "22cab8ac",
   "metadata": {},
   "outputs": [
    {
     "data": {
      "text/plain": [
       "0.02746"
      ]
     },
     "execution_count": 30,
     "metadata": {},
     "output_type": "execute_result"
    }
   ],
   "source": [
    "# Experimental\n",
    "(stats.binom(n_trials * 2, p).rvs(100_000) == 0).mean()"
   ]
  },
  {
   "cell_type": "markdown",
   "id": "0e38b2ea",
   "metadata": {},
   "source": [
    "### - All week?"
   ]
  },
  {
   "cell_type": "code",
   "execution_count": 33,
   "id": "107428e9",
   "metadata": {},
   "outputs": [
    {
     "data": {
      "text/plain": [
       "0.00012521651388091245"
      ]
     },
     "execution_count": 33,
     "metadata": {},
     "output_type": "execute_result"
    }
   ],
   "source": [
    "# Theoretical\n",
    "stats.binom(n_trials * 5, p).pmf(0)"
   ]
  },
  {
   "cell_type": "code",
   "execution_count": 34,
   "id": "99b875f6",
   "metadata": {},
   "outputs": [
    {
     "data": {
      "text/plain": [
       "0.0001"
      ]
     },
     "execution_count": 34,
     "metadata": {},
     "output_type": "execute_result"
    }
   ],
   "source": [
    "# Experimental\n",
    "\n",
    "(stats.binom(n_trials * 5, p).rvs(100_000) == 0).mean()"
   ]
  },
  {
   "cell_type": "markdown",
   "id": "3cf7c56f",
   "metadata": {},
   "source": [
    "### 6. You want to get lunch at La Panaderia, but notice that the line is usually very long at lunchtime. After several weeks of careful observation, you notice that the average number of people in line when your lunch break starts is normally distributed with a mean of 15 and standard deviation of 3. \n",
    "\n",
    "### If it takes \n",
    "### - 2 minutes for each person to order, and \n",
    "### -10 minutes from ordering to getting your food, \n",
    "### - what is the likelihood that you have at least 15 minutes left to eat your food before you have to go back to class? \n",
    "\n",
    "#### Assume you have one hour for lunch, and ignore travel time to and from La Panaderia."
   ]
  },
  {
   "cell_type": "code",
   "execution_count": 228,
   "id": "bfebb994",
   "metadata": {},
   "outputs": [
    {
     "data": {
      "text/plain": [
       "0.6914624612740131"
      ]
     },
     "execution_count": 228,
     "metadata": {},
     "output_type": "execute_result"
    }
   ],
   "source": [
    "# Theoretical\n",
    "\n",
    "μ = 15 * 2  # mean_people * 2 min to order\n",
    "σ = 3 * 2    # stddev_people * 2 min to order\n",
    "\n",
    "lunch_hour = 60\n",
    "order_time = 2\n",
    "wait_time = 10\n",
    "eat_time = 15\n",
    "\n",
    "time_needed = order_time + wait_time + eat_time\n",
    "time_remaining = lunch_hour - time_needed\n",
    "# Minimum minutes I need fo rlunch:\n",
    "# 2(order) + 10(wait) + 15(eat) = 27 minutes\n",
    "# I have 33 minutes to wait while still making it back in time.\n",
    "\n",
    "# cdf -> less than or equal to 33\n",
    "\n",
    "stats.norm(μ, σ).cdf(time_remaining)"
   ]
  },
  {
   "cell_type": "code",
   "execution_count": 229,
   "id": "eabdd851",
   "metadata": {},
   "outputs": [
    {
     "data": {
      "text/plain": [
       "0.69063"
      ]
     },
     "execution_count": 229,
     "metadata": {},
     "output_type": "execute_result"
    }
   ],
   "source": [
    "# Experimental\n",
    "(np.random.normal(μ, σ, n_trials) <= time_remaining).mean()"
   ]
  },
  {
   "cell_type": "markdown",
   "id": "90a4e420",
   "metadata": {},
   "source": [
    "### 7. Connect to the employees database and find the average salary of current employees, along with the standard deviation. \n",
    "\n",
    "### For the following questions, calculate the answer based on modeling the employees salaries \n",
    "\n",
    "### with a normal distribution \n",
    "### defined by the calculated mean and standard deviation \n",
    "### then compare this answer to the actual values present in the salaries dataset."
   ]
  },
  {
   "cell_type": "code",
   "execution_count": 37,
   "id": "e945c3e7",
   "metadata": {},
   "outputs": [],
   "source": [
    "from env import get_db_url"
   ]
  },
  {
   "cell_type": "code",
   "execution_count": 38,
   "id": "f1d63c3f",
   "metadata": {},
   "outputs": [],
   "source": [
    "url = get_db_url(\"employees\")"
   ]
  },
  {
   "cell_type": "code",
   "execution_count": 225,
   "id": "aa20457f",
   "metadata": {},
   "outputs": [
    {
     "data": {
      "text/html": [
       "<div>\n",
       "<style scoped>\n",
       "    .dataframe tbody tr th:only-of-type {\n",
       "        vertical-align: middle;\n",
       "    }\n",
       "\n",
       "    .dataframe tbody tr th {\n",
       "        vertical-align: top;\n",
       "    }\n",
       "\n",
       "    .dataframe thead th {\n",
       "        text-align: right;\n",
       "    }\n",
       "</style>\n",
       "<table border=\"1\" class=\"dataframe\">\n",
       "  <thead>\n",
       "    <tr style=\"text-align: right;\">\n",
       "      <th></th>\n",
       "      <th>emp_no</th>\n",
       "      <th>salary</th>\n",
       "      <th>from_date</th>\n",
       "      <th>to_date</th>\n",
       "    </tr>\n",
       "  </thead>\n",
       "  <tbody>\n",
       "    <tr>\n",
       "      <th>0</th>\n",
       "      <td>10001</td>\n",
       "      <td>60117</td>\n",
       "      <td>1986-06-26</td>\n",
       "      <td>1987-06-26</td>\n",
       "    </tr>\n",
       "    <tr>\n",
       "      <th>1</th>\n",
       "      <td>10001</td>\n",
       "      <td>62102</td>\n",
       "      <td>1987-06-26</td>\n",
       "      <td>1988-06-25</td>\n",
       "    </tr>\n",
       "    <tr>\n",
       "      <th>2</th>\n",
       "      <td>10001</td>\n",
       "      <td>66074</td>\n",
       "      <td>1988-06-25</td>\n",
       "      <td>1989-06-25</td>\n",
       "    </tr>\n",
       "    <tr>\n",
       "      <th>3</th>\n",
       "      <td>10001</td>\n",
       "      <td>66596</td>\n",
       "      <td>1989-06-25</td>\n",
       "      <td>1990-06-25</td>\n",
       "    </tr>\n",
       "    <tr>\n",
       "      <th>4</th>\n",
       "      <td>10001</td>\n",
       "      <td>66961</td>\n",
       "      <td>1990-06-25</td>\n",
       "      <td>1991-06-25</td>\n",
       "    </tr>\n",
       "    <tr>\n",
       "      <th>...</th>\n",
       "      <td>...</td>\n",
       "      <td>...</td>\n",
       "      <td>...</td>\n",
       "      <td>...</td>\n",
       "    </tr>\n",
       "    <tr>\n",
       "      <th>2844042</th>\n",
       "      <td>499999</td>\n",
       "      <td>63707</td>\n",
       "      <td>1997-11-30</td>\n",
       "      <td>1998-11-30</td>\n",
       "    </tr>\n",
       "    <tr>\n",
       "      <th>2844043</th>\n",
       "      <td>499999</td>\n",
       "      <td>67043</td>\n",
       "      <td>1998-11-30</td>\n",
       "      <td>1999-11-30</td>\n",
       "    </tr>\n",
       "    <tr>\n",
       "      <th>2844044</th>\n",
       "      <td>499999</td>\n",
       "      <td>70745</td>\n",
       "      <td>1999-11-30</td>\n",
       "      <td>2000-11-29</td>\n",
       "    </tr>\n",
       "    <tr>\n",
       "      <th>2844045</th>\n",
       "      <td>499999</td>\n",
       "      <td>74327</td>\n",
       "      <td>2000-11-29</td>\n",
       "      <td>2001-11-29</td>\n",
       "    </tr>\n",
       "    <tr>\n",
       "      <th>2844046</th>\n",
       "      <td>499999</td>\n",
       "      <td>77303</td>\n",
       "      <td>2001-11-29</td>\n",
       "      <td>9999-01-01</td>\n",
       "    </tr>\n",
       "  </tbody>\n",
       "</table>\n",
       "<p>2844047 rows × 4 columns</p>\n",
       "</div>"
      ],
      "text/plain": [
       "         emp_no  salary   from_date     to_date\n",
       "0         10001   60117  1986-06-26  1987-06-26\n",
       "1         10001   62102  1987-06-26  1988-06-25\n",
       "2         10001   66074  1988-06-25  1989-06-25\n",
       "3         10001   66596  1989-06-25  1990-06-25\n",
       "4         10001   66961  1990-06-25  1991-06-25\n",
       "...         ...     ...         ...         ...\n",
       "2844042  499999   63707  1997-11-30  1998-11-30\n",
       "2844043  499999   67043  1998-11-30  1999-11-30\n",
       "2844044  499999   70745  1999-11-30  2000-11-29\n",
       "2844045  499999   74327  2000-11-29  2001-11-29\n",
       "2844046  499999   77303  2001-11-29  9999-01-01\n",
       "\n",
       "[2844047 rows x 4 columns]"
      ]
     },
     "execution_count": 225,
     "metadata": {},
     "output_type": "execute_result"
    }
   ],
   "source": [
    "#Connect to the Employee Salaries Table in the Employees Database\n",
    "\n",
    "query = \"select * from salaries\"\n",
    "url = get_db_url('employees')\n",
    "pd.read_sql(query, url)"
   ]
  },
  {
   "cell_type": "code",
   "execution_count": 39,
   "id": "36850c36",
   "metadata": {},
   "outputs": [],
   "source": [
    "# Filter for current employees\n",
    "\n",
    "query = '''\n",
    "SELECT * \n",
    "FROM salaries s\n",
    "WHERE s.to_date > NOW()\n",
    "'''\n",
    "url = get_db_url('employees')\n",
    "\n",
    "current_salaries = pd.read_sql(query, url)"
   ]
  },
  {
   "cell_type": "code",
   "execution_count": 40,
   "id": "f2c88d1e",
   "metadata": {},
   "outputs": [
    {
     "data": {
      "text/plain": [
       "72012.23585730705"
      ]
     },
     "execution_count": 40,
     "metadata": {},
     "output_type": "execute_result"
    }
   ],
   "source": [
    "# Calculated Mean\n",
    "μ = current_salaries.salary.mean()\n",
    "μ"
   ]
  },
  {
   "cell_type": "code",
   "execution_count": 41,
   "id": "66193fab",
   "metadata": {},
   "outputs": [
    {
     "data": {
      "text/plain": [
       "17309.99538025198"
      ]
     },
     "execution_count": 41,
     "metadata": {},
     "output_type": "execute_result"
    }
   ],
   "source": [
    "# Calculated Standard Deviation\n",
    "σ = current_salaries.salary.std()\n",
    "σ"
   ]
  },
  {
   "cell_type": "markdown",
   "id": "7def5ef0",
   "metadata": {},
   "source": [
    "### a. What percent of employees earn less than 60,000?"
   ]
  },
  {
   "cell_type": "code",
   "execution_count": 42,
   "id": "5196bba1",
   "metadata": {},
   "outputs": [
    {
     "data": {
      "text/plain": [
       "0.24385742480214423"
      ]
     },
     "execution_count": 42,
     "metadata": {},
     "output_type": "execute_result"
    }
   ],
   "source": [
    "# Theoretical\n",
    "stats.norm(μ, σ).cdf(60_000)"
   ]
  },
  {
   "cell_type": "code",
   "execution_count": 43,
   "id": "4a447016",
   "metadata": {},
   "outputs": [
    {
     "data": {
      "text/plain": [
       "0.2705727041028802"
      ]
     },
     "execution_count": 43,
     "metadata": {},
     "output_type": "execute_result"
    }
   ],
   "source": [
    "# Actual\n",
    "(current_salaries.salary < 60_000).mean()"
   ]
  },
  {
   "cell_type": "markdown",
   "id": "36ba39bc",
   "metadata": {},
   "source": [
    "### b. What percent of employees earn more than 95,000?"
   ]
  },
  {
   "cell_type": "code",
   "execution_count": 44,
   "id": "aa4a41fe",
   "metadata": {},
   "outputs": [
    {
     "data": {
      "text/plain": [
       "0.09208819199804053"
      ]
     },
     "execution_count": 44,
     "metadata": {},
     "output_type": "execute_result"
    }
   ],
   "source": [
    "# Theoretical\n",
    "stats.norm(μ, σ).sf(95_000)"
   ]
  },
  {
   "cell_type": "code",
   "execution_count": 45,
   "id": "e3946fcd",
   "metadata": {},
   "outputs": [
    {
     "data": {
      "text/plain": [
       "0.1086272092752078"
      ]
     },
     "execution_count": 45,
     "metadata": {},
     "output_type": "execute_result"
    }
   ],
   "source": [
    "# Actual\n",
    "(current_salaries.salary > 95_000).mean()"
   ]
  },
  {
   "cell_type": "markdown",
   "id": "43cfef57",
   "metadata": {},
   "source": [
    "### c. What percent of employees earn between 65,000 and 80,000?"
   ]
  },
  {
   "cell_type": "code",
   "execution_count": 46,
   "id": "91a297b4",
   "metadata": {},
   "outputs": [
    {
     "data": {
      "text/plain": [
       "0.3350605685446666"
      ]
     },
     "execution_count": 46,
     "metadata": {},
     "output_type": "execute_result"
    }
   ],
   "source": [
    "# Theoretical\n",
    "(stats.norm(μ,σ).cdf(80_000) - stats.norm(μ,σ).cdf(65_000)).mean()"
   ]
  },
  {
   "cell_type": "code",
   "execution_count": 47,
   "id": "1262b660",
   "metadata": {},
   "outputs": [
    {
     "data": {
      "text/plain": [
       "0.325107028035515"
      ]
     },
     "execution_count": 47,
     "metadata": {},
     "output_type": "execute_result"
    }
   ],
   "source": [
    "# Actual\n",
    "((current_salaries.salary > 65_000) & (current_salaries.salary < 80_000)).mean()"
   ]
  },
  {
   "cell_type": "markdown",
   "id": "f9bd7580",
   "metadata": {},
   "source": [
    "### d. What do the top 5% of employees make?"
   ]
  },
  {
   "cell_type": "code",
   "execution_count": 48,
   "id": "6aea0f1f",
   "metadata": {},
   "outputs": [
    {
     "data": {
      "text/plain": [
       "100484.64454102777"
      ]
     },
     "execution_count": 48,
     "metadata": {},
     "output_type": "execute_result"
    }
   ],
   "source": [
    "# Theoretical\n",
    "stats.norm(μ, σ).isf(0.05)"
   ]
  },
  {
   "cell_type": "code",
   "execution_count": 52,
   "id": "e5a58785",
   "metadata": {},
   "outputs": [
    {
     "data": {
      "text/plain": [
       "104225.84999999998"
      ]
     },
     "execution_count": 52,
     "metadata": {},
     "output_type": "execute_result"
    }
   ],
   "source": [
    "# Actual\n",
    "current_salaries.salary.quantile(0.95)"
   ]
  },
  {
   "cell_type": "markdown",
   "id": "53d779af",
   "metadata": {},
   "source": [
    "### Hint If you're looking at this exercise and wondering \"How do I get pandas to talk the database, again?\", remember that you'll need 3 things: your .gitignore, your env.py, and to use pd.read_sql.\n",
    "\n",
    "### Be sure to run the following 2 commands from your terminal: \n",
    "\n",
    "### 1. cp ~/codeup-data-science/numpy-pandas-visualization-exercises/.gitignore ~/codeup-data-science/statistics-exercises to ensure that your stats repo has a known-good gitignore \n",
    "\n",
    "### 2. cp ~/codeup-data-science/numpy-pandas-exercises/env.py ~/codeup-data-science/statistics-exercises to ensure that pandas will have access to your db credentials."
   ]
  }
 ],
 "metadata": {
  "kernelspec": {
   "display_name": "Python 3 (ipykernel)",
   "language": "python",
   "name": "python3"
  },
  "language_info": {
   "codemirror_mode": {
    "name": "ipython",
    "version": 3
   },
   "file_extension": ".py",
   "mimetype": "text/x-python",
   "name": "python",
   "nbconvert_exporter": "python",
   "pygments_lexer": "ipython3",
   "version": "3.9.7"
  }
 },
 "nbformat": 4,
 "nbformat_minor": 5
}
