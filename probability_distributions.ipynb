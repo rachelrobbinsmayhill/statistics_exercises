{
 "cells": [
  {
   "cell_type": "markdown",
   "id": "4a4598e2",
   "metadata": {},
   "source": [
    "# Probability Distributions"
   ]
  },
  {
   "cell_type": "markdown",
   "id": "03f28d66",
   "metadata": {},
   "source": [
    "#### For the following problems, use python to simulate the problem and calculate an experimental probability, then compare that to the theoretical probability."
   ]
  },
  {
   "cell_type": "markdown",
   "id": "7933dde8",
   "metadata": {},
   "source": [
    "### 1. A bank found that the average number of cars waiting during the noon hour at a drive-up window follows a Poisson distribution with a mean of 2 cars. Make a chart of this distribution and answer these questions concerning the probability of cars waiting at the drive-up window."
   ]
  },
  {
   "cell_type": "markdown",
   "id": "726fdd66",
   "metadata": {},
   "source": [
    "### - What is the probability that no cars drive up in the noon hour?\n",
    "### - What is the probability that 3 or more cars come through the drive through?\n",
    "### -How likely is it that the drive through gets at least 1 car?"
   ]
  },
  {
   "cell_type": "markdown",
   "id": "7bc4f273",
   "metadata": {},
   "source": [
    "###  1. Experimental "
   ]
  },
  {
   "cell_type": "markdown",
   "id": "c34f6077",
   "metadata": {},
   "source": [
    "### 1. Theoretical"
   ]
  },
  {
   "cell_type": "markdown",
   "id": "72df05ee",
   "metadata": {},
   "source": [
    "### 2. Grades of State University graduates are normally distributed with a mean of 3.0 and a standard deviation of .3. Calculate the following:\n",
    "\n",
    "### - What grade point average is required to be in the top 5% of the graduating class?\n",
    "### - What GPA constitutes the bottom 15% of the class?\n",
    "### - An eccentric alumnus left scholarship money for students in the third decile from the bottom of their class. Determine the range of the third decile. Would a student with a 2.8 grade point average qualify for this scholarship?\n",
    "### - If I have a GPA of 3.5, what percentile am I in?"
   ]
  },
  {
   "cell_type": "markdown",
   "id": "7836eb11",
   "metadata": {},
   "source": [
    "###  2. Experimental "
   ]
  },
  {
   "cell_type": "code",
   "execution_count": null,
   "id": "4f73ac5b",
   "metadata": {},
   "outputs": [],
   "source": []
  },
  {
   "cell_type": "markdown",
   "id": "a5895798",
   "metadata": {},
   "source": [
    "### 2. Theoretical"
   ]
  },
  {
   "cell_type": "code",
   "execution_count": null,
   "id": "219d3f0a",
   "metadata": {},
   "outputs": [],
   "source": []
  },
  {
   "cell_type": "markdown",
   "id": "90449156",
   "metadata": {},
   "source": [
    "### 3. A marketing website has an average click-through rate of 2%. One day they observe 4326 visitors and 97 click-throughs. How likely is it that this many people or more click through?"
   ]
  },
  {
   "cell_type": "markdown",
   "id": "d26326c4",
   "metadata": {},
   "source": [
    "###  3. Experimental "
   ]
  },
  {
   "cell_type": "markdown",
   "id": "3b542875",
   "metadata": {},
   "source": [
    "### 3. Theoretical"
   ]
  },
  {
   "cell_type": "markdown",
   "id": "450e6220",
   "metadata": {},
   "source": [
    "### 4. You are working on some statistics homework consisting of 100 questions where all of the answers are a probability rounded to the hundreths place. Looking to save time, you put down random probabilities as the answer to each question.\n",
    "\n",
    "### - What is the probability that at least one of your first 60 answers is correct?"
   ]
  },
  {
   "cell_type": "markdown",
   "id": "cd39a7df",
   "metadata": {},
   "source": [
    "###  4. Experimental "
   ]
  },
  {
   "cell_type": "markdown",
   "id": "97edae7e",
   "metadata": {},
   "source": [
    "### 4. Theoretical"
   ]
  },
  {
   "cell_type": "markdown",
   "id": "961be7e3",
   "metadata": {},
   "source": [
    "### 5. The codeup staff tends to get upset when the student break area is not cleaned up. Suppose that there's a 3% chance that any one student cleans the break area when they visit it, and, on any given day, about 90% of the 3 active cohorts of 22 students visit the break area. How likely is it that the break area gets cleaned up each day? How likely is it that it goes two days without getting cleaned up? All week?"
   ]
  },
  {
   "cell_type": "markdown",
   "id": "f724a7c7",
   "metadata": {},
   "source": [
    "###  5. Experimental "
   ]
  },
  {
   "cell_type": "markdown",
   "id": "d2a2d6ab",
   "metadata": {},
   "source": [
    "### 5. Theoretical"
   ]
  },
  {
   "cell_type": "markdown",
   "id": "2187ac48",
   "metadata": {},
   "source": [
    "### 6. You want to get lunch at La Panaderia, but notice that the line is usually very long at lunchtime. After several weeks of careful observation, you notice that the average number of people in line when your lunch break starts is normally distributed with a mean of 15 and standard deviation of 3. If it takes 2 minutes for each person to order, and 10 minutes from ordering to getting your food, what is the likelihood that you have at least 15 minutes left to eat your food before you have to go back to class? Assume you have one hour for lunch, and ignore travel time to and from La Panaderia."
   ]
  },
  {
   "cell_type": "markdown",
   "id": "cdd8f47a",
   "metadata": {},
   "source": [
    "###  6. Experimental "
   ]
  },
  {
   "cell_type": "markdown",
   "id": "e676507d",
   "metadata": {},
   "source": [
    "### 6. Theoretical"
   ]
  },
  {
   "cell_type": "markdown",
   "id": "440ac009",
   "metadata": {},
   "source": [
    "### 7. Connect to the employees database and find the average salary of current employees, along with the standard deviation. For the following questions, calculate the answer based on modeling the employees salaries with a normal distribution defined by the calculated mean and standard deviation then compare this answer to the actual values present in the salaries dataset.\n",
    "\n",
    "### a. What percent of employees earn less than 60,000?\n",
    "### b. What percent of employees earn more than 95,000?\n",
    "### c. What percent of employees earn between 65,000 and 80,000?\n",
    "### d. What do the top 5% of employees make?\n",
    "\n",
    "### Hint If you're looking at this exercise and wondering \"How do I get pandas to talk the database, again?\", remember that you'll need 3 things: your .gitignore, your env.py, and to use pd.read_sql.\n",
    "\n",
    "### Be sure to run the following 2 commands from your terminal: 1. cp ~/codeup-data-science/numpy-pandas-visualization-exercises/.gitignore ~/codeup-data-science/statistics-exercises to ensure that your stats repo has a known-good gitignore 2. cp ~/codeup-data-science/numpy-pandas-exercises/env.py ~/codeup-data-science/statistics-exercises to ensure that pandas will have access to your db credentials.\n"
   ]
  },
  {
   "cell_type": "markdown",
   "id": "d5e22002",
   "metadata": {},
   "source": [
    "###  7. Experimental "
   ]
  },
  {
   "cell_type": "markdown",
   "id": "f7811ad3",
   "metadata": {},
   "source": [
    "### 7. Theoretical"
   ]
  },
  {
   "cell_type": "code",
   "execution_count": null,
   "id": "903a77de",
   "metadata": {},
   "outputs": [],
   "source": []
  }
 ],
 "metadata": {
  "kernelspec": {
   "display_name": "Python 3 (ipykernel)",
   "language": "python",
   "name": "python3"
  },
  "language_info": {
   "codemirror_mode": {
    "name": "ipython",
    "version": 3
   },
   "file_extension": ".py",
   "mimetype": "text/x-python",
   "name": "python",
   "nbconvert_exporter": "python",
   "pygments_lexer": "ipython3",
   "version": "3.9.7"
  }
 },
 "nbformat": 4,
 "nbformat_minor": 5
}
