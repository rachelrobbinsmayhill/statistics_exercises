{
 "cells": [
  {
   "cell_type": "markdown",
   "id": "84b5f67a",
   "metadata": {},
   "source": [
    "## Hypothesis Testing"
   ]
  },
  {
   "cell_type": "markdown",
   "id": "399794cb",
   "metadata": {},
   "source": [
    "#### For each of the following questions, \n",
    "#### - formulate a null and alternative hypothesis (be as specific as you can be), then give an example of what a true positive, true negative, type I and type II errors would look like. \n",
    "\n",
    "#### Note that some of the questions are intentionally phrased in a vague way. It is your job to reword these as more precise questions that could be tested."
   ]
  },
  {
   "cell_type": "markdown",
   "id": "1742be1c",
   "metadata": {},
   "source": [
    "### 1. Has the network latency gone up since we switched internet service providers?\n"
   ]
  },
  {
   "cell_type": "markdown",
   "id": "fd31cc7c",
   "metadata": {},
   "source": [
    "#### 1. - Null Hypothesis\n",
    "\n",
    "There is no difference in network latency since changing internet providers."
   ]
  },
  {
   "cell_type": "markdown",
   "id": "05cf08bc",
   "metadata": {},
   "source": [
    "#### 1. - Alternative Hypothesis\n",
    "\n",
    "There is a difference in network latency since changing internet providers."
   ]
  },
  {
   "cell_type": "markdown",
   "id": "c6ca2c22",
   "metadata": {},
   "source": [
    "#### 1. - True Positive\n",
    "\n",
    "There IS a difference in network latency and we conclude there is a difference in network latency. "
   ]
  },
  {
   "cell_type": "markdown",
   "id": "4bee2364",
   "metadata": {},
   "source": [
    "#### 1. - True Negative\n",
    "\n",
    "There is NO difference in network latency and we conclude there is no difference in network latency "
   ]
  },
  {
   "cell_type": "markdown",
   "id": "64b6c391",
   "metadata": {},
   "source": [
    "#### 1. - Type I Error\n",
    "\n",
    "We reject (accepting as false) the hypothesis that there was no difference in latency, when in fact, there was no difference in latency, and the hypothesis was true. \n"
   ]
  },
  {
   "cell_type": "markdown",
   "id": "ecf4ec39",
   "metadata": {},
   "source": [
    "#### 1. - Type II Error\n",
    "\n",
    "We failed to reject (accepting as true) the hypothesis that there was no difference in latency, when in fact, there was a difference in latency, and the hypothesis was false. "
   ]
  },
  {
   "cell_type": "markdown",
   "id": "ba75690a",
   "metadata": {},
   "source": [
    "### 2. Is the website redesign any good?\n"
   ]
  },
  {
   "cell_type": "markdown",
   "id": "d2106f20",
   "metadata": {},
   "source": [
    "#### 2. - Null Hypothesis\n",
    "\n",
    "There is no difference in the number of website visits per day since the redesign date. "
   ]
  },
  {
   "cell_type": "markdown",
   "id": "1f4ee40e",
   "metadata": {},
   "source": [
    "#### 2 - Alternative Hypothesis\n",
    "\n",
    "There is a difference in the number of website visits per day since the redesign date. "
   ]
  },
  {
   "cell_type": "markdown",
   "id": "afebac40",
   "metadata": {},
   "source": [
    "#### 2. - True Positive\n",
    "\n",
    "There IS a difference in website visits per day since the redesign date, and we conclude there is a difference in website visits per day since the redesign date. "
   ]
  },
  {
   "cell_type": "markdown",
   "id": "a67d754a",
   "metadata": {},
   "source": [
    "#### 2. - True Negative\n",
    "\n",
    "There is NO difference in webstie visits per day since the redesign date and we conclude there is no differencce in website visits per day since the redesign date. "
   ]
  },
  {
   "cell_type": "markdown",
   "id": "20cc4a21",
   "metadata": {},
   "source": [
    "#### 2. - Type I Error\n",
    "\n",
    "We reject (accepting as false) the hypothesis that there is no difference in website visists per day since the redesign date, when in fact there is no difference in website visits per day since the redesign date, and the hyposthesis is in fact true. "
   ]
  },
  {
   "cell_type": "markdown",
   "id": "ac3cf7c4",
   "metadata": {},
   "source": [
    "#### 2. - Type II Error\n",
    "\n",
    "We fail to reject (accepting as true) that there is no difference in website visits per day since the redesign date, when in fact there IS a difference in website visists per day since the redesign date, and the hypothesis is in fact false."
   ]
  },
  {
   "cell_type": "markdown",
   "id": "e5279304",
   "metadata": {},
   "source": [
    "### 3. Is our television ad driving more sales?"
   ]
  },
  {
   "cell_type": "markdown",
   "id": "bf89ccb5",
   "metadata": {},
   "source": [
    "#### 3. - Null Hypothesis\n",
    "\n",
    "There is no difference in total sales following the television ad."
   ]
  },
  {
   "cell_type": "markdown",
   "id": "bd7edcab",
   "metadata": {},
   "source": [
    "#### 3. - Alternative Hypothesis\n",
    "There is a difference in total sales following the television ad. "
   ]
  },
  {
   "cell_type": "markdown",
   "id": "97ea6c10",
   "metadata": {},
   "source": [
    "#### 3. - True Positive\n",
    "\n",
    "There IS a difference in total sales following the television ad, and we conclude there is a difference in total sales following the television ad. "
   ]
  },
  {
   "cell_type": "markdown",
   "id": "300dff5b",
   "metadata": {},
   "source": [
    "#### 3. - True Negative\n",
    "There is NO difference in total sales following the television ad, and we conclude there is NO difference in total sales following the television ad."
   ]
  },
  {
   "cell_type": "markdown",
   "id": "ff852209",
   "metadata": {},
   "source": [
    "#### 3. - Type I Error\n",
    "\n",
    "We reject (accepting as false) the hypothesis that there is no difference in sales following the television ad, when in fact there is no difference total sales following the television ad, and the hyposthesis is in fact true. "
   ]
  },
  {
   "cell_type": "markdown",
   "id": "6ad137ad",
   "metadata": {},
   "source": [
    "#### 3. - Type II Error"
   ]
  },
  {
   "cell_type": "markdown",
   "id": "ea402a40",
   "metadata": {},
   "source": [
    "We fail to reject (accepting as true) that there is no difference in sales following the television ad, when in fact there IS a difference in sales following the television ad, and the hypothesis is in fact false."
   ]
  },
  {
   "cell_type": "markdown",
   "id": "0468341b",
   "metadata": {},
   "source": [
    "# T-TEST "
   ]
  },
  {
   "cell_type": "markdown",
   "id": "a5915242",
   "metadata": {},
   "source": [
    "#### Ace Realty wants to determine whether the average time it takes to sell homes is different for its two offices. \n",
    "\n",
    "#### - A sample of 40 sales from office #1 revealed a mean of 90 days and a standard deviation of 15 days. \n",
    "\n",
    "#### - A sample of 50 sales from office #2 revealed a mean of 100 days and a standard deviation of 20 days. \n",
    "- Use a .05 level of significance."
   ]
  },
  {
   "cell_type": "code",
   "execution_count": 1,
   "id": "cf9ff5fb",
   "metadata": {},
   "outputs": [],
   "source": [
    "import matplotlib.pyplot as plt\n",
    "import numpy as np\n",
    "import seaborn as sns\n",
    "import scipy.stats as stats\n",
    "import pandas as pd\n",
    "np.random.seed(123)"
   ]
  },
  {
   "cell_type": "code",
   "execution_count": 2,
   "id": "d5acfde0",
   "metadata": {},
   "outputs": [],
   "source": [
    "# I beleive office 1 sells homes more quickly than office 2. \n",
    "# Is the average number of days it takes to sell a home higher for office 2?"
   ]
  },
  {
   "cell_type": "markdown",
   "id": "47d6b56d",
   "metadata": {},
   "source": [
    "#### - a. Distributions"
   ]
  },
  {
   "cell_type": "code",
   "execution_count": 3,
   "id": "a121f909",
   "metadata": {},
   "outputs": [
    {
     "data": {
      "text/plain": [
       "<AxesSubplot:>"
      ]
     },
     "execution_count": 3,
     "metadata": {},
     "output_type": "execute_result"
    },
    {
     "data": {
      "image/png": "[encoded data removed]",
      "text/plain": [
       "<Figure size 432x288 with 1 Axes>"
      ]
     },
     "metadata": {
      "needs_background": "light"
     },
     "output_type": "display_data"
    }
   ],
   "source": [
    "office_1 = pd.Series(stats.norm(90, 15).rvs(40))\n",
    "office_1.hist()"
   ]
  },
  {
   "cell_type": "code",
   "execution_count": 4,
   "id": "74ba19a5",
   "metadata": {},
   "outputs": [
    {
     "data": {
      "text/plain": [
       "<AxesSubplot:>"
      ]
     },
     "execution_count": 4,
     "metadata": {},
     "output_type": "execute_result"
    },
    {
     "data": {
      "image/png": "[encoded data removed]",
      "text/plain": [
       "<Figure size 432x288 with 1 Axes>"
      ]
     },
     "metadata": {
      "needs_background": "light"
     },
     "output_type": "display_data"
    }
   ],
   "source": [
    "office_2 = pd.Series(stats.norm(100, 20).rvs(50))\n",
    "office_2.hist()"
   ]
  },
  {
   "cell_type": "code",
   "execution_count": 5,
   "id": "3f02410a",
   "metadata": {},
   "outputs": [
    {
     "data": {
      "text/plain": [
       "<matplotlib.legend.Legend at 0x7fd438abaf40>"
      ]
     },
     "execution_count": 5,
     "metadata": {},
     "output_type": "execute_result"
    },
    {
     "data": {
      "image/png": "[encoded data removed]",
      "text/plain": [
       "<Figure size 432x288 with 1 Axes>"
      ]
     },
     "metadata": {
      "needs_background": "light"
     },
     "output_type": "display_data"
    }
   ],
   "source": [
    "x = np.arange(50, 150)\n",
    "\n",
    "y1 = stats.norm(90, 15).pdf(x)\n",
    "y2 = stats.norm(100, 20).pdf(x)\n",
    "\n",
    "\n",
    "plt.plot(x, y1, c='blue', label = 'Office 1')\n",
    "plt.plot(x, y2, c='orange', label = 'Office 2')\n",
    "\n",
    "\n",
    "plt.ylabel('Frequency %')\n",
    "plt.xlabel('Number of Days')\n",
    "plt.title('Average Number of Days to Sell Home')\n",
    "plt.legend()"
   ]
  },
  {
   "cell_type": "markdown",
   "id": "918028ce",
   "metadata": {},
   "source": [
    "#### - b. Set Hypothesis"
   ]
  },
  {
   "cell_type": "code",
   "execution_count": 6,
   "id": "4f87b556",
   "metadata": {},
   "outputs": [],
   "source": [
    "# HO - Mean sale time of Office 1 == mean sale time of Office 2. \n",
    "# Ha - Mean sale time of Office 1 != the mean sale time of Office 2. "
   ]
  },
  {
   "cell_type": "markdown",
   "id": "8e43f0a9",
   "metadata": {},
   "source": [
    "#### - c. Set Alpha"
   ]
  },
  {
   "cell_type": "code",
   "execution_count": 7,
   "id": "8ad3ba19",
   "metadata": {},
   "outputs": [],
   "source": [
    "α = 0.05"
   ]
  },
  {
   "cell_type": "markdown",
   "id": "382902bd",
   "metadata": {},
   "source": [
    "#### - d. Assumptions"
   ]
  },
  {
   "cell_type": "markdown",
   "id": "1a7be5b0",
   "metadata": {},
   "source": [
    "#### Normal: Yes!\n",
    "#### Independent: Yes!\n",
    "#### Variance:"
   ]
  },
  {
   "cell_type": "code",
   "execution_count": 8,
   "id": "831142f3",
   "metadata": {},
   "outputs": [
    {
     "data": {
      "text/plain": [
       "225"
      ]
     },
     "execution_count": 8,
     "metadata": {},
     "output_type": "execute_result"
    }
   ],
   "source": [
    "office_1_var = 15**2\n",
    "office_1_var"
   ]
  },
  {
   "cell_type": "code",
   "execution_count": 9,
   "id": "07d9618e",
   "metadata": {},
   "outputs": [
    {
     "data": {
      "text/plain": [
       "400"
      ]
     },
     "execution_count": 9,
     "metadata": {},
     "output_type": "execute_result"
    }
   ],
   "source": [
    "office_2_var = 20**2\n",
    "office_2_var"
   ]
  },
  {
   "cell_type": "markdown",
   "id": "0d7f8380",
   "metadata": {},
   "source": [
    "#### - e. Compute Test Statistics"
   ]
  },
  {
   "cell_type": "code",
   "execution_count": 10,
   "id": "7872f90c",
   "metadata": {},
   "outputs": [
    {
     "data": {
      "text/plain": [
       "(-2.7091418459143854, 0.00811206270346016)"
      ]
     },
     "execution_count": 10,
     "metadata": {},
     "output_type": "execute_result"
    }
   ],
   "source": [
    "\n",
    "mean1 = 90\n",
    "std1 = 15\n",
    "nobs1 = 40\n",
    "\n",
    "mean2 = 100 \n",
    "std2 = 20\n",
    "nobs2 = 50\n",
    "\n",
    "# equal_var=False \n",
    "# alternative='two-sided'\n",
    "\n",
    "\n",
    "t, p = stats.ttest_ind_from_stats(mean1, std1, nobs1, mean2, std2, nobs2, equal_var=False)\n",
    "t, p"
   ]
  },
  {
   "cell_type": "markdown",
   "id": "fa3c3b94",
   "metadata": {},
   "source": [
    "#### - f.   Decide"
   ]
  },
  {
   "cell_type": "code",
   "execution_count": 11,
   "id": "419a0b77",
   "metadata": {},
   "outputs": [
    {
     "name": "stdout",
     "output_type": "stream",
     "text": [
      "We reject the H0\n"
     ]
    }
   ],
   "source": [
    "# Check if p < α\n",
    "\n",
    "if p < α:\n",
    "    print(\"We reject the H0\")\n",
    "else:\n",
    "    print(\"We fail to reject H0\")"
   ]
  },
  {
   "cell_type": "markdown",
   "id": "82f7a877",
   "metadata": {},
   "source": [
    "#### -Load the mpg dataset and use it to answer the following questions:"
   ]
  },
  {
   "cell_type": "code",
   "execution_count": 12,
   "id": "42b02fc7",
   "metadata": {},
   "outputs": [],
   "source": [
    "import matplotlib.pyplot as plt\n",
    "import numpy as np\n",
    "import seaborn as sns\n",
    "import scipy.stats as stats\n",
    "import pandas as pd\n",
    "np.random.seed(123)"
   ]
  },
  {
   "cell_type": "code",
   "execution_count": 13,
   "id": "ce88ec20",
   "metadata": {},
   "outputs": [],
   "source": [
    "from pydataset import data\n",
    "mpg = data('mpg') "
   ]
  },
  {
   "cell_type": "code",
   "execution_count": 14,
   "id": "fe14a6e4",
   "metadata": {},
   "outputs": [
    {
     "data": {
      "text/html": [
       "<div>\n",
       "<style scoped>\n",
       "    .dataframe tbody tr th:only-of-type {\n",
       "        vertical-align: middle;\n",
       "    }\n",
       "\n",
       "    .dataframe tbody tr th {\n",
       "        vertical-align: top;\n",
       "    }\n",
       "\n",
       "    .dataframe thead th {\n",
       "        text-align: right;\n",
       "    }\n",
       "</style>\n",
       "<table border=\"1\" class=\"dataframe\">\n",
       "  <thead>\n",
       "    <tr style=\"text-align: right;\">\n",
       "      <th></th>\n",
       "      <th>manufacturer</th>\n",
       "      <th>model</th>\n",
       "      <th>displ</th>\n",
       "      <th>year</th>\n",
       "      <th>cyl</th>\n",
       "      <th>trans</th>\n",
       "      <th>drv</th>\n",
       "      <th>cty</th>\n",
       "      <th>hwy</th>\n",
       "      <th>fl</th>\n",
       "      <th>class</th>\n",
       "    </tr>\n",
       "  </thead>\n",
       "  <tbody>\n",
       "    <tr>\n",
       "      <th>1</th>\n",
       "      <td>audi</td>\n",
       "      <td>a4</td>\n",
       "      <td>1.8</td>\n",
       "      <td>1999</td>\n",
       "      <td>4</td>\n",
       "      <td>auto(l5)</td>\n",
       "      <td>f</td>\n",
       "      <td>18</td>\n",
       "      <td>29</td>\n",
       "      <td>p</td>\n",
       "      <td>compact</td>\n",
       "    </tr>\n",
       "    <tr>\n",
       "      <th>2</th>\n",
       "      <td>audi</td>\n",
       "      <td>a4</td>\n",
       "      <td>1.8</td>\n",
       "      <td>1999</td>\n",
       "      <td>4</td>\n",
       "      <td>manual(m5)</td>\n",
       "      <td>f</td>\n",
       "      <td>21</td>\n",
       "      <td>29</td>\n",
       "      <td>p</td>\n",
       "      <td>compact</td>\n",
       "    </tr>\n",
       "    <tr>\n",
       "      <th>3</th>\n",
       "      <td>audi</td>\n",
       "      <td>a4</td>\n",
       "      <td>2.0</td>\n",
       "      <td>2008</td>\n",
       "      <td>4</td>\n",
       "      <td>manual(m6)</td>\n",
       "      <td>f</td>\n",
       "      <td>20</td>\n",
       "      <td>31</td>\n",
       "      <td>p</td>\n",
       "      <td>compact</td>\n",
       "    </tr>\n",
       "    <tr>\n",
       "      <th>4</th>\n",
       "      <td>audi</td>\n",
       "      <td>a4</td>\n",
       "      <td>2.0</td>\n",
       "      <td>2008</td>\n",
       "      <td>4</td>\n",
       "      <td>auto(av)</td>\n",
       "      <td>f</td>\n",
       "      <td>21</td>\n",
       "      <td>30</td>\n",
       "      <td>p</td>\n",
       "      <td>compact</td>\n",
       "    </tr>\n",
       "    <tr>\n",
       "      <th>5</th>\n",
       "      <td>audi</td>\n",
       "      <td>a4</td>\n",
       "      <td>2.8</td>\n",
       "      <td>1999</td>\n",
       "      <td>6</td>\n",
       "      <td>auto(l5)</td>\n",
       "      <td>f</td>\n",
       "      <td>16</td>\n",
       "      <td>26</td>\n",
       "      <td>p</td>\n",
       "      <td>compact</td>\n",
       "    </tr>\n",
       "  </tbody>\n",
       "</table>\n",
       "</div>"
      ],
      "text/plain": [
       "  manufacturer model  displ  year  cyl       trans drv  cty  hwy fl    class\n",
       "1         audi    a4    1.8  1999    4    auto(l5)   f   18   29  p  compact\n",
       "2         audi    a4    1.8  1999    4  manual(m5)   f   21   29  p  compact\n",
       "3         audi    a4    2.0  2008    4  manual(m6)   f   20   31  p  compact\n",
       "4         audi    a4    2.0  2008    4    auto(av)   f   21   30  p  compact\n",
       "5         audi    a4    2.8  1999    6    auto(l5)   f   16   26  p  compact"
      ]
     },
     "execution_count": 14,
     "metadata": {},
     "output_type": "execute_result"
    }
   ],
   "source": [
    "mpg.head()"
   ]
  },
  {
   "cell_type": "markdown",
   "id": "007d1f26",
   "metadata": {},
   "source": [
    "### 1. Is there a difference in fuel-efficiency in cars from 2008 vs 1999?"
   ]
  },
  {
   "cell_type": "markdown",
   "id": "107506f3",
   "metadata": {},
   "source": [
    "#### - a. Distributions"
   ]
  },
  {
   "cell_type": "code",
   "execution_count": 15,
   "id": "9fd14a3f",
   "metadata": {},
   "outputs": [],
   "source": [
    "mpg['fuel_efficiency'] = (mpg.cty + mpg.hwy) / 2"
   ]
  },
  {
   "cell_type": "code",
   "execution_count": 16,
   "id": "d7ee0ba0",
   "metadata": {},
   "outputs": [
    {
     "data": {
      "text/html": [
       "<div>\n",
       "<style scoped>\n",
       "    .dataframe tbody tr th:only-of-type {\n",
       "        vertical-align: middle;\n",
       "    }\n",
       "\n",
       "    .dataframe tbody tr th {\n",
       "        vertical-align: top;\n",
       "    }\n",
       "\n",
       "    .dataframe thead th {\n",
       "        text-align: right;\n",
       "    }\n",
       "</style>\n",
       "<table border=\"1\" class=\"dataframe\">\n",
       "  <thead>\n",
       "    <tr style=\"text-align: right;\">\n",
       "      <th></th>\n",
       "      <th>manufacturer</th>\n",
       "      <th>model</th>\n",
       "      <th>displ</th>\n",
       "      <th>year</th>\n",
       "      <th>cyl</th>\n",
       "      <th>trans</th>\n",
       "      <th>drv</th>\n",
       "      <th>cty</th>\n",
       "      <th>hwy</th>\n",
       "      <th>fl</th>\n",
       "      <th>class</th>\n",
       "      <th>fuel_efficiency</th>\n",
       "    </tr>\n",
       "  </thead>\n",
       "  <tbody>\n",
       "    <tr>\n",
       "      <th>1</th>\n",
       "      <td>audi</td>\n",
       "      <td>a4</td>\n",
       "      <td>1.8</td>\n",
       "      <td>1999</td>\n",
       "      <td>4</td>\n",
       "      <td>auto(l5)</td>\n",
       "      <td>f</td>\n",
       "      <td>18</td>\n",
       "      <td>29</td>\n",
       "      <td>p</td>\n",
       "      <td>compact</td>\n",
       "      <td>23.5</td>\n",
       "    </tr>\n",
       "    <tr>\n",
       "      <th>2</th>\n",
       "      <td>audi</td>\n",
       "      <td>a4</td>\n",
       "      <td>1.8</td>\n",
       "      <td>1999</td>\n",
       "      <td>4</td>\n",
       "      <td>manual(m5)</td>\n",
       "      <td>f</td>\n",
       "      <td>21</td>\n",
       "      <td>29</td>\n",
       "      <td>p</td>\n",
       "      <td>compact</td>\n",
       "      <td>25.0</td>\n",
       "    </tr>\n",
       "    <tr>\n",
       "      <th>3</th>\n",
       "      <td>audi</td>\n",
       "      <td>a4</td>\n",
       "      <td>2.0</td>\n",
       "      <td>2008</td>\n",
       "      <td>4</td>\n",
       "      <td>manual(m6)</td>\n",
       "      <td>f</td>\n",
       "      <td>20</td>\n",
       "      <td>31</td>\n",
       "      <td>p</td>\n",
       "      <td>compact</td>\n",
       "      <td>25.5</td>\n",
       "    </tr>\n",
       "    <tr>\n",
       "      <th>4</th>\n",
       "      <td>audi</td>\n",
       "      <td>a4</td>\n",
       "      <td>2.0</td>\n",
       "      <td>2008</td>\n",
       "      <td>4</td>\n",
       "      <td>auto(av)</td>\n",
       "      <td>f</td>\n",
       "      <td>21</td>\n",
       "      <td>30</td>\n",
       "      <td>p</td>\n",
       "      <td>compact</td>\n",
       "      <td>25.5</td>\n",
       "    </tr>\n",
       "    <tr>\n",
       "      <th>5</th>\n",
       "      <td>audi</td>\n",
       "      <td>a4</td>\n",
       "      <td>2.8</td>\n",
       "      <td>1999</td>\n",
       "      <td>6</td>\n",
       "      <td>auto(l5)</td>\n",
       "      <td>f</td>\n",
       "      <td>16</td>\n",
       "      <td>26</td>\n",
       "      <td>p</td>\n",
       "      <td>compact</td>\n",
       "      <td>21.0</td>\n",
       "    </tr>\n",
       "  </tbody>\n",
       "</table>\n",
       "</div>"
      ],
      "text/plain": [
       "  manufacturer model  displ  year  cyl       trans drv  cty  hwy fl    class  \\\n",
       "1         audi    a4    1.8  1999    4    auto(l5)   f   18   29  p  compact   \n",
       "2         audi    a4    1.8  1999    4  manual(m5)   f   21   29  p  compact   \n",
       "3         audi    a4    2.0  2008    4  manual(m6)   f   20   31  p  compact   \n",
       "4         audi    a4    2.0  2008    4    auto(av)   f   21   30  p  compact   \n",
       "5         audi    a4    2.8  1999    6    auto(l5)   f   16   26  p  compact   \n",
       "\n",
       "   fuel_efficiency  \n",
       "1             23.5  \n",
       "2             25.0  \n",
       "3             25.5  \n",
       "4             25.5  \n",
       "5             21.0  "
      ]
     },
     "execution_count": 16,
     "metadata": {},
     "output_type": "execute_result"
    }
   ],
   "source": [
    "mpg.head()"
   ]
  },
  {
   "cell_type": "code",
   "execution_count": 17,
   "id": "720a85e5",
   "metadata": {},
   "outputs": [
    {
     "data": {
      "text/plain": [
       "3     25.5\n",
       "4     25.5\n",
       "7     22.5\n",
       "10    24.0\n",
       "11    23.0\n",
       "Name: fuel_efficiency, dtype: float64"
      ]
     },
     "execution_count": 17,
     "metadata": {},
     "output_type": "execute_result"
    }
   ],
   "source": [
    "cars_2008 = mpg[mpg.year == 2008].fuel_efficiency\n",
    "cars_2008.head()"
   ]
  },
  {
   "cell_type": "code",
   "execution_count": 18,
   "id": "7e498dd3",
   "metadata": {},
   "outputs": [
    {
     "data": {
      "text/plain": [
       "1    23.5\n",
       "2    25.0\n",
       "5    21.0\n",
       "6    22.0\n",
       "8    22.0\n",
       "Name: fuel_efficiency, dtype: float64"
      ]
     },
     "execution_count": 18,
     "metadata": {},
     "output_type": "execute_result"
    }
   ],
   "source": [
    "cars_1999 = mpg[mpg.year == 1999].fuel_efficiency\n",
    "cars_1999.head()"
   ]
  },
  {
   "cell_type": "code",
   "execution_count": 19,
   "id": "8245284f",
   "metadata": {},
   "outputs": [
    {
     "data": {
      "text/plain": [
       "<AxesSubplot:>"
      ]
     },
     "execution_count": 19,
     "metadata": {},
     "output_type": "execute_result"
    },
    {
     "data": {
      "image/png": "[encoded data removed]",
      "text/plain": [
       "<Figure size 432x288 with 1 Axes>"
      ]
     },
     "metadata": {
      "needs_background": "light"
     },
     "output_type": "display_data"
    }
   ],
   "source": [
    "cars_2008.hist()"
   ]
  },
  {
   "cell_type": "code",
   "execution_count": 20,
   "id": "fbbff6e3",
   "metadata": {},
   "outputs": [
    {
     "data": {
      "text/plain": [
       "<AxesSubplot:>"
      ]
     },
     "execution_count": 20,
     "metadata": {},
     "output_type": "execute_result"
    },
    {
     "data": {
      "image/png": "[encoded data removed]",
      "text/plain": [
       "<Figure size 432x288 with 1 Axes>"
      ]
     },
     "metadata": {
      "needs_background": "light"
     },
     "output_type": "display_data"
    }
   ],
   "source": [
    "cars_1999.hist()"
   ]
  },
  {
   "cell_type": "markdown",
   "id": "8f4ebb48",
   "metadata": {},
   "source": [
    "#### - b. Set Hypothesis"
   ]
  },
  {
   "cell_type": "code",
   "execution_count": 21,
   "id": "afeb5acd",
   "metadata": {},
   "outputs": [],
   "source": [
    "#H0 - Fuel efficiency in cars from 2008 == fuel efficiency in cars from 1999.\n",
    "#Ha - Fuel efficiency in cars from 2008 != fuel efficiency in cars from 1999."
   ]
  },
  {
   "cell_type": "markdown",
   "id": "5b3da6f6",
   "metadata": {},
   "source": [
    "#### - c. Set Alpha"
   ]
  },
  {
   "cell_type": "code",
   "execution_count": 22,
   "id": "bdfe3e6a",
   "metadata": {},
   "outputs": [],
   "source": [
    "α = 0.05"
   ]
  },
  {
   "cell_type": "markdown",
   "id": "34f98815",
   "metadata": {},
   "source": [
    "#### - d. Assumptions"
   ]
  },
  {
   "cell_type": "markdown",
   "id": "f5caf7c9",
   "metadata": {},
   "source": [
    "#### Normal: Yes!\n",
    "#### Independent: Yes!\n",
    "#### Variance:"
   ]
  },
  {
   "cell_type": "code",
   "execution_count": 23,
   "id": "eb7536bf",
   "metadata": {},
   "outputs": [
    {
     "name": "stdout",
     "output_type": "stream",
     "text": [
      "24.097480106100797\n"
     ]
    }
   ],
   "source": [
    "print(cars_2008.var())"
   ]
  },
  {
   "cell_type": "code",
   "execution_count": 24,
   "id": "cef710fb",
   "metadata": {},
   "outputs": [
    {
     "name": "stdout",
     "output_type": "stream",
     "text": [
      "27.122605363984682\n"
     ]
    }
   ],
   "source": [
    "print(cars_1999.var())"
   ]
  },
  {
   "cell_type": "markdown",
   "id": "c2373797",
   "metadata": {},
   "source": [
    "#### - e. Compute Test Statistics"
   ]
  },
  {
   "cell_type": "code",
   "execution_count": 25,
   "id": "d186dd41",
   "metadata": {},
   "outputs": [
    {
     "data": {
      "text/plain": [
       "(-0.21960177245940962, 0.8263750772060638)"
      ]
     },
     "execution_count": 25,
     "metadata": {},
     "output_type": "execute_result"
    }
   ],
   "source": [
    "t, p = stats.ttest_ind(cars_2008, cars_1999, equal_var = False)\n",
    "t, p"
   ]
  },
  {
   "cell_type": "markdown",
   "id": "109499df",
   "metadata": {},
   "source": [
    "#### - f.  Decide"
   ]
  },
  {
   "cell_type": "code",
   "execution_count": 26,
   "id": "58be0224",
   "metadata": {},
   "outputs": [
    {
     "name": "stdout",
     "output_type": "stream",
     "text": [
      "We fail to reject the H0.\n"
     ]
    }
   ],
   "source": [
    "if p < α:\n",
    "    print(\"We reject the H0.\")\n",
    "else:\n",
    "    print(\"We fail to reject the H0.\")"
   ]
  },
  {
   "cell_type": "markdown",
   "id": "358d445d",
   "metadata": {},
   "source": [
    "### 2. Are compact cars more fuel-efficient than the average car?"
   ]
  },
  {
   "cell_type": "markdown",
   "id": "8216939b",
   "metadata": {},
   "source": [
    "#### - a. Distributions"
   ]
  },
  {
   "cell_type": "code",
   "execution_count": 27,
   "id": "914f8167",
   "metadata": {},
   "outputs": [
    {
     "data": {
      "text/html": [
       "<div>\n",
       "<style scoped>\n",
       "    .dataframe tbody tr th:only-of-type {\n",
       "        vertical-align: middle;\n",
       "    }\n",
       "\n",
       "    .dataframe tbody tr th {\n",
       "        vertical-align: top;\n",
       "    }\n",
       "\n",
       "    .dataframe thead th {\n",
       "        text-align: right;\n",
       "    }\n",
       "</style>\n",
       "<table border=\"1\" class=\"dataframe\">\n",
       "  <thead>\n",
       "    <tr style=\"text-align: right;\">\n",
       "      <th></th>\n",
       "      <th>manufacturer</th>\n",
       "      <th>model</th>\n",
       "      <th>displ</th>\n",
       "      <th>year</th>\n",
       "      <th>cyl</th>\n",
       "      <th>trans</th>\n",
       "      <th>drv</th>\n",
       "      <th>cty</th>\n",
       "      <th>hwy</th>\n",
       "      <th>fl</th>\n",
       "      <th>class</th>\n",
       "      <th>fuel_efficiency</th>\n",
       "    </tr>\n",
       "  </thead>\n",
       "  <tbody>\n",
       "    <tr>\n",
       "      <th>1</th>\n",
       "      <td>audi</td>\n",
       "      <td>a4</td>\n",
       "      <td>1.8</td>\n",
       "      <td>1999</td>\n",
       "      <td>4</td>\n",
       "      <td>auto(l5)</td>\n",
       "      <td>f</td>\n",
       "      <td>18</td>\n",
       "      <td>29</td>\n",
       "      <td>p</td>\n",
       "      <td>compact</td>\n",
       "      <td>23.5</td>\n",
       "    </tr>\n",
       "    <tr>\n",
       "      <th>2</th>\n",
       "      <td>audi</td>\n",
       "      <td>a4</td>\n",
       "      <td>1.8</td>\n",
       "      <td>1999</td>\n",
       "      <td>4</td>\n",
       "      <td>manual(m5)</td>\n",
       "      <td>f</td>\n",
       "      <td>21</td>\n",
       "      <td>29</td>\n",
       "      <td>p</td>\n",
       "      <td>compact</td>\n",
       "      <td>25.0</td>\n",
       "    </tr>\n",
       "    <tr>\n",
       "      <th>3</th>\n",
       "      <td>audi</td>\n",
       "      <td>a4</td>\n",
       "      <td>2.0</td>\n",
       "      <td>2008</td>\n",
       "      <td>4</td>\n",
       "      <td>manual(m6)</td>\n",
       "      <td>f</td>\n",
       "      <td>20</td>\n",
       "      <td>31</td>\n",
       "      <td>p</td>\n",
       "      <td>compact</td>\n",
       "      <td>25.5</td>\n",
       "    </tr>\n",
       "    <tr>\n",
       "      <th>4</th>\n",
       "      <td>audi</td>\n",
       "      <td>a4</td>\n",
       "      <td>2.0</td>\n",
       "      <td>2008</td>\n",
       "      <td>4</td>\n",
       "      <td>auto(av)</td>\n",
       "      <td>f</td>\n",
       "      <td>21</td>\n",
       "      <td>30</td>\n",
       "      <td>p</td>\n",
       "      <td>compact</td>\n",
       "      <td>25.5</td>\n",
       "    </tr>\n",
       "    <tr>\n",
       "      <th>5</th>\n",
       "      <td>audi</td>\n",
       "      <td>a4</td>\n",
       "      <td>2.8</td>\n",
       "      <td>1999</td>\n",
       "      <td>6</td>\n",
       "      <td>auto(l5)</td>\n",
       "      <td>f</td>\n",
       "      <td>16</td>\n",
       "      <td>26</td>\n",
       "      <td>p</td>\n",
       "      <td>compact</td>\n",
       "      <td>21.0</td>\n",
       "    </tr>\n",
       "  </tbody>\n",
       "</table>\n",
       "</div>"
      ],
      "text/plain": [
       "  manufacturer model  displ  year  cyl       trans drv  cty  hwy fl    class  \\\n",
       "1         audi    a4    1.8  1999    4    auto(l5)   f   18   29  p  compact   \n",
       "2         audi    a4    1.8  1999    4  manual(m5)   f   21   29  p  compact   \n",
       "3         audi    a4    2.0  2008    4  manual(m6)   f   20   31  p  compact   \n",
       "4         audi    a4    2.0  2008    4    auto(av)   f   21   30  p  compact   \n",
       "5         audi    a4    2.8  1999    6    auto(l5)   f   16   26  p  compact   \n",
       "\n",
       "   fuel_efficiency  \n",
       "1             23.5  \n",
       "2             25.0  \n",
       "3             25.5  \n",
       "4             25.5  \n",
       "5             21.0  "
      ]
     },
     "execution_count": 27,
     "metadata": {},
     "output_type": "execute_result"
    }
   ],
   "source": [
    "mpg.head()\n",
    "\n",
    "# sub-sample vs. entire population"
   ]
  },
  {
   "cell_type": "code",
   "execution_count": 28,
   "id": "f358c319",
   "metadata": {},
   "outputs": [
    {
     "data": {
      "text/html": [
       "<div>\n",
       "<style scoped>\n",
       "    .dataframe tbody tr th:only-of-type {\n",
       "        vertical-align: middle;\n",
       "    }\n",
       "\n",
       "    .dataframe tbody tr th {\n",
       "        vertical-align: top;\n",
       "    }\n",
       "\n",
       "    .dataframe thead th {\n",
       "        text-align: right;\n",
       "    }\n",
       "</style>\n",
       "<table border=\"1\" class=\"dataframe\">\n",
       "  <thead>\n",
       "    <tr style=\"text-align: right;\">\n",
       "      <th></th>\n",
       "      <th>manufacturer</th>\n",
       "      <th>model</th>\n",
       "      <th>displ</th>\n",
       "      <th>year</th>\n",
       "      <th>cyl</th>\n",
       "      <th>trans</th>\n",
       "      <th>drv</th>\n",
       "      <th>cty</th>\n",
       "      <th>hwy</th>\n",
       "      <th>fl</th>\n",
       "      <th>class_type</th>\n",
       "      <th>fuel_efficiency</th>\n",
       "    </tr>\n",
       "  </thead>\n",
       "  <tbody>\n",
       "    <tr>\n",
       "      <th>1</th>\n",
       "      <td>audi</td>\n",
       "      <td>a4</td>\n",
       "      <td>1.8</td>\n",
       "      <td>1999</td>\n",
       "      <td>4</td>\n",
       "      <td>auto(l5)</td>\n",
       "      <td>f</td>\n",
       "      <td>18</td>\n",
       "      <td>29</td>\n",
       "      <td>p</td>\n",
       "      <td>compact</td>\n",
       "      <td>23.5</td>\n",
       "    </tr>\n",
       "    <tr>\n",
       "      <th>2</th>\n",
       "      <td>audi</td>\n",
       "      <td>a4</td>\n",
       "      <td>1.8</td>\n",
       "      <td>1999</td>\n",
       "      <td>4</td>\n",
       "      <td>manual(m5)</td>\n",
       "      <td>f</td>\n",
       "      <td>21</td>\n",
       "      <td>29</td>\n",
       "      <td>p</td>\n",
       "      <td>compact</td>\n",
       "      <td>25.0</td>\n",
       "    </tr>\n",
       "    <tr>\n",
       "      <th>3</th>\n",
       "      <td>audi</td>\n",
       "      <td>a4</td>\n",
       "      <td>2.0</td>\n",
       "      <td>2008</td>\n",
       "      <td>4</td>\n",
       "      <td>manual(m6)</td>\n",
       "      <td>f</td>\n",
       "      <td>20</td>\n",
       "      <td>31</td>\n",
       "      <td>p</td>\n",
       "      <td>compact</td>\n",
       "      <td>25.5</td>\n",
       "    </tr>\n",
       "    <tr>\n",
       "      <th>4</th>\n",
       "      <td>audi</td>\n",
       "      <td>a4</td>\n",
       "      <td>2.0</td>\n",
       "      <td>2008</td>\n",
       "      <td>4</td>\n",
       "      <td>auto(av)</td>\n",
       "      <td>f</td>\n",
       "      <td>21</td>\n",
       "      <td>30</td>\n",
       "      <td>p</td>\n",
       "      <td>compact</td>\n",
       "      <td>25.5</td>\n",
       "    </tr>\n",
       "    <tr>\n",
       "      <th>5</th>\n",
       "      <td>audi</td>\n",
       "      <td>a4</td>\n",
       "      <td>2.8</td>\n",
       "      <td>1999</td>\n",
       "      <td>6</td>\n",
       "      <td>auto(l5)</td>\n",
       "      <td>f</td>\n",
       "      <td>16</td>\n",
       "      <td>26</td>\n",
       "      <td>p</td>\n",
       "      <td>compact</td>\n",
       "      <td>21.0</td>\n",
       "    </tr>\n",
       "  </tbody>\n",
       "</table>\n",
       "</div>"
      ],
      "text/plain": [
       "  manufacturer model  displ  year  cyl       trans drv  cty  hwy fl  \\\n",
       "1         audi    a4    1.8  1999    4    auto(l5)   f   18   29  p   \n",
       "2         audi    a4    1.8  1999    4  manual(m5)   f   21   29  p   \n",
       "3         audi    a4    2.0  2008    4  manual(m6)   f   20   31  p   \n",
       "4         audi    a4    2.0  2008    4    auto(av)   f   21   30  p   \n",
       "5         audi    a4    2.8  1999    6    auto(l5)   f   16   26  p   \n",
       "\n",
       "  class_type  fuel_efficiency  \n",
       "1    compact             23.5  \n",
       "2    compact             25.0  \n",
       "3    compact             25.5  \n",
       "4    compact             25.5  \n",
       "5    compact             21.0  "
      ]
     },
     "execution_count": 28,
     "metadata": {},
     "output_type": "execute_result"
    }
   ],
   "source": [
    "mpg = mpg.rename(columns={'class' : 'class_type'})\n",
    "mpg.head()"
   ]
  },
  {
   "cell_type": "code",
   "execution_count": 29,
   "id": "be55fa7a",
   "metadata": {},
   "outputs": [
    {
     "data": {
      "text/plain": [
       "1    23.5\n",
       "2    25.0\n",
       "3    25.5\n",
       "4    25.5\n",
       "5    21.0\n",
       "Name: fuel_efficiency, dtype: float64"
      ]
     },
     "execution_count": 29,
     "metadata": {},
     "output_type": "execute_result"
    }
   ],
   "source": [
    "compact_cars = mpg[mpg.class_type == 'compact'].fuel_efficiency\n",
    "compact_cars.head()"
   ]
  },
  {
   "cell_type": "code",
   "execution_count": 30,
   "id": "fb7baa47",
   "metadata": {},
   "outputs": [
    {
     "data": {
      "text/plain": [
       "20.14957264957265"
      ]
     },
     "execution_count": 30,
     "metadata": {},
     "output_type": "execute_result"
    }
   ],
   "source": [
    "overall_fuel_efficiency = mpg.fuel_efficiency.mean()\n",
    "overall_fuel_efficiency"
   ]
  },
  {
   "cell_type": "code",
   "execution_count": 31,
   "id": "c6d09022",
   "metadata": {},
   "outputs": [
    {
     "data": {
      "text/plain": [
       "<AxesSubplot:>"
      ]
     },
     "execution_count": 31,
     "metadata": {},
     "output_type": "execute_result"
    },
    {
     "data": {
      "image/png": "[encoded data removed]",
      "text/plain": [
       "<Figure size 432x288 with 1 Axes>"
      ]
     },
     "metadata": {
      "needs_background": "light"
     },
     "output_type": "display_data"
    }
   ],
   "source": [
    "mpg.fuel_efficiency.hist()"
   ]
  },
  {
   "cell_type": "code",
   "execution_count": 32,
   "id": "d2b5bf18",
   "metadata": {},
   "outputs": [
    {
     "data": {
      "text/plain": [
       "1    23.5\n",
       "2    25.0\n",
       "3    25.5\n",
       "4    25.5\n",
       "5    21.0\n",
       "Name: fuel_efficiency, dtype: float64"
      ]
     },
     "execution_count": 32,
     "metadata": {},
     "output_type": "execute_result"
    }
   ],
   "source": [
    "compact_fuel_efficiency = mpg[mpg.class_type == 'compact'].fuel_efficiency\n",
    "compact_fuel_efficiency.head()"
   ]
  },
  {
   "cell_type": "code",
   "execution_count": 33,
   "id": "30cbc891",
   "metadata": {},
   "outputs": [
    {
     "data": {
      "text/plain": [
       "<AxesSubplot:>"
      ]
     },
     "execution_count": 33,
     "metadata": {},
     "output_type": "execute_result"
    },
    {
     "data": {
      "image/png": "[encoded data removed]",
      "text/plain": [
       "<Figure size 432x288 with 1 Axes>"
      ]
     },
     "metadata": {
      "needs_background": "light"
     },
     "output_type": "display_data"
    }
   ],
   "source": [
    "compact_fuel_efficiency.hist()"
   ]
  },
  {
   "cell_type": "markdown",
   "id": "230506d1",
   "metadata": {},
   "source": [
    "#### - b. Set Hypothesis"
   ]
  },
  {
   "cell_type": "code",
   "execution_count": 34,
   "id": "ab126af6",
   "metadata": {},
   "outputs": [],
   "source": [
    "#H0 - Compact car fuel-efficicency = the average car fuel_efficiency.\n",
    "#Ha - Compact cars fuel-efficiency is > the average car fuel-efficiency."
   ]
  },
  {
   "cell_type": "markdown",
   "id": "93775ad9",
   "metadata": {},
   "source": [
    "#### - c. Set Alpha"
   ]
  },
  {
   "cell_type": "code",
   "execution_count": 35,
   "id": "c2bd9314",
   "metadata": {},
   "outputs": [],
   "source": [
    "α = 0.05"
   ]
  },
  {
   "cell_type": "markdown",
   "id": "677f9e88",
   "metadata": {},
   "source": [
    "#### - d. Assumptions"
   ]
  },
  {
   "cell_type": "markdown",
   "id": "38d2070c",
   "metadata": {},
   "source": [
    "#### Normal: Yes!"
   ]
  },
  {
   "cell_type": "markdown",
   "id": "f58b9db9",
   "metadata": {},
   "source": [
    "#### - e. Compute Test Statistics"
   ]
  },
  {
   "cell_type": "code",
   "execution_count": 36,
   "id": "fa50d542",
   "metadata": {},
   "outputs": [
    {
     "data": {
      "text/plain": [
       "(7.896888573132535, 2.0992818971585668e-10)"
      ]
     },
     "execution_count": 36,
     "metadata": {},
     "output_type": "execute_result"
    }
   ],
   "source": [
    "t, p = stats.ttest_1samp(compact_fuel_efficiency, overall_fuel_efficiency, alternative = 'greater')\n",
    "t, p"
   ]
  },
  {
   "cell_type": "markdown",
   "id": "b183022c",
   "metadata": {},
   "source": [
    "#### - f.  Decide"
   ]
  },
  {
   "cell_type": "code",
   "execution_count": 37,
   "id": "4f62c916",
   "metadata": {},
   "outputs": [
    {
     "name": "stdout",
     "output_type": "stream",
     "text": [
      "We reject the H0.\n"
     ]
    }
   ],
   "source": [
    "if (p < α) & (t > 0):\n",
    "    print(\"We reject the H0.\")\n",
    "else:\n",
    "     print(\"We fail to reject the H0.\")"
   ]
  },
  {
   "cell_type": "markdown",
   "id": "d47aed11",
   "metadata": {},
   "source": [
    "### 3. Do manual cars get better gas mileage than automatic cars?"
   ]
  },
  {
   "cell_type": "markdown",
   "id": "ef22c1b9",
   "metadata": {},
   "source": [
    "#### - a. Distributions"
   ]
  },
  {
   "cell_type": "code",
   "execution_count": 38,
   "id": "28515128",
   "metadata": {},
   "outputs": [
    {
     "data": {
      "text/html": [
       "<div>\n",
       "<style scoped>\n",
       "    .dataframe tbody tr th:only-of-type {\n",
       "        vertical-align: middle;\n",
       "    }\n",
       "\n",
       "    .dataframe tbody tr th {\n",
       "        vertical-align: top;\n",
       "    }\n",
       "\n",
       "    .dataframe thead th {\n",
       "        text-align: right;\n",
       "    }\n",
       "</style>\n",
       "<table border=\"1\" class=\"dataframe\">\n",
       "  <thead>\n",
       "    <tr style=\"text-align: right;\">\n",
       "      <th></th>\n",
       "      <th>manufacturer</th>\n",
       "      <th>model</th>\n",
       "      <th>displ</th>\n",
       "      <th>year</th>\n",
       "      <th>cyl</th>\n",
       "      <th>trans</th>\n",
       "      <th>drv</th>\n",
       "      <th>cty</th>\n",
       "      <th>hwy</th>\n",
       "      <th>fl</th>\n",
       "      <th>class_type</th>\n",
       "      <th>fuel_efficiency</th>\n",
       "    </tr>\n",
       "  </thead>\n",
       "  <tbody>\n",
       "    <tr>\n",
       "      <th>1</th>\n",
       "      <td>audi</td>\n",
       "      <td>a4</td>\n",
       "      <td>1.8</td>\n",
       "      <td>1999</td>\n",
       "      <td>4</td>\n",
       "      <td>auto(l5)</td>\n",
       "      <td>f</td>\n",
       "      <td>18</td>\n",
       "      <td>29</td>\n",
       "      <td>p</td>\n",
       "      <td>compact</td>\n",
       "      <td>23.5</td>\n",
       "    </tr>\n",
       "    <tr>\n",
       "      <th>2</th>\n",
       "      <td>audi</td>\n",
       "      <td>a4</td>\n",
       "      <td>1.8</td>\n",
       "      <td>1999</td>\n",
       "      <td>4</td>\n",
       "      <td>manual(m5)</td>\n",
       "      <td>f</td>\n",
       "      <td>21</td>\n",
       "      <td>29</td>\n",
       "      <td>p</td>\n",
       "      <td>compact</td>\n",
       "      <td>25.0</td>\n",
       "    </tr>\n",
       "    <tr>\n",
       "      <th>3</th>\n",
       "      <td>audi</td>\n",
       "      <td>a4</td>\n",
       "      <td>2.0</td>\n",
       "      <td>2008</td>\n",
       "      <td>4</td>\n",
       "      <td>manual(m6)</td>\n",
       "      <td>f</td>\n",
       "      <td>20</td>\n",
       "      <td>31</td>\n",
       "      <td>p</td>\n",
       "      <td>compact</td>\n",
       "      <td>25.5</td>\n",
       "    </tr>\n",
       "    <tr>\n",
       "      <th>4</th>\n",
       "      <td>audi</td>\n",
       "      <td>a4</td>\n",
       "      <td>2.0</td>\n",
       "      <td>2008</td>\n",
       "      <td>4</td>\n",
       "      <td>auto(av)</td>\n",
       "      <td>f</td>\n",
       "      <td>21</td>\n",
       "      <td>30</td>\n",
       "      <td>p</td>\n",
       "      <td>compact</td>\n",
       "      <td>25.5</td>\n",
       "    </tr>\n",
       "    <tr>\n",
       "      <th>5</th>\n",
       "      <td>audi</td>\n",
       "      <td>a4</td>\n",
       "      <td>2.8</td>\n",
       "      <td>1999</td>\n",
       "      <td>6</td>\n",
       "      <td>auto(l5)</td>\n",
       "      <td>f</td>\n",
       "      <td>16</td>\n",
       "      <td>26</td>\n",
       "      <td>p</td>\n",
       "      <td>compact</td>\n",
       "      <td>21.0</td>\n",
       "    </tr>\n",
       "  </tbody>\n",
       "</table>\n",
       "</div>"
      ],
      "text/plain": [
       "  manufacturer model  displ  year  cyl       trans drv  cty  hwy fl  \\\n",
       "1         audi    a4    1.8  1999    4    auto(l5)   f   18   29  p   \n",
       "2         audi    a4    1.8  1999    4  manual(m5)   f   21   29  p   \n",
       "3         audi    a4    2.0  2008    4  manual(m6)   f   20   31  p   \n",
       "4         audi    a4    2.0  2008    4    auto(av)   f   21   30  p   \n",
       "5         audi    a4    2.8  1999    6    auto(l5)   f   16   26  p   \n",
       "\n",
       "  class_type  fuel_efficiency  \n",
       "1    compact             23.5  \n",
       "2    compact             25.0  \n",
       "3    compact             25.5  \n",
       "4    compact             25.5  \n",
       "5    compact             21.0  "
      ]
     },
     "execution_count": 38,
     "metadata": {},
     "output_type": "execute_result"
    }
   ],
   "source": [
    "mpg.head()"
   ]
  },
  {
   "cell_type": "code",
   "execution_count": 39,
   "id": "8a94a170",
   "metadata": {},
   "outputs": [
    {
     "data": {
      "text/plain": [
       "auto(l4)      83\n",
       "manual(m5)    58\n",
       "auto(l5)      39\n",
       "manual(m6)    19\n",
       "auto(s6)      16\n",
       "auto(l6)       6\n",
       "auto(av)       5\n",
       "auto(s5)       3\n",
       "auto(s4)       3\n",
       "auto(l3)       2\n",
       "Name: trans, dtype: int64"
      ]
     },
     "execution_count": 39,
     "metadata": {},
     "output_type": "execute_result"
    }
   ],
   "source": [
    "mpg.trans.value_counts()"
   ]
  },
  {
   "cell_type": "code",
   "execution_count": 40,
   "id": "ec43fc6b",
   "metadata": {},
   "outputs": [
    {
     "data": {
      "text/plain": [
       "2     25.0\n",
       "3     25.5\n",
       "6     22.0\n",
       "8     22.0\n",
       "10    24.0\n",
       "Name: fuel_efficiency, dtype: float64"
      ]
     },
     "execution_count": 40,
     "metadata": {},
     "output_type": "execute_result"
    }
   ],
   "source": [
    "manuals = mpg[mpg.trans.str.contains('manual')].fuel_efficiency\n",
    "manuals.head()"
   ]
  },
  {
   "cell_type": "code",
   "execution_count": 41,
   "id": "16cf206f",
   "metadata": {},
   "outputs": [
    {
     "data": {
      "text/plain": [
       "1    23.5\n",
       "4    25.5\n",
       "5    21.0\n",
       "7    22.5\n",
       "9    20.5\n",
       "Name: fuel_efficiency, dtype: float64"
      ]
     },
     "execution_count": 41,
     "metadata": {},
     "output_type": "execute_result"
    }
   ],
   "source": [
    "automatic = mpg[mpg.trans.str.contains('auto')].fuel_efficiency\n",
    "automatic.head()"
   ]
  },
  {
   "cell_type": "code",
   "execution_count": 42,
   "id": "9472df2b",
   "metadata": {},
   "outputs": [
    {
     "data": {
      "text/plain": [
       "<AxesSubplot:>"
      ]
     },
     "execution_count": 42,
     "metadata": {},
     "output_type": "execute_result"
    },
    {
     "data": {
      "image/png": "[encoded data removed]",
      "text/plain": [
       "<Figure size 432x288 with 1 Axes>"
      ]
     },
     "metadata": {
      "needs_background": "light"
     },
     "output_type": "display_data"
    }
   ],
   "source": [
    "manuals.hist()"
   ]
  },
  {
   "cell_type": "code",
   "execution_count": 43,
   "id": "0443fabc",
   "metadata": {},
   "outputs": [
    {
     "data": {
      "text/plain": [
       "<AxesSubplot:>"
      ]
     },
     "execution_count": 43,
     "metadata": {},
     "output_type": "execute_result"
    },
    {
     "data": {
      "image/png": "[encoded data removed]",
      "text/plain": [
       "<Figure size 432x288 with 1 Axes>"
      ]
     },
     "metadata": {
      "needs_background": "light"
     },
     "output_type": "display_data"
    }
   ],
   "source": [
    "automatic.hist()"
   ]
  },
  {
   "cell_type": "markdown",
   "id": "f068b608",
   "metadata": {},
   "source": [
    "#### - b. Set Hypothesis"
   ]
  },
  {
   "cell_type": "code",
   "execution_count": 44,
   "id": "67f7119a",
   "metadata": {},
   "outputs": [],
   "source": [
    "# H0- Manual cars gas mileage == automatic cars gas mileage.\n",
    "# Ha - Manual cars gas mileage is > automatic cars gas mileage."
   ]
  },
  {
   "cell_type": "markdown",
   "id": "69beaff3",
   "metadata": {},
   "source": [
    "#### - c. Set Alpha"
   ]
  },
  {
   "cell_type": "code",
   "execution_count": 45,
   "id": "3e43959a",
   "metadata": {},
   "outputs": [],
   "source": [
    "α = 0.05"
   ]
  },
  {
   "cell_type": "markdown",
   "id": "6fcd600a",
   "metadata": {},
   "source": [
    "#### - d. Assumptions"
   ]
  },
  {
   "cell_type": "markdown",
   "id": "451eecb3",
   "metadata": {},
   "source": [
    "#### Normal: Yes!\n",
    "#### Independent: Yes!\n",
    "#### Variance:"
   ]
  },
  {
   "cell_type": "code",
   "execution_count": 46,
   "id": "6f60d460",
   "metadata": {},
   "outputs": [
    {
     "data": {
      "text/plain": [
       "26.635167464114826"
      ]
     },
     "execution_count": 46,
     "metadata": {},
     "output_type": "execute_result"
    }
   ],
   "source": [
    "manuals.var()"
   ]
  },
  {
   "cell_type": "code",
   "execution_count": 47,
   "id": "30f30d7d",
   "metadata": {},
   "outputs": [
    {
     "data": {
      "text/plain": [
       "21.942777233382337"
      ]
     },
     "execution_count": 47,
     "metadata": {},
     "output_type": "execute_result"
    }
   ],
   "source": [
    "automatic.var()"
   ]
  },
  {
   "cell_type": "markdown",
   "id": "ddf2f5c6",
   "metadata": {},
   "source": [
    "#### - e. Compute Test Statistics"
   ]
  },
  {
   "cell_type": "code",
   "execution_count": 48,
   "id": "af22f7db",
   "metadata": {},
   "outputs": [
    {
     "data": {
      "text/plain": [
       "(4.443514012903071, 8.976124499958965e-06)"
      ]
     },
     "execution_count": 48,
     "metadata": {},
     "output_type": "execute_result"
    }
   ],
   "source": [
    "t, p = stats.ttest_ind(manuals, automatic, equal_var = False,  alternative = 'greater')\n",
    "t, p"
   ]
  },
  {
   "cell_type": "markdown",
   "id": "2a9e5e82",
   "metadata": {},
   "source": [
    "#### - f.  Decide"
   ]
  },
  {
   "cell_type": "code",
   "execution_count": 49,
   "id": "3fcf3e61",
   "metadata": {},
   "outputs": [
    {
     "name": "stdout",
     "output_type": "stream",
     "text": [
      "Reject the N0.\n"
     ]
    }
   ],
   "source": [
    "if (t > 0) & (p < α):\n",
    "      print('Reject the N0.')\n",
    "else:\n",
    "      print('Fail to reject the N0.')"
   ]
  },
  {
   "cell_type": "markdown",
   "id": "b3d00da0",
   "metadata": {},
   "source": [
    "## Correlation "
   ]
  },
  {
   "cell_type": "markdown",
   "id": "77e3905c",
   "metadata": {},
   "source": [
    "#### 1. Use the telco_churn data. "
   ]
  },
  {
   "cell_type": "code",
   "execution_count": 66,
   "id": "d6e9c703",
   "metadata": {},
   "outputs": [
    {
     "data": {
      "text/html": [
       "<div>\n",
       "<style scoped>\n",
       "    .dataframe tbody tr th:only-of-type {\n",
       "        vertical-align: middle;\n",
       "    }\n",
       "\n",
       "    .dataframe tbody tr th {\n",
       "        vertical-align: top;\n",
       "    }\n",
       "\n",
       "    .dataframe thead th {\n",
       "        text-align: right;\n",
       "    }\n",
       "</style>\n",
       "<table border=\"1\" class=\"dataframe\">\n",
       "  <thead>\n",
       "    <tr style=\"text-align: right;\">\n",
       "      <th></th>\n",
       "      <th>customer_id</th>\n",
       "      <th>gender</th>\n",
       "      <th>is_senior_citizen</th>\n",
       "      <th>partner</th>\n",
       "      <th>dependents</th>\n",
       "      <th>phone_service</th>\n",
       "      <th>phone_service_type</th>\n",
       "      <th>internet_service</th>\n",
       "      <th>internet_service_type</th>\n",
       "      <th>contract_type</th>\n",
       "      <th>...</th>\n",
       "      <th>total_charges</th>\n",
       "      <th>teunure</th>\n",
       "      <th>monthly_charges_2</th>\n",
       "      <th>churn</th>\n",
       "      <th>is_female</th>\n",
       "      <th>has_churned</th>\n",
       "      <th>has_phone</th>\n",
       "      <th>has_internet</th>\n",
       "      <th>has_phone_and_internet</th>\n",
       "      <th>partner_dependents</th>\n",
       "    </tr>\n",
       "  </thead>\n",
       "  <tbody>\n",
       "    <tr>\n",
       "      <th>0</th>\n",
       "      <td>0002-ORFBO</td>\n",
       "      <td>Female</td>\n",
       "      <td>0</td>\n",
       "      <td>Yes</td>\n",
       "      <td>Yes</td>\n",
       "      <td>1</td>\n",
       "      <td>One Line</td>\n",
       "      <td>1</td>\n",
       "      <td>DSL</td>\n",
       "      <td>1</td>\n",
       "      <td>...</td>\n",
       "      <td>593.30</td>\n",
       "      <td>9.044207</td>\n",
       "      <td>65.6</td>\n",
       "      <td>No</td>\n",
       "      <td>True</td>\n",
       "      <td>False</td>\n",
       "      <td>True</td>\n",
       "      <td>True</td>\n",
       "      <td>True</td>\n",
       "      <td>3</td>\n",
       "    </tr>\n",
       "    <tr>\n",
       "      <th>1</th>\n",
       "      <td>0003-MKNFE</td>\n",
       "      <td>Male</td>\n",
       "      <td>0</td>\n",
       "      <td>No</td>\n",
       "      <td>No</td>\n",
       "      <td>2</td>\n",
       "      <td>Two or More Lines</td>\n",
       "      <td>1</td>\n",
       "      <td>DSL</td>\n",
       "      <td>0</td>\n",
       "      <td>...</td>\n",
       "      <td>542.40</td>\n",
       "      <td>9.055092</td>\n",
       "      <td>59.9</td>\n",
       "      <td>No</td>\n",
       "      <td>False</td>\n",
       "      <td>False</td>\n",
       "      <td>True</td>\n",
       "      <td>True</td>\n",
       "      <td>True</td>\n",
       "      <td>0</td>\n",
       "    </tr>\n",
       "    <tr>\n",
       "      <th>2</th>\n",
       "      <td>0004-TLHLJ</td>\n",
       "      <td>Male</td>\n",
       "      <td>0</td>\n",
       "      <td>No</td>\n",
       "      <td>No</td>\n",
       "      <td>1</td>\n",
       "      <td>One Line</td>\n",
       "      <td>2</td>\n",
       "      <td>Fiber Optic</td>\n",
       "      <td>0</td>\n",
       "      <td>...</td>\n",
       "      <td>280.85</td>\n",
       "      <td>3.800406</td>\n",
       "      <td>73.9</td>\n",
       "      <td>Yes</td>\n",
       "      <td>False</td>\n",
       "      <td>True</td>\n",
       "      <td>True</td>\n",
       "      <td>True</td>\n",
       "      <td>True</td>\n",
       "      <td>0</td>\n",
       "    </tr>\n",
       "    <tr>\n",
       "      <th>3</th>\n",
       "      <td>0011-IGKFF</td>\n",
       "      <td>Male</td>\n",
       "      <td>1</td>\n",
       "      <td>Yes</td>\n",
       "      <td>No</td>\n",
       "      <td>1</td>\n",
       "      <td>One Line</td>\n",
       "      <td>2</td>\n",
       "      <td>Fiber Optic</td>\n",
       "      <td>0</td>\n",
       "      <td>...</td>\n",
       "      <td>1237.85</td>\n",
       "      <td>12.631122</td>\n",
       "      <td>98</td>\n",
       "      <td>Yes</td>\n",
       "      <td>False</td>\n",
       "      <td>True</td>\n",
       "      <td>True</td>\n",
       "      <td>True</td>\n",
       "      <td>True</td>\n",
       "      <td>1</td>\n",
       "    </tr>\n",
       "    <tr>\n",
       "      <th>4</th>\n",
       "      <td>0013-EXCHZ</td>\n",
       "      <td>Female</td>\n",
       "      <td>1</td>\n",
       "      <td>Yes</td>\n",
       "      <td>No</td>\n",
       "      <td>1</td>\n",
       "      <td>One Line</td>\n",
       "      <td>2</td>\n",
       "      <td>Fiber Optic</td>\n",
       "      <td>0</td>\n",
       "      <td>...</td>\n",
       "      <td>267.40</td>\n",
       "      <td>3.187128</td>\n",
       "      <td>83.9</td>\n",
       "      <td>Yes</td>\n",
       "      <td>True</td>\n",
       "      <td>True</td>\n",
       "      <td>True</td>\n",
       "      <td>True</td>\n",
       "      <td>True</td>\n",
       "      <td>1</td>\n",
       "    </tr>\n",
       "  </tbody>\n",
       "</table>\n",
       "<p>5 rows × 23 columns</p>\n",
       "</div>"
      ],
      "text/plain": [
       "  customer_id  gender  is_senior_citizen partner dependents  phone_service  \\\n",
       "0  0002-ORFBO  Female                  0     Yes        Yes              1   \n",
       "1  0003-MKNFE    Male                  0      No         No              2   \n",
       "2  0004-TLHLJ    Male                  0      No         No              1   \n",
       "3  0011-IGKFF    Male                  1     Yes         No              1   \n",
       "4  0013-EXCHZ  Female                  1     Yes         No              1   \n",
       "\n",
       "  phone_service_type  internet_service internet_service_type  contract_type  \\\n",
       "0           One Line                 1                   DSL              1   \n",
       "1  Two or More Lines                 1                   DSL              0   \n",
       "2           One Line                 2           Fiber Optic              0   \n",
       "3           One Line                 2           Fiber Optic              0   \n",
       "4           One Line                 2           Fiber Optic              0   \n",
       "\n",
       "   ... total_charges    teunure  monthly_charges_2  churn  is_female  \\\n",
       "0  ...        593.30   9.044207               65.6     No       True   \n",
       "1  ...        542.40   9.055092               59.9     No      False   \n",
       "2  ...        280.85   3.800406               73.9    Yes      False   \n",
       "3  ...       1237.85  12.631122                 98    Yes      False   \n",
       "4  ...        267.40   3.187128               83.9    Yes       True   \n",
       "\n",
       "  has_churned has_phone  has_internet  has_phone_and_internet  \\\n",
       "0       False      True          True                    True   \n",
       "1       False      True          True                    True   \n",
       "2        True      True          True                    True   \n",
       "3        True      True          True                    True   \n",
       "4        True      True          True                    True   \n",
       "\n",
       "   partner_dependents  \n",
       "0                   3  \n",
       "1                   0  \n",
       "2                   0  \n",
       "3                   1  \n",
       "4                   1  \n",
       "\n",
       "[5 rows x 23 columns]"
      ]
     },
     "execution_count": 66,
     "metadata": {},
     "output_type": "execute_result"
    }
   ],
   "source": [
    "df = pd.read_csv('telco_churn.csv')\n",
    "df.head()"
   ]
  },
  {
   "cell_type": "code",
   "execution_count": 67,
   "id": "e1b3d2d5",
   "metadata": {},
   "outputs": [
    {
     "data": {
      "text/plain": [
       "customer_id                object\n",
       "gender                     object\n",
       "is_senior_citizen           int64\n",
       "partner                    object\n",
       "dependents                 object\n",
       "phone_service               int64\n",
       "phone_service_type         object\n",
       "internet_service            int64\n",
       "internet_service_type      object\n",
       "contract_type               int64\n",
       "contract_description       object\n",
       "payment_type               object\n",
       "monthly_charges           float64\n",
       "total_charges             float64\n",
       "teunure                   float64\n",
       "monthly_charges_2          object\n",
       "churn                      object\n",
       "is_female                    bool\n",
       "has_churned                  bool\n",
       "has_phone                    bool\n",
       "has_internet                 bool\n",
       "has_phone_and_internet       bool\n",
       "partner_dependents          int64\n",
       "dtype: object"
      ]
     },
     "execution_count": 67,
     "metadata": {},
     "output_type": "execute_result"
    }
   ],
   "source": [
    "df.dtypes"
   ]
  },
  {
   "cell_type": "code",
   "execution_count": 68,
   "id": "148542ab",
   "metadata": {},
   "outputs": [
    {
     "name": "stdout",
     "output_type": "stream",
     "text": [
      "customer_id               False\n",
      "gender                    False\n",
      "is_senior_citizen         False\n",
      "partner                   False\n",
      "dependents                False\n",
      "phone_service             False\n",
      "phone_service_type        False\n",
      "internet_service          False\n",
      "internet_service_type     False\n",
      "contract_type             False\n",
      "contract_description      False\n",
      "payment_type              False\n",
      "monthly_charges           False\n",
      "total_charges              True\n",
      "teunure                   False\n",
      "monthly_charges_2         False\n",
      "churn                     False\n",
      "is_female                 False\n",
      "has_churned               False\n",
      "has_phone                 False\n",
      "has_internet              False\n",
      "has_phone_and_internet    False\n",
      "partner_dependents        False\n",
      "dtype: bool\n"
     ]
    }
   ],
   "source": [
    "nan_values = df.isna().any()\n",
    "\n",
    "print (nan_values)"
   ]
  },
  {
   "cell_type": "markdown",
   "id": "de66e373",
   "metadata": {},
   "source": [
    "#### 1a. Does tenure correlate with monthly charges? "
   ]
  },
  {
   "cell_type": "code",
   "execution_count": 69,
   "id": "c6ab26ee",
   "metadata": {},
   "outputs": [],
   "source": [
    "x = df.teunure\n",
    "y = df.monthly_charges"
   ]
  },
  {
   "cell_type": "code",
   "execution_count": 73,
   "id": "d227ebae",
   "metadata": {
    "scrolled": true
   },
   "outputs": [
    {
     "data": {
      "text/plain": [
       "<matplotlib.collections.PathCollection at 0x7fd439de1af0>"
      ]
     },
     "execution_count": 73,
     "metadata": {},
     "output_type": "execute_result"
    },
    {
     "data": {
      "image/png": "[encoded data removed]",
      "text/plain": [
       "<Figure size 936x504 with 1 Axes>"
      ]
     },
     "metadata": {
      "needs_background": "light"
     },
     "output_type": "display_data"
    }
   ],
   "source": [
    "plt.figure(figsize = (13,7))\n",
    "plt.scatter(x, y)"
   ]
  },
  {
   "cell_type": "markdown",
   "id": "c81596da",
   "metadata": {},
   "source": [
    "#### Hypothesis"
   ]
  },
  {
   "cell_type": "code",
   "execution_count": 55,
   "id": "77c80013",
   "metadata": {},
   "outputs": [],
   "source": [
    "α = 0.05\n",
    "# H0 - There is no linear relationship between tenure and monthly charges.\n",
    "# H1 - There is a linear realtionship between tenure and monthly charges. "
   ]
  },
  {
   "cell_type": "markdown",
   "id": "f295d975",
   "metadata": {},
   "source": [
    "#### Calculate test statistic + p-value"
   ]
  },
  {
   "cell_type": "code",
   "execution_count": 56,
   "id": "aff4e0ae",
   "metadata": {},
   "outputs": [
    {
     "name": "stdout",
     "output_type": "stream",
     "text": [
      "r = 0.2472032380467264\n",
      "p = 1.2381721068052338e-98\n"
     ]
    }
   ],
   "source": [
    "r, p = stats.pearsonr(x,y)\n",
    "print('r =', r)\n",
    "print('p =', p)"
   ]
  },
  {
   "cell_type": "markdown",
   "id": "50e6ea4d",
   "metadata": {},
   "source": [
    "#### Conclusion"
   ]
  },
  {
   "cell_type": "code",
   "execution_count": 71,
   "id": "4c0efae4",
   "metadata": {},
   "outputs": [],
   "source": [
    "# Because p is less than \\alpha, we reject the null hypothesis that there is no linear correlation between tenure and monthly charges.    "
   ]
  },
  {
   "cell_type": "markdown",
   "id": "48aeb83a",
   "metadata": {},
   "source": [
    "#### 1b. Does tenure correlatet with total charges? "
   ]
  },
  {
   "cell_type": "markdown",
   "id": "e54371ad",
   "metadata": {},
   "source": [
    "#### Setup -1. Acquire Dataset"
   ]
  },
  {
   "cell_type": "code",
   "execution_count": 79,
   "id": "731ac3c1",
   "metadata": {},
   "outputs": [
    {
     "data": {
      "text/html": [
       "<div>\n",
       "<style scoped>\n",
       "    .dataframe tbody tr th:only-of-type {\n",
       "        vertical-align: middle;\n",
       "    }\n",
       "\n",
       "    .dataframe tbody tr th {\n",
       "        vertical-align: top;\n",
       "    }\n",
       "\n",
       "    .dataframe thead th {\n",
       "        text-align: right;\n",
       "    }\n",
       "</style>\n",
       "<table border=\"1\" class=\"dataframe\">\n",
       "  <thead>\n",
       "    <tr style=\"text-align: right;\">\n",
       "      <th></th>\n",
       "      <th>customer_id</th>\n",
       "      <th>gender</th>\n",
       "      <th>is_senior_citizen</th>\n",
       "      <th>partner</th>\n",
       "      <th>dependents</th>\n",
       "      <th>phone_service</th>\n",
       "      <th>phone_service_type</th>\n",
       "      <th>internet_service</th>\n",
       "      <th>internet_service_type</th>\n",
       "      <th>contract_type</th>\n",
       "      <th>...</th>\n",
       "      <th>total_charges</th>\n",
       "      <th>teunure</th>\n",
       "      <th>monthly_charges_2</th>\n",
       "      <th>churn</th>\n",
       "      <th>is_female</th>\n",
       "      <th>has_churned</th>\n",
       "      <th>has_phone</th>\n",
       "      <th>has_internet</th>\n",
       "      <th>has_phone_and_internet</th>\n",
       "      <th>partner_dependents</th>\n",
       "    </tr>\n",
       "  </thead>\n",
       "  <tbody>\n",
       "    <tr>\n",
       "      <th>0</th>\n",
       "      <td>0002-ORFBO</td>\n",
       "      <td>Female</td>\n",
       "      <td>0</td>\n",
       "      <td>Yes</td>\n",
       "      <td>Yes</td>\n",
       "      <td>1</td>\n",
       "      <td>One Line</td>\n",
       "      <td>1</td>\n",
       "      <td>DSL</td>\n",
       "      <td>1</td>\n",
       "      <td>...</td>\n",
       "      <td>593.30</td>\n",
       "      <td>9.044207</td>\n",
       "      <td>65.6</td>\n",
       "      <td>No</td>\n",
       "      <td>True</td>\n",
       "      <td>False</td>\n",
       "      <td>True</td>\n",
       "      <td>True</td>\n",
       "      <td>True</td>\n",
       "      <td>3</td>\n",
       "    </tr>\n",
       "    <tr>\n",
       "      <th>1</th>\n",
       "      <td>0003-MKNFE</td>\n",
       "      <td>Male</td>\n",
       "      <td>0</td>\n",
       "      <td>No</td>\n",
       "      <td>No</td>\n",
       "      <td>2</td>\n",
       "      <td>Two or More Lines</td>\n",
       "      <td>1</td>\n",
       "      <td>DSL</td>\n",
       "      <td>0</td>\n",
       "      <td>...</td>\n",
       "      <td>542.40</td>\n",
       "      <td>9.055092</td>\n",
       "      <td>59.9</td>\n",
       "      <td>No</td>\n",
       "      <td>False</td>\n",
       "      <td>False</td>\n",
       "      <td>True</td>\n",
       "      <td>True</td>\n",
       "      <td>True</td>\n",
       "      <td>0</td>\n",
       "    </tr>\n",
       "    <tr>\n",
       "      <th>2</th>\n",
       "      <td>0004-TLHLJ</td>\n",
       "      <td>Male</td>\n",
       "      <td>0</td>\n",
       "      <td>No</td>\n",
       "      <td>No</td>\n",
       "      <td>1</td>\n",
       "      <td>One Line</td>\n",
       "      <td>2</td>\n",
       "      <td>Fiber Optic</td>\n",
       "      <td>0</td>\n",
       "      <td>...</td>\n",
       "      <td>280.85</td>\n",
       "      <td>3.800406</td>\n",
       "      <td>73.9</td>\n",
       "      <td>Yes</td>\n",
       "      <td>False</td>\n",
       "      <td>True</td>\n",
       "      <td>True</td>\n",
       "      <td>True</td>\n",
       "      <td>True</td>\n",
       "      <td>0</td>\n",
       "    </tr>\n",
       "    <tr>\n",
       "      <th>3</th>\n",
       "      <td>0011-IGKFF</td>\n",
       "      <td>Male</td>\n",
       "      <td>1</td>\n",
       "      <td>Yes</td>\n",
       "      <td>No</td>\n",
       "      <td>1</td>\n",
       "      <td>One Line</td>\n",
       "      <td>2</td>\n",
       "      <td>Fiber Optic</td>\n",
       "      <td>0</td>\n",
       "      <td>...</td>\n",
       "      <td>1237.85</td>\n",
       "      <td>12.631122</td>\n",
       "      <td>98</td>\n",
       "      <td>Yes</td>\n",
       "      <td>False</td>\n",
       "      <td>True</td>\n",
       "      <td>True</td>\n",
       "      <td>True</td>\n",
       "      <td>True</td>\n",
       "      <td>1</td>\n",
       "    </tr>\n",
       "    <tr>\n",
       "      <th>4</th>\n",
       "      <td>0013-EXCHZ</td>\n",
       "      <td>Female</td>\n",
       "      <td>1</td>\n",
       "      <td>Yes</td>\n",
       "      <td>No</td>\n",
       "      <td>1</td>\n",
       "      <td>One Line</td>\n",
       "      <td>2</td>\n",
       "      <td>Fiber Optic</td>\n",
       "      <td>0</td>\n",
       "      <td>...</td>\n",
       "      <td>267.40</td>\n",
       "      <td>3.187128</td>\n",
       "      <td>83.9</td>\n",
       "      <td>Yes</td>\n",
       "      <td>True</td>\n",
       "      <td>True</td>\n",
       "      <td>True</td>\n",
       "      <td>True</td>\n",
       "      <td>True</td>\n",
       "      <td>1</td>\n",
       "    </tr>\n",
       "  </tbody>\n",
       "</table>\n",
       "<p>5 rows × 23 columns</p>\n",
       "</div>"
      ],
      "text/plain": [
       "  customer_id  gender  is_senior_citizen partner dependents  phone_service  \\\n",
       "0  0002-ORFBO  Female                  0     Yes        Yes              1   \n",
       "1  0003-MKNFE    Male                  0      No         No              2   \n",
       "2  0004-TLHLJ    Male                  0      No         No              1   \n",
       "3  0011-IGKFF    Male                  1     Yes         No              1   \n",
       "4  0013-EXCHZ  Female                  1     Yes         No              1   \n",
       "\n",
       "  phone_service_type  internet_service internet_service_type  contract_type  \\\n",
       "0           One Line                 1                   DSL              1   \n",
       "1  Two or More Lines                 1                   DSL              0   \n",
       "2           One Line                 2           Fiber Optic              0   \n",
       "3           One Line                 2           Fiber Optic              0   \n",
       "4           One Line                 2           Fiber Optic              0   \n",
       "\n",
       "   ... total_charges    teunure  monthly_charges_2  churn  is_female  \\\n",
       "0  ...        593.30   9.044207               65.6     No       True   \n",
       "1  ...        542.40   9.055092               59.9     No      False   \n",
       "2  ...        280.85   3.800406               73.9    Yes      False   \n",
       "3  ...       1237.85  12.631122                 98    Yes      False   \n",
       "4  ...        267.40   3.187128               83.9    Yes       True   \n",
       "\n",
       "  has_churned has_phone  has_internet  has_phone_and_internet  \\\n",
       "0       False      True          True                    True   \n",
       "1       False      True          True                    True   \n",
       "2        True      True          True                    True   \n",
       "3        True      True          True                    True   \n",
       "4        True      True          True                    True   \n",
       "\n",
       "   partner_dependents  \n",
       "0                   3  \n",
       "1                   0  \n",
       "2                   0  \n",
       "3                   1  \n",
       "4                   1  \n",
       "\n",
       "[5 rows x 23 columns]"
      ]
     },
     "execution_count": 79,
     "metadata": {},
     "output_type": "execute_result"
    }
   ],
   "source": [
    "df = df.dropna()\n",
    "df.head()"
   ]
  },
  {
   "cell_type": "code",
   "execution_count": 82,
   "id": "f4856413",
   "metadata": {
    "scrolled": false
   },
   "outputs": [
    {
     "name": "stdout",
     "output_type": "stream",
     "text": [
      "customer_id               False\n",
      "gender                    False\n",
      "is_senior_citizen         False\n",
      "partner                   False\n",
      "dependents                False\n",
      "phone_service             False\n",
      "phone_service_type        False\n",
      "internet_service          False\n",
      "internet_service_type     False\n",
      "contract_type             False\n",
      "contract_description      False\n",
      "payment_type              False\n",
      "monthly_charges           False\n",
      "total_charges             False\n",
      "teunure                   False\n",
      "monthly_charges_2         False\n",
      "churn                     False\n",
      "is_female                 False\n",
      "has_churned               False\n",
      "has_phone                 False\n",
      "has_internet              False\n",
      "has_phone_and_internet    False\n",
      "partner_dependents        False\n",
      "dtype: bool\n"
     ]
    }
   ],
   "source": [
    "nan_values = df.isna().any()\n",
    "\n",
    "print (nan_values)"
   ]
  },
  {
   "cell_type": "markdown",
   "id": "9b8ed981",
   "metadata": {},
   "source": [
    "#### Setup - 2. Plot Dataset"
   ]
  },
  {
   "cell_type": "code",
   "execution_count": 85,
   "id": "b893c06f",
   "metadata": {},
   "outputs": [],
   "source": [
    "x = df.teunure\n",
    "y = df.total_charges"
   ]
  },
  {
   "cell_type": "code",
   "execution_count": 88,
   "id": "1f7cce14",
   "metadata": {},
   "outputs": [
    {
     "data": {
      "text/plain": [
       "<matplotlib.collections.PathCollection at 0x7fd439fdd550>"
      ]
     },
     "execution_count": 88,
     "metadata": {},
     "output_type": "execute_result"
    },
    {
     "data": {
      "image/png": "[encoded data removed]",
      "text/plain": [
       "<Figure size 1008x504 with 1 Axes>"
      ]
     },
     "metadata": {
      "needs_background": "light"
     },
     "output_type": "display_data"
    }
   ],
   "source": [
    "plt.figure(figsize = (14,7))\n",
    "plt.scatter(x,y)"
   ]
  },
  {
   "cell_type": "markdown",
   "id": "4711c1a1",
   "metadata": {},
   "source": [
    "#### Setup - 3. Hypothesis and Alpha"
   ]
  },
  {
   "cell_type": "code",
   "execution_count": 91,
   "id": "8905a46c",
   "metadata": {},
   "outputs": [],
   "source": [
    "α = 0.05\n",
    "# H0 - There is no linear relationship between tenure and total charges.\n",
    "# H1 - There is a linear realtionship between tenure and total charges. "
   ]
  },
  {
   "cell_type": "markdown",
   "id": "309c0b06",
   "metadata": {},
   "source": [
    "#### 2. Calculate test statistic + p-value"
   ]
  },
  {
   "cell_type": "code",
   "execution_count": 93,
   "id": "3d32700a",
   "metadata": {},
   "outputs": [
    {
     "name": "stdout",
     "output_type": "stream",
     "text": [
      "r = 0.8258274352556667\n",
      "p = 0.0\n"
     ]
    }
   ],
   "source": [
    "r, p = stats.pearsonr(x,y)\n",
    "print('r =', r)\n",
    "print('p =', p)"
   ]
  },
  {
   "cell_type": "markdown",
   "id": "3615fb0f",
   "metadata": {},
   "source": [
    "#### 3. Conclusion"
   ]
  },
  {
   "cell_type": "code",
   "execution_count": null,
   "id": "5491492c",
   "metadata": {},
   "outputs": [],
   "source": [
    "# Because p is less than \\alpha, we reject the null hypothesis that there is no linear correlation between tenure and total charges.    "
   ]
  },
  {
   "cell_type": "markdown",
   "id": "363ee8dd",
   "metadata": {},
   "source": [
    "#### 1c.What happens if you control for phone and internet service?\n",
    "#### 1ci.  Phone\n",
    "#### 1cii. Internet\n",
    "#### 1ciii. Phone & Internet"
   ]
  },
  {
   "cell_type": "code",
   "execution_count": null,
   "id": "5a7d1498",
   "metadata": {},
   "outputs": [],
   "source": []
  },
  {
   "cell_type": "markdown",
   "id": "56e6520c",
   "metadata": {},
   "source": [
    "#### 2. Use the employees database.\n",
    "#### 2a. Is there a relationship between how long an employee has been with the company and their salary?\n",
    "#### 2b. Is there a relationship between how long an employee has been with the company and the number of titles they have had?"
   ]
  },
  {
   "cell_type": "code",
   "execution_count": null,
   "id": "c07d3bd3",
   "metadata": {},
   "outputs": [],
   "source": []
  },
  {
   "cell_type": "markdown",
   "id": "20faadbf",
   "metadata": {},
   "source": [
    "#### 3. Use the sleepstudy data. "
   ]
  },
  {
   "cell_type": "markdown",
   "id": "762e0895",
   "metadata": {},
   "source": [
    "##### Setup - 1. Aqcuire Dataset"
   ]
  },
  {
   "cell_type": "markdown",
   "id": "9985964c",
   "metadata": {},
   "source": [
    "#### Is there a relationship between days and reaction time?"
   ]
  },
  {
   "cell_type": "code",
   "execution_count": 60,
   "id": "1e3885b3",
   "metadata": {},
   "outputs": [
    {
     "data": {
      "text/html": [
       "<div>\n",
       "<style scoped>\n",
       "    .dataframe tbody tr th:only-of-type {\n",
       "        vertical-align: middle;\n",
       "    }\n",
       "\n",
       "    .dataframe tbody tr th {\n",
       "        vertical-align: top;\n",
       "    }\n",
       "\n",
       "    .dataframe thead th {\n",
       "        text-align: right;\n",
       "    }\n",
       "</style>\n",
       "<table border=\"1\" class=\"dataframe\">\n",
       "  <thead>\n",
       "    <tr style=\"text-align: right;\">\n",
       "      <th></th>\n",
       "      <th>Reaction</th>\n",
       "      <th>Days</th>\n",
       "      <th>Subject</th>\n",
       "    </tr>\n",
       "  </thead>\n",
       "  <tbody>\n",
       "    <tr>\n",
       "      <th>1</th>\n",
       "      <td>249.5600</td>\n",
       "      <td>0</td>\n",
       "      <td>308</td>\n",
       "    </tr>\n",
       "    <tr>\n",
       "      <th>2</th>\n",
       "      <td>258.7047</td>\n",
       "      <td>1</td>\n",
       "      <td>308</td>\n",
       "    </tr>\n",
       "    <tr>\n",
       "      <th>3</th>\n",
       "      <td>250.8006</td>\n",
       "      <td>2</td>\n",
       "      <td>308</td>\n",
       "    </tr>\n",
       "    <tr>\n",
       "      <th>4</th>\n",
       "      <td>321.4398</td>\n",
       "      <td>3</td>\n",
       "      <td>308</td>\n",
       "    </tr>\n",
       "    <tr>\n",
       "      <th>5</th>\n",
       "      <td>356.8519</td>\n",
       "      <td>4</td>\n",
       "      <td>308</td>\n",
       "    </tr>\n",
       "  </tbody>\n",
       "</table>\n",
       "</div>"
      ],
      "text/plain": [
       "   Reaction  Days  Subject\n",
       "1  249.5600     0      308\n",
       "2  258.7047     1      308\n",
       "3  250.8006     2      308\n",
       "4  321.4398     3      308\n",
       "5  356.8519     4      308"
      ]
     },
     "execution_count": 60,
     "metadata": {},
     "output_type": "execute_result"
    }
   ],
   "source": [
    "from pydataset import data\n",
    "df = data('sleepstudy') \n",
    "df.head()"
   ]
  },
  {
   "cell_type": "code",
   "execution_count": 61,
   "id": "6d2b3638",
   "metadata": {},
   "outputs": [
    {
     "data": {
      "text/plain": [
       "Reaction    float64\n",
       "Days          int64\n",
       "Subject       int64\n",
       "dtype: object"
      ]
     },
     "execution_count": 61,
     "metadata": {},
     "output_type": "execute_result"
    }
   ],
   "source": [
    "df.dtypes"
   ]
  },
  {
   "cell_type": "markdown",
   "id": "448f32a8",
   "metadata": {},
   "source": [
    "##### Setup - 2. Plot Dataset"
   ]
  },
  {
   "cell_type": "code",
   "execution_count": 65,
   "id": "ce57382b",
   "metadata": {},
   "outputs": [
    {
     "data": {
      "text/plain": [
       "<matplotlib.collections.PathCollection at 0x7fd432a03ee0>"
      ]
     },
     "execution_count": 65,
     "metadata": {},
     "output_type": "execute_result"
    },
    {
     "data": {
      "image/png": "[encoded data removed]",
      "text/plain": [
       "<Figure size 432x288 with 1 Axes>"
      ]
     },
     "metadata": {
      "needs_background": "light"
     },
     "output_type": "display_data"
    }
   ],
   "source": [
    "x = df.Days\n",
    "y = df.Reaction\n",
    "\n",
    "plt.scatter(x, y)"
   ]
  },
  {
   "cell_type": "markdown",
   "id": "5be121cf",
   "metadata": {},
   "source": [
    "#### Setup - 3. Hypothesis"
   ]
  },
  {
   "cell_type": "code",
   "execution_count": 63,
   "id": "973092b4",
   "metadata": {},
   "outputs": [],
   "source": [
    "# H0 - There is no linear relationship between days and reaction time.\n",
    "# H1 - There is a linear relatioship between days and reaction time. "
   ]
  },
  {
   "cell_type": "code",
   "execution_count": 64,
   "id": "6a37d739",
   "metadata": {},
   "outputs": [
    {
     "data": {
      "text/plain": [
       "(0.5352302262650253, 9.894096322214812e-15)"
      ]
     },
     "execution_count": 64,
     "metadata": {},
     "output_type": "execute_result"
    }
   ],
   "source": [
    "r, p = stats.pearsonr(df.Days, df.Reaction)\n",
    "\n",
    "r, p"
   ]
  },
  {
   "cell_type": "code",
   "execution_count": null,
   "id": "29e20251",
   "metadata": {},
   "outputs": [],
   "source": []
  }
 ],
 "metadata": {
  "kernelspec": {
   "display_name": "Python 3 (ipykernel)",
   "language": "python",
   "name": "python3"
  },
  "language_info": {
   "codemirror_mode": {
    "name": "ipython",
    "version": 3
   },
   "file_extension": ".py",
   "mimetype": "text/x-python",
   "name": "python",
   "nbconvert_exporter": "python",
   "pygments_lexer": "ipython3",
   "version": "3.9.7"
  }
 },
 "nbformat": 4,
 "nbformat_minor": 5
}
