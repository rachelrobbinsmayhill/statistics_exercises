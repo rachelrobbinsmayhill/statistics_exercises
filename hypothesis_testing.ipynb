{
 "cells": [
  {
   "cell_type": "markdown",
   "id": "84b5f67a",
   "metadata": {},
   "source": [
    "## Hypothesis Testing"
   ]
  },
  {
   "cell_type": "markdown",
   "id": "399794cb",
   "metadata": {},
   "source": [
    "#### For each of the following questions, \n",
    "#### - formulate a null and alternative hypothesis (be as specific as you can be), then give an example of what a true positive, true negative, type I and type II errors would look like. \n",
    "\n",
    "#### Note that some of the questions are intentionally phrased in a vague way. It is your job to reword these as more precise questions that could be tested."
   ]
  },
  {
   "cell_type": "markdown",
   "id": "1742be1c",
   "metadata": {},
   "source": [
    "### 1. Has the network latency gone up since we switched internet service providers?\n"
   ]
  },
  {
   "cell_type": "markdown",
   "id": "fd31cc7c",
   "metadata": {},
   "source": [
    "#### 1. - Null Hypothesis\n",
    "\n",
    "There is no difference in network latency since changing internet providers."
   ]
  },
  {
   "cell_type": "markdown",
   "id": "05cf08bc",
   "metadata": {},
   "source": [
    "#### 1. - Alternative Hypothesis\n",
    "\n",
    "There is a difference in network latency since changing internet providers."
   ]
  },
  {
   "cell_type": "markdown",
   "id": "c6ca2c22",
   "metadata": {},
   "source": [
    "#### 1. - True Positive\n",
    "\n",
    "There IS a difference in network latency and we conclude there is a difference in network latency. "
   ]
  },
  {
   "cell_type": "markdown",
   "id": "4bee2364",
   "metadata": {},
   "source": [
    "#### 1. - True Negative\n",
    "\n",
    "There is NO difference in network latency and we conclude there is no difference in network latency "
   ]
  },
  {
   "cell_type": "markdown",
   "id": "64b6c391",
   "metadata": {},
   "source": [
    "#### 1. - Type I Error\n",
    "\n",
    "We reject (accepting as false) the hypothesis that there was no difference in latency, when in fact, there was no difference in latency, and the hypothesis was true. \n"
   ]
  },
  {
   "cell_type": "markdown",
   "id": "ecf4ec39",
   "metadata": {},
   "source": [
    "#### 1. - Type II Error\n",
    "\n",
    "We failed to reject (accepting as true) the hypothesis that there was no difference in latency, when in fact, there was a difference in latency, and the hypothesis was false. "
   ]
  },
  {
   "cell_type": "markdown",
   "id": "ba75690a",
   "metadata": {},
   "source": [
    "### 2. Is the website redesign any good?\n"
   ]
  },
  {
   "cell_type": "markdown",
   "id": "d2106f20",
   "metadata": {},
   "source": [
    "#### 2. - Null Hypothesis\n",
    "\n",
    "There is no difference in the number of website visits per day since the redesign date. "
   ]
  },
  {
   "cell_type": "markdown",
   "id": "1f4ee40e",
   "metadata": {},
   "source": [
    "#### 2 - Alternative Hypothesis\n",
    "\n",
    "There is a difference in the number of website visits per day since the redesign date. "
   ]
  },
  {
   "cell_type": "markdown",
   "id": "afebac40",
   "metadata": {},
   "source": [
    "#### 2. - True Positive\n",
    "\n",
    "There IS a difference in website visits per day since the redesign date, and we conclude there is a difference in website visits per day since the redesign date. "
   ]
  },
  {
   "cell_type": "markdown",
   "id": "a67d754a",
   "metadata": {},
   "source": [
    "#### 2. - True Negative\n",
    "\n",
    "There is NO difference in webstie visits per day since the redesign date and we conclude there is no differencce in website visits per day since the redesign date. "
   ]
  },
  {
   "cell_type": "markdown",
   "id": "20cc4a21",
   "metadata": {},
   "source": [
    "#### 2. - Type I Error\n",
    "\n",
    "We reject (accepting as false) the hypothesis that there is no difference in website visists per day since the redesign date, when in fact there is no difference in website visits per day since the redesign date, and the hyposthesis is in fact true. "
   ]
  },
  {
   "cell_type": "markdown",
   "id": "ac3cf7c4",
   "metadata": {},
   "source": [
    "#### 2. - Type II Error\n",
    "\n",
    "We fail to reject (accepting as true) that there is no difference in website visits per day since the redesign date, when in fact there IS a difference in website visists per day since the redesign date, and the hypothesis is in fact false."
   ]
  },
  {
   "cell_type": "markdown",
   "id": "e5279304",
   "metadata": {},
   "source": [
    "### 3. Is our television ad driving more sales?"
   ]
  },
  {
   "cell_type": "markdown",
   "id": "bf89ccb5",
   "metadata": {},
   "source": [
    "#### 3. - Null Hypothesis\n",
    "\n",
    "There is no difference in total sales following the television ad."
   ]
  },
  {
   "cell_type": "markdown",
   "id": "bd7edcab",
   "metadata": {},
   "source": [
    "#### 3. - Alternative Hypothesis\n",
    "There is a difference in total sales following the television ad. "
   ]
  },
  {
   "cell_type": "markdown",
   "id": "97ea6c10",
   "metadata": {},
   "source": [
    "#### 3. - True Positive\n",
    "\n",
    "There IS a difference in total sales following the television ad, and we conclude there is a difference in total sales following the television ad. "
   ]
  },
  {
   "cell_type": "markdown",
   "id": "300dff5b",
   "metadata": {},
   "source": [
    "#### 3. - True Negative\n",
    "There is NO difference in total sales following the television ad, and we conclude there is NO difference in total sales following the television ad."
   ]
  },
  {
   "cell_type": "markdown",
   "id": "ff852209",
   "metadata": {},
   "source": [
    "#### 3. - Type I Error\n",
    "\n",
    "We reject (accepting as false) the hypothesis that there is no difference in sales following the television ad, when in fact there is no difference total sales following the television ad, and the hyposthesis is in fact true. "
   ]
  },
  {
   "cell_type": "markdown",
   "id": "6ad137ad",
   "metadata": {},
   "source": [
    "#### 3. - Type II Error"
   ]
  },
  {
   "cell_type": "markdown",
   "id": "ea402a40",
   "metadata": {},
   "source": [
    "We fail to reject (accepting as true) that there is no difference in sales following the television ad, when in fact there IS a difference in sales following the television ad, and the hypothesis is in fact false."
   ]
  },
  {
   "cell_type": "markdown",
   "id": "14141dd8",
   "metadata": {},
   "source": [
    "# T-TEST "
   ]
  },
  {
   "cell_type": "markdown",
   "id": "080c7e8a",
   "metadata": {},
   "source": [
    "#### Ace Realty wants to determine whether the average time it takes to sell homes is different for its two offices. \n",
    "\n",
    "#### - A sample of 40 sales from office #1 revealed a mean of 90 days and a standard deviation of 15 days. \n",
    "\n",
    "#### - A sample of 50 sales from office #2 revealed a mean of 100 days and a standard deviation of 20 days. Use a .05 level of significance."
   ]
  },
  {
   "cell_type": "code",
   "execution_count": null,
   "id": "b3d327d6",
   "metadata": {},
   "outputs": [],
   "source": []
  },
  {
   "cell_type": "markdown",
   "id": "dafae8ba",
   "metadata": {},
   "source": [
    "#### -Load the mpg dataset and use it to answer the following questions:"
   ]
  },
  {
   "cell_type": "code",
   "execution_count": 13,
   "id": "794aee86",
   "metadata": {},
   "outputs": [],
   "source": [
    "import matplotlib.pyplot as plt\n",
    "import numpy as np\n",
    "import seaborn as sns\n",
    "import scipy.stats as stats\n",
    "import pandas as pd\n",
    "np.random.seed(123)"
   ]
  },
  {
   "cell_type": "code",
   "execution_count": 14,
   "id": "6e87d332",
   "metadata": {},
   "outputs": [],
   "source": [
    "from pydataset import data\n",
    "mpg = data('mpg') "
   ]
  },
  {
   "cell_type": "code",
   "execution_count": 12,
   "id": "7f92d457",
   "metadata": {},
   "outputs": [
    {
     "data": {
      "text/html": [
       "<div>\n",
       "<style scoped>\n",
       "    .dataframe tbody tr th:only-of-type {\n",
       "        vertical-align: middle;\n",
       "    }\n",
       "\n",
       "    .dataframe tbody tr th {\n",
       "        vertical-align: top;\n",
       "    }\n",
       "\n",
       "    .dataframe thead th {\n",
       "        text-align: right;\n",
       "    }\n",
       "</style>\n",
       "<table border=\"1\" class=\"dataframe\">\n",
       "  <thead>\n",
       "    <tr style=\"text-align: right;\">\n",
       "      <th></th>\n",
       "      <th>manufacturer</th>\n",
       "      <th>model</th>\n",
       "      <th>displ</th>\n",
       "      <th>year</th>\n",
       "      <th>cyl</th>\n",
       "      <th>trans</th>\n",
       "      <th>drv</th>\n",
       "      <th>cty</th>\n",
       "      <th>hwy</th>\n",
       "      <th>fl</th>\n",
       "      <th>class</th>\n",
       "    </tr>\n",
       "  </thead>\n",
       "  <tbody>\n",
       "    <tr>\n",
       "      <th>1</th>\n",
       "      <td>audi</td>\n",
       "      <td>a4</td>\n",
       "      <td>1.8</td>\n",
       "      <td>1999</td>\n",
       "      <td>4</td>\n",
       "      <td>auto(l5)</td>\n",
       "      <td>f</td>\n",
       "      <td>18</td>\n",
       "      <td>29</td>\n",
       "      <td>p</td>\n",
       "      <td>compact</td>\n",
       "    </tr>\n",
       "    <tr>\n",
       "      <th>2</th>\n",
       "      <td>audi</td>\n",
       "      <td>a4</td>\n",
       "      <td>1.8</td>\n",
       "      <td>1999</td>\n",
       "      <td>4</td>\n",
       "      <td>manual(m5)</td>\n",
       "      <td>f</td>\n",
       "      <td>21</td>\n",
       "      <td>29</td>\n",
       "      <td>p</td>\n",
       "      <td>compact</td>\n",
       "    </tr>\n",
       "    <tr>\n",
       "      <th>3</th>\n",
       "      <td>audi</td>\n",
       "      <td>a4</td>\n",
       "      <td>2.0</td>\n",
       "      <td>2008</td>\n",
       "      <td>4</td>\n",
       "      <td>manual(m6)</td>\n",
       "      <td>f</td>\n",
       "      <td>20</td>\n",
       "      <td>31</td>\n",
       "      <td>p</td>\n",
       "      <td>compact</td>\n",
       "    </tr>\n",
       "    <tr>\n",
       "      <th>4</th>\n",
       "      <td>audi</td>\n",
       "      <td>a4</td>\n",
       "      <td>2.0</td>\n",
       "      <td>2008</td>\n",
       "      <td>4</td>\n",
       "      <td>auto(av)</td>\n",
       "      <td>f</td>\n",
       "      <td>21</td>\n",
       "      <td>30</td>\n",
       "      <td>p</td>\n",
       "      <td>compact</td>\n",
       "    </tr>\n",
       "    <tr>\n",
       "      <th>5</th>\n",
       "      <td>audi</td>\n",
       "      <td>a4</td>\n",
       "      <td>2.8</td>\n",
       "      <td>1999</td>\n",
       "      <td>6</td>\n",
       "      <td>auto(l5)</td>\n",
       "      <td>f</td>\n",
       "      <td>16</td>\n",
       "      <td>26</td>\n",
       "      <td>p</td>\n",
       "      <td>compact</td>\n",
       "    </tr>\n",
       "  </tbody>\n",
       "</table>\n",
       "</div>"
      ],
      "text/plain": [
       "  manufacturer model  displ  year  cyl       trans drv  cty  hwy fl    class\n",
       "1         audi    a4    1.8  1999    4    auto(l5)   f   18   29  p  compact\n",
       "2         audi    a4    1.8  1999    4  manual(m5)   f   21   29  p  compact\n",
       "3         audi    a4    2.0  2008    4  manual(m6)   f   20   31  p  compact\n",
       "4         audi    a4    2.0  2008    4    auto(av)   f   21   30  p  compact\n",
       "5         audi    a4    2.8  1999    6    auto(l5)   f   16   26  p  compact"
      ]
     },
     "execution_count": 12,
     "metadata": {},
     "output_type": "execute_result"
    }
   ],
   "source": [
    "mpg.head()"
   ]
  },
  {
   "cell_type": "markdown",
   "id": "d4f6f2a1",
   "metadata": {},
   "source": [
    "### 1. Is there a difference in fuel-efficiency in cars from 2008 vs 1999?"
   ]
  },
  {
   "cell_type": "markdown",
   "id": "711da94f",
   "metadata": {},
   "source": [
    "#### - a. Distributions"
   ]
  },
  {
   "cell_type": "code",
   "execution_count": null,
   "id": "53edcdb7",
   "metadata": {},
   "outputs": [],
   "source": []
  },
  {
   "cell_type": "markdown",
   "id": "54a06482",
   "metadata": {},
   "source": [
    "#### - b. Set Hypothesis"
   ]
  },
  {
   "cell_type": "code",
   "execution_count": null,
   "id": "88c8183e",
   "metadata": {},
   "outputs": [],
   "source": []
  },
  {
   "cell_type": "markdown",
   "id": "f988734f",
   "metadata": {},
   "source": [
    "#### - c. Set Alpha"
   ]
  },
  {
   "cell_type": "code",
   "execution_count": null,
   "id": "5c40fb08",
   "metadata": {},
   "outputs": [],
   "source": []
  },
  {
   "cell_type": "markdown",
   "id": "a4e4f430",
   "metadata": {},
   "source": [
    "#### - d. Assumptions"
   ]
  },
  {
   "cell_type": "code",
   "execution_count": null,
   "id": "53831c36",
   "metadata": {},
   "outputs": [],
   "source": []
  },
  {
   "cell_type": "markdown",
   "id": "01e67d34",
   "metadata": {},
   "source": [
    "#### - e. Compute Test Statistics"
   ]
  },
  {
   "cell_type": "code",
   "execution_count": null,
   "id": "15a7433f",
   "metadata": {},
   "outputs": [],
   "source": []
  },
  {
   "cell_type": "markdown",
   "id": "0b0756c6",
   "metadata": {},
   "source": [
    "#### - f.   (Depends on Test - Update based on type of test)"
   ]
  },
  {
   "cell_type": "code",
   "execution_count": null,
   "id": "f0eeafb8",
   "metadata": {},
   "outputs": [],
   "source": []
  },
  {
   "cell_type": "markdown",
   "id": "a61b5435",
   "metadata": {},
   "source": [
    "### 2. Are compact cars more fuel-efficient than the average car?"
   ]
  },
  {
   "cell_type": "markdown",
   "id": "63e4f273",
   "metadata": {},
   "source": [
    "#### - a. Distributions"
   ]
  },
  {
   "cell_type": "code",
   "execution_count": null,
   "id": "db79b912",
   "metadata": {},
   "outputs": [],
   "source": []
  },
  {
   "cell_type": "markdown",
   "id": "202bd28e",
   "metadata": {},
   "source": [
    "#### - b. Set Hypothesis"
   ]
  },
  {
   "cell_type": "code",
   "execution_count": null,
   "id": "0cdc40f7",
   "metadata": {},
   "outputs": [],
   "source": []
  },
  {
   "cell_type": "markdown",
   "id": "d50ffc5e",
   "metadata": {},
   "source": [
    "#### - c. Set Alpha"
   ]
  },
  {
   "cell_type": "code",
   "execution_count": null,
   "id": "f13abe46",
   "metadata": {},
   "outputs": [],
   "source": []
  },
  {
   "cell_type": "markdown",
   "id": "0d17e49e",
   "metadata": {},
   "source": [
    "#### - d. Assumptions"
   ]
  },
  {
   "cell_type": "code",
   "execution_count": null,
   "id": "3dd7d107",
   "metadata": {},
   "outputs": [],
   "source": []
  },
  {
   "cell_type": "markdown",
   "id": "019ae03d",
   "metadata": {},
   "source": [
    "#### - e. Compute Test Statistics"
   ]
  },
  {
   "cell_type": "code",
   "execution_count": null,
   "id": "6d86a360",
   "metadata": {},
   "outputs": [],
   "source": []
  },
  {
   "cell_type": "markdown",
   "id": "ff2ec9e0",
   "metadata": {},
   "source": [
    "#### - f.   (Depends on Test - Update based on type of test)"
   ]
  },
  {
   "cell_type": "code",
   "execution_count": null,
   "id": "ca81e31d",
   "metadata": {},
   "outputs": [],
   "source": []
  },
  {
   "cell_type": "markdown",
   "id": "42300d34",
   "metadata": {},
   "source": [
    "### 3. Do manual cars get better gas mileage than automatic cars?"
   ]
  },
  {
   "cell_type": "markdown",
   "id": "cb9da5fe",
   "metadata": {},
   "source": [
    "#### - a. Distributions"
   ]
  },
  {
   "cell_type": "code",
   "execution_count": null,
   "id": "8684ccc4",
   "metadata": {},
   "outputs": [],
   "source": []
  },
  {
   "cell_type": "markdown",
   "id": "d2553ea1",
   "metadata": {},
   "source": [
    "#### - b. Set Hypothesis"
   ]
  },
  {
   "cell_type": "code",
   "execution_count": null,
   "id": "c20f611e",
   "metadata": {},
   "outputs": [],
   "source": []
  },
  {
   "cell_type": "markdown",
   "id": "ff4663df",
   "metadata": {},
   "source": [
    "#### - c. Set Alpha"
   ]
  },
  {
   "cell_type": "code",
   "execution_count": null,
   "id": "f3a45d73",
   "metadata": {},
   "outputs": [],
   "source": []
  },
  {
   "cell_type": "markdown",
   "id": "38c7e80e",
   "metadata": {},
   "source": [
    "#### - d. Assumptions"
   ]
  },
  {
   "cell_type": "code",
   "execution_count": null,
   "id": "47a6d87d",
   "metadata": {},
   "outputs": [],
   "source": []
  },
  {
   "cell_type": "markdown",
   "id": "13b140b3",
   "metadata": {},
   "source": [
    "#### - e. Compute Test Statistics"
   ]
  },
  {
   "cell_type": "code",
   "execution_count": null,
   "id": "336fb85d",
   "metadata": {},
   "outputs": [],
   "source": []
  },
  {
   "cell_type": "markdown",
   "id": "2f8b1926",
   "metadata": {},
   "source": [
    "#### - f.   (Depends on Test - Update based on type of test)"
   ]
  },
  {
   "cell_type": "code",
   "execution_count": null,
   "id": "c89e8b2e",
   "metadata": {},
   "outputs": [],
   "source": []
  },
  {
   "cell_type": "code",
   "execution_count": null,
   "id": "58b565ea",
   "metadata": {},
   "outputs": [],
   "source": []
  }
 ],
 "metadata": {
  "kernelspec": {
   "display_name": "Python 3 (ipykernel)",
   "language": "python",
   "name": "python3"
  },
  "language_info": {
   "codemirror_mode": {
    "name": "ipython",
    "version": 3
   },
   "file_extension": ".py",
   "mimetype": "text/x-python",
   "name": "python",
   "nbconvert_exporter": "python",
   "pygments_lexer": "ipython3",
   "version": "3.9.7"
  }
 },
 "nbformat": 4,
 "nbformat_minor": 5
}
