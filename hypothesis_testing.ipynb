{
 "cells": [
  {
   "cell_type": "markdown",
   "id": "84b5f67a",
   "metadata": {},
   "source": [
    "## Hypothesis Testing"
   ]
  },
  {
   "cell_type": "markdown",
   "id": "399794cb",
   "metadata": {},
   "source": [
    "#### For each of the following questions, \n",
    "#### - formulate a null and alternative hypothesis (be as specific as you can be), then give an example of what a true positive, true negative, type I and type II errors would look like. \n",
    "\n",
    "#### Note that some of the questions are intentionally phrased in a vague way. It is your job to reword these as more precise questions that could be tested."
   ]
  },
  {
   "cell_type": "markdown",
   "id": "1742be1c",
   "metadata": {},
   "source": [
    "### 1. Has the network latency gone up since we switched internet service providers?\n"
   ]
  },
  {
   "cell_type": "markdown",
   "id": "fd31cc7c",
   "metadata": {},
   "source": [
    "#### 1. - Null Hypothesis\n",
    "\n",
    "There is no difference in network latency since changing internet providers."
   ]
  },
  {
   "cell_type": "markdown",
   "id": "05cf08bc",
   "metadata": {},
   "source": [
    "#### 1. - Alternative Hypothesis\n",
    "\n",
    "There is a difference in network latency since changing internet providers."
   ]
  },
  {
   "cell_type": "markdown",
   "id": "c6ca2c22",
   "metadata": {},
   "source": [
    "#### 1. - True Positive\n",
    "\n",
    "There IS a difference in network latency and we conclude there is a difference in network latency. "
   ]
  },
  {
   "cell_type": "markdown",
   "id": "4bee2364",
   "metadata": {},
   "source": [
    "#### 1. - True Negative\n",
    "\n",
    "There is NO difference in network latency and we conclude there is no difference in network latency "
   ]
  },
  {
   "cell_type": "markdown",
   "id": "64b6c391",
   "metadata": {},
   "source": [
    "#### 1. - Type I Error\n",
    "\n",
    "We reject (accepting as false) the hypothesis that there was no difference in latency, when in fact, there was no difference in latency, and the hypothesis was true. \n"
   ]
  },
  {
   "cell_type": "markdown",
   "id": "ecf4ec39",
   "metadata": {},
   "source": [
    "#### 1. - Type II Error\n",
    "\n",
    "We failed to reject (accepting as true) the hypothesis that there was no difference in latency, when in fact, there was a difference in latency, and the hypothesis was false. "
   ]
  },
  {
   "cell_type": "markdown",
   "id": "ba75690a",
   "metadata": {},
   "source": [
    "### 2. Is the website redesign any good?\n"
   ]
  },
  {
   "cell_type": "markdown",
   "id": "d2106f20",
   "metadata": {},
   "source": [
    "#### 2. - Null Hypothesis\n",
    "\n",
    "There is no difference in the number of website visits per day since the redesign date. "
   ]
  },
  {
   "cell_type": "markdown",
   "id": "1f4ee40e",
   "metadata": {},
   "source": [
    "#### 2 - Alternative Hypothesis\n",
    "\n",
    "There is a difference in the number of website visits per day since the redesign date. "
   ]
  },
  {
   "cell_type": "markdown",
   "id": "afebac40",
   "metadata": {},
   "source": [
    "#### 2. - True Positive\n",
    "\n",
    "There IS a difference in website visits per day since the redesign date, and we conclude there is a difference in website visits per day since the redesign date. "
   ]
  },
  {
   "cell_type": "markdown",
   "id": "a67d754a",
   "metadata": {},
   "source": [
    "#### 2. - True Negative\n",
    "\n",
    "There is NO difference in webstie visits per day since the redesign date and we conclude there is no differencce in website visits per day since the redesign date. "
   ]
  },
  {
   "cell_type": "markdown",
   "id": "20cc4a21",
   "metadata": {},
   "source": [
    "#### 2. - Type I Error\n",
    "\n",
    "We reject (accepting as false) the hypothesis that there is no difference in website visists per day since the redesign date, when in fact there is no difference in website visits per day since the redesign date, and the hyposthesis is in fact true. "
   ]
  },
  {
   "cell_type": "markdown",
   "id": "ac3cf7c4",
   "metadata": {},
   "source": [
    "#### 2. - Type II Error\n",
    "\n",
    "We fail to reject (accepting as true) that there is no difference in website visits per day since the redesign date, when in fact there IS a difference in website visists per day since the redesign date, and the hypothesis is in fact false."
   ]
  },
  {
   "cell_type": "markdown",
   "id": "e5279304",
   "metadata": {},
   "source": [
    "### 3. Is our television ad driving more sales?"
   ]
  },
  {
   "cell_type": "markdown",
   "id": "bf89ccb5",
   "metadata": {},
   "source": [
    "#### 3. - Null Hypothesis\n",
    "\n",
    "There is no difference in total sales following the television ad."
   ]
  },
  {
   "cell_type": "markdown",
   "id": "bd7edcab",
   "metadata": {},
   "source": [
    "#### 3. - Alternative Hypothesis\n",
    "There is a difference in total sales following the television ad. "
   ]
  },
  {
   "cell_type": "markdown",
   "id": "97ea6c10",
   "metadata": {},
   "source": [
    "#### 3. - True Positive\n",
    "\n",
    "There IS a difference in total sales following the television ad, and we conclude there is a difference in total sales following the television ad. "
   ]
  },
  {
   "cell_type": "markdown",
   "id": "300dff5b",
   "metadata": {},
   "source": [
    "#### 3. - True Negative\n",
    "There is NO difference in total sales following the television ad, and we conclude there is NO difference in total sales following the television ad."
   ]
  },
  {
   "cell_type": "markdown",
   "id": "ff852209",
   "metadata": {},
   "source": [
    "#### 3. - Type I Error\n",
    "\n",
    "We reject (accepting as false) the hypothesis that there is no difference in sales following the television ad, when in fact there is no difference total sales following the television ad, and the hyposthesis is in fact true. "
   ]
  },
  {
   "cell_type": "markdown",
   "id": "6ad137ad",
   "metadata": {},
   "source": [
    "#### 3. - Type II Error"
   ]
  },
  {
   "cell_type": "markdown",
   "id": "ea402a40",
   "metadata": {},
   "source": [
    "We fail to reject (accepting as true) that there is no difference in sales following the television ad, when in fact there IS a difference in sales following the television ad, and the hypothesis is in fact false."
   ]
  },
  {
   "cell_type": "markdown",
   "id": "50363463",
   "metadata": {},
   "source": [
    "# T-TEST "
   ]
  },
  {
   "cell_type": "markdown",
   "id": "23cfd85e",
   "metadata": {},
   "source": [
    "#### Ace Realty wants to determine whether the average time it takes to sell homes is different for its two offices. \n",
    "\n",
    "#### - A sample of 40 sales from office #1 revealed a mean of 90 days and a standard deviation of 15 days. \n",
    "\n",
    "#### - A sample of 50 sales from office #2 revealed a mean of 100 days and a standard deviation of 20 days. \n",
    "- Use a .05 level of significance."
   ]
  },
  {
   "cell_type": "code",
   "execution_count": 22,
   "id": "59a06d3e",
   "metadata": {},
   "outputs": [],
   "source": [
    "# I beleive office 1 sells homes more quickly than office 2. \n",
    "# Is the average number of days it takes to sell a home higher for office 2?"
   ]
  },
  {
   "cell_type": "markdown",
   "id": "f08ab984",
   "metadata": {},
   "source": [
    "#### - a. Distributions"
   ]
  },
  {
   "cell_type": "code",
   "execution_count": 28,
   "id": "dfad7b30",
   "metadata": {},
   "outputs": [
    {
     "ename": "ValueError",
     "evalue": "x and y must have same first dimension, but have shapes (100,) and (1,)",
     "output_type": "error",
     "traceback": [
      "\u001b[0;31m---------------------------------------------------------------------------\u001b[0m",
      "\u001b[0;31mValueError\u001b[0m                                Traceback (most recent call last)",
      "\u001b[0;32m/var/folders/jx/x5_xzwy107g6d0zd021r2ph40000gn/T/ipykernel_3658/3090546629.py\u001b[0m in \u001b[0;36m<module>\u001b[0;34m\u001b[0m\n\u001b[1;32m      5\u001b[0m \u001b[0;34m\u001b[0m\u001b[0m\n\u001b[1;32m      6\u001b[0m \u001b[0;34m\u001b[0m\u001b[0m\n\u001b[0;32m----> 7\u001b[0;31m \u001b[0mplt\u001b[0m\u001b[0;34m.\u001b[0m\u001b[0mplot\u001b[0m\u001b[0;34m(\u001b[0m\u001b[0mx\u001b[0m\u001b[0;34m,\u001b[0m \u001b[0my1\u001b[0m\u001b[0;34m,\u001b[0m \u001b[0mc\u001b[0m\u001b[0;34m=\u001b[0m\u001b[0;34m'blue'\u001b[0m\u001b[0;34m,\u001b[0m \u001b[0mlabel\u001b[0m \u001b[0;34m=\u001b[0m \u001b[0;34m'Office 1'\u001b[0m\u001b[0;34m)\u001b[0m\u001b[0;34m\u001b[0m\u001b[0;34m\u001b[0m\u001b[0m\n\u001b[0m\u001b[1;32m      8\u001b[0m \u001b[0mplt\u001b[0m\u001b[0;34m.\u001b[0m\u001b[0mplot\u001b[0m\u001b[0;34m(\u001b[0m\u001b[0mx\u001b[0m\u001b[0;34m,\u001b[0m \u001b[0my2\u001b[0m\u001b[0;34m,\u001b[0m \u001b[0mc\u001b[0m\u001b[0;34m=\u001b[0m\u001b[0;34m'orange'\u001b[0m\u001b[0;34m,\u001b[0m \u001b[0mlabel\u001b[0m \u001b[0;34m=\u001b[0m \u001b[0;34m'Office 2'\u001b[0m\u001b[0;34m)\u001b[0m\u001b[0;34m\u001b[0m\u001b[0;34m\u001b[0m\u001b[0m\n\u001b[1;32m      9\u001b[0m \u001b[0;34m\u001b[0m\u001b[0m\n",
      "\u001b[0;32m/usr/local/anaconda3/lib/python3.9/site-packages/matplotlib/pyplot.py\u001b[0m in \u001b[0;36mplot\u001b[0;34m(scalex, scaley, data, *args, **kwargs)\u001b[0m\n\u001b[1;32m   3017\u001b[0m \u001b[0;34m@\u001b[0m\u001b[0m_copy_docstring_and_deprecators\u001b[0m\u001b[0;34m(\u001b[0m\u001b[0mAxes\u001b[0m\u001b[0;34m.\u001b[0m\u001b[0mplot\u001b[0m\u001b[0;34m)\u001b[0m\u001b[0;34m\u001b[0m\u001b[0;34m\u001b[0m\u001b[0m\n\u001b[1;32m   3018\u001b[0m \u001b[0;32mdef\u001b[0m \u001b[0mplot\u001b[0m\u001b[0;34m(\u001b[0m\u001b[0;34m*\u001b[0m\u001b[0margs\u001b[0m\u001b[0;34m,\u001b[0m \u001b[0mscalex\u001b[0m\u001b[0;34m=\u001b[0m\u001b[0;32mTrue\u001b[0m\u001b[0;34m,\u001b[0m \u001b[0mscaley\u001b[0m\u001b[0;34m=\u001b[0m\u001b[0;32mTrue\u001b[0m\u001b[0;34m,\u001b[0m \u001b[0mdata\u001b[0m\u001b[0;34m=\u001b[0m\u001b[0;32mNone\u001b[0m\u001b[0;34m,\u001b[0m \u001b[0;34m**\u001b[0m\u001b[0mkwargs\u001b[0m\u001b[0;34m)\u001b[0m\u001b[0;34m:\u001b[0m\u001b[0;34m\u001b[0m\u001b[0;34m\u001b[0m\u001b[0m\n\u001b[0;32m-> 3019\u001b[0;31m     return gca().plot(\n\u001b[0m\u001b[1;32m   3020\u001b[0m         \u001b[0;34m*\u001b[0m\u001b[0margs\u001b[0m\u001b[0;34m,\u001b[0m \u001b[0mscalex\u001b[0m\u001b[0;34m=\u001b[0m\u001b[0mscalex\u001b[0m\u001b[0;34m,\u001b[0m \u001b[0mscaley\u001b[0m\u001b[0;34m=\u001b[0m\u001b[0mscaley\u001b[0m\u001b[0;34m,\u001b[0m\u001b[0;34m\u001b[0m\u001b[0;34m\u001b[0m\u001b[0m\n\u001b[1;32m   3021\u001b[0m         **({\"data\": data} if data is not None else {}), **kwargs)\n",
      "\u001b[0;32m/usr/local/anaconda3/lib/python3.9/site-packages/matplotlib/axes/_axes.py\u001b[0m in \u001b[0;36mplot\u001b[0;34m(self, scalex, scaley, data, *args, **kwargs)\u001b[0m\n\u001b[1;32m   1603\u001b[0m         \"\"\"\n\u001b[1;32m   1604\u001b[0m         \u001b[0mkwargs\u001b[0m \u001b[0;34m=\u001b[0m \u001b[0mcbook\u001b[0m\u001b[0;34m.\u001b[0m\u001b[0mnormalize_kwargs\u001b[0m\u001b[0;34m(\u001b[0m\u001b[0mkwargs\u001b[0m\u001b[0;34m,\u001b[0m \u001b[0mmlines\u001b[0m\u001b[0;34m.\u001b[0m\u001b[0mLine2D\u001b[0m\u001b[0;34m)\u001b[0m\u001b[0;34m\u001b[0m\u001b[0;34m\u001b[0m\u001b[0m\n\u001b[0;32m-> 1605\u001b[0;31m         \u001b[0mlines\u001b[0m \u001b[0;34m=\u001b[0m \u001b[0;34m[\u001b[0m\u001b[0;34m*\u001b[0m\u001b[0mself\u001b[0m\u001b[0;34m.\u001b[0m\u001b[0m_get_lines\u001b[0m\u001b[0;34m(\u001b[0m\u001b[0;34m*\u001b[0m\u001b[0margs\u001b[0m\u001b[0;34m,\u001b[0m \u001b[0mdata\u001b[0m\u001b[0;34m=\u001b[0m\u001b[0mdata\u001b[0m\u001b[0;34m,\u001b[0m \u001b[0;34m**\u001b[0m\u001b[0mkwargs\u001b[0m\u001b[0;34m)\u001b[0m\u001b[0;34m]\u001b[0m\u001b[0;34m\u001b[0m\u001b[0;34m\u001b[0m\u001b[0m\n\u001b[0m\u001b[1;32m   1606\u001b[0m         \u001b[0;32mfor\u001b[0m \u001b[0mline\u001b[0m \u001b[0;32min\u001b[0m \u001b[0mlines\u001b[0m\u001b[0;34m:\u001b[0m\u001b[0;34m\u001b[0m\u001b[0;34m\u001b[0m\u001b[0m\n\u001b[1;32m   1607\u001b[0m             \u001b[0mself\u001b[0m\u001b[0;34m.\u001b[0m\u001b[0madd_line\u001b[0m\u001b[0;34m(\u001b[0m\u001b[0mline\u001b[0m\u001b[0;34m)\u001b[0m\u001b[0;34m\u001b[0m\u001b[0;34m\u001b[0m\u001b[0m\n",
      "\u001b[0;32m/usr/local/anaconda3/lib/python3.9/site-packages/matplotlib/axes/_base.py\u001b[0m in \u001b[0;36m__call__\u001b[0;34m(self, data, *args, **kwargs)\u001b[0m\n\u001b[1;32m    313\u001b[0m                 \u001b[0mthis\u001b[0m \u001b[0;34m+=\u001b[0m \u001b[0margs\u001b[0m\u001b[0;34m[\u001b[0m\u001b[0;36m0\u001b[0m\u001b[0;34m]\u001b[0m\u001b[0;34m,\u001b[0m\u001b[0;34m\u001b[0m\u001b[0;34m\u001b[0m\u001b[0m\n\u001b[1;32m    314\u001b[0m                 \u001b[0margs\u001b[0m \u001b[0;34m=\u001b[0m \u001b[0margs\u001b[0m\u001b[0;34m[\u001b[0m\u001b[0;36m1\u001b[0m\u001b[0;34m:\u001b[0m\u001b[0;34m]\u001b[0m\u001b[0;34m\u001b[0m\u001b[0;34m\u001b[0m\u001b[0m\n\u001b[0;32m--> 315\u001b[0;31m             \u001b[0;32myield\u001b[0m \u001b[0;32mfrom\u001b[0m \u001b[0mself\u001b[0m\u001b[0;34m.\u001b[0m\u001b[0m_plot_args\u001b[0m\u001b[0;34m(\u001b[0m\u001b[0mthis\u001b[0m\u001b[0;34m,\u001b[0m \u001b[0mkwargs\u001b[0m\u001b[0;34m)\u001b[0m\u001b[0;34m\u001b[0m\u001b[0;34m\u001b[0m\u001b[0m\n\u001b[0m\u001b[1;32m    316\u001b[0m \u001b[0;34m\u001b[0m\u001b[0m\n\u001b[1;32m    317\u001b[0m     \u001b[0;32mdef\u001b[0m \u001b[0mget_next_color\u001b[0m\u001b[0;34m(\u001b[0m\u001b[0mself\u001b[0m\u001b[0;34m)\u001b[0m\u001b[0;34m:\u001b[0m\u001b[0;34m\u001b[0m\u001b[0;34m\u001b[0m\u001b[0m\n",
      "\u001b[0;32m/usr/local/anaconda3/lib/python3.9/site-packages/matplotlib/axes/_base.py\u001b[0m in \u001b[0;36m_plot_args\u001b[0;34m(self, tup, kwargs, return_kwargs)\u001b[0m\n\u001b[1;32m    499\u001b[0m \u001b[0;34m\u001b[0m\u001b[0m\n\u001b[1;32m    500\u001b[0m         \u001b[0;32mif\u001b[0m \u001b[0mx\u001b[0m\u001b[0;34m.\u001b[0m\u001b[0mshape\u001b[0m\u001b[0;34m[\u001b[0m\u001b[0;36m0\u001b[0m\u001b[0;34m]\u001b[0m \u001b[0;34m!=\u001b[0m \u001b[0my\u001b[0m\u001b[0;34m.\u001b[0m\u001b[0mshape\u001b[0m\u001b[0;34m[\u001b[0m\u001b[0;36m0\u001b[0m\u001b[0;34m]\u001b[0m\u001b[0;34m:\u001b[0m\u001b[0;34m\u001b[0m\u001b[0;34m\u001b[0m\u001b[0m\n\u001b[0;32m--> 501\u001b[0;31m             raise ValueError(f\"x and y must have same first dimension, but \"\n\u001b[0m\u001b[1;32m    502\u001b[0m                              f\"have shapes {x.shape} and {y.shape}\")\n\u001b[1;32m    503\u001b[0m         \u001b[0;32mif\u001b[0m \u001b[0mx\u001b[0m\u001b[0;34m.\u001b[0m\u001b[0mndim\u001b[0m \u001b[0;34m>\u001b[0m \u001b[0;36m2\u001b[0m \u001b[0;32mor\u001b[0m \u001b[0my\u001b[0m\u001b[0;34m.\u001b[0m\u001b[0mndim\u001b[0m \u001b[0;34m>\u001b[0m \u001b[0;36m2\u001b[0m\u001b[0;34m:\u001b[0m\u001b[0;34m\u001b[0m\u001b[0;34m\u001b[0m\u001b[0m\n",
      "\u001b[0;31mValueError\u001b[0m: x and y must have same first dimension, but have shapes (100,) and (1,)"
     ]
    },
    {
     "data": {
      "image/png": "[encoded data removed]",
      "text/plain": [
       "<Figure size 432x288 with 1 Axes>"
      ]
     },
     "metadata": {
      "needs_background": "light"
     },
     "output_type": "display_data"
    }
   ],
   "source": [
    "\n",
    "x = np.arange(50, 150)\n",
    "\n",
    "y1 = stats.norm(90, 15).pdf(x)\n",
    "y2 = stats.norm(100, 20).pmf\n",
    "\n",
    "\n",
    "plt.plot(x, y1, c='blue', label = 'Office 1')\n",
    "plt.plot(x, y2, c='orange', label = 'Office 2')\n",
    "\n",
    "\n",
    "plt.ylabel('%')\n",
    "plt.xlabel('Number of Days')\n",
    "plt.title('M4 Equations')\n",
    "plt.legend()\n",
    "\n",
    "plt.show()"
   ]
  },
  {
   "cell_type": "markdown",
   "id": "ad4f9b09",
   "metadata": {},
   "source": [
    "#### - b. Set Hypothesis"
   ]
  },
  {
   "cell_type": "code",
   "execution_count": null,
   "id": "e0041250",
   "metadata": {},
   "outputs": [],
   "source": []
  },
  {
   "cell_type": "markdown",
   "id": "4228a9c3",
   "metadata": {},
   "source": [
    "#### - c. Set Alpha"
   ]
  },
  {
   "cell_type": "code",
   "execution_count": null,
   "id": "4f894bd8",
   "metadata": {},
   "outputs": [],
   "source": [
    "α = 0.05"
   ]
  },
  {
   "cell_type": "markdown",
   "id": "df64352b",
   "metadata": {},
   "source": [
    "#### - d. Assumptions"
   ]
  },
  {
   "cell_type": "code",
   "execution_count": null,
   "id": "4fb006b5",
   "metadata": {},
   "outputs": [],
   "source": []
  },
  {
   "cell_type": "markdown",
   "id": "d1914371",
   "metadata": {},
   "source": [
    "#### - e. Compute Test Statistics"
   ]
  },
  {
   "cell_type": "code",
   "execution_count": null,
   "id": "fb10d168",
   "metadata": {},
   "outputs": [],
   "source": []
  },
  {
   "cell_type": "markdown",
   "id": "9abbeaa7",
   "metadata": {},
   "source": [
    "#### - f.   (Depends on Test - Update based on type of test)"
   ]
  },
  {
   "cell_type": "code",
   "execution_count": null,
   "id": "b3eae8c5",
   "metadata": {},
   "outputs": [],
   "source": []
  },
  {
   "cell_type": "code",
   "execution_count": null,
   "id": "9c6c35f1",
   "metadata": {},
   "outputs": [],
   "source": []
  },
  {
   "cell_type": "markdown",
   "id": "f6497e4d",
   "metadata": {},
   "source": [
    "#### -Load the mpg dataset and use it to answer the following questions:"
   ]
  },
  {
   "cell_type": "code",
   "execution_count": 13,
   "id": "3da9c437",
   "metadata": {},
   "outputs": [],
   "source": [
    "import matplotlib.pyplot as plt\n",
    "import numpy as np\n",
    "import seaborn as sns\n",
    "import scipy.stats as stats\n",
    "import pandas as pd\n",
    "np.random.seed(123)"
   ]
  },
  {
   "cell_type": "code",
   "execution_count": 14,
   "id": "dfb5a72b",
   "metadata": {},
   "outputs": [],
   "source": [
    "from pydataset import data\n",
    "mpg = data('mpg') "
   ]
  },
  {
   "cell_type": "code",
   "execution_count": 12,
   "id": "76f8ad6b",
   "metadata": {},
   "outputs": [
    {
     "data": {
      "text/html": [
       "<div>\n",
       "<style scoped>\n",
       "    .dataframe tbody tr th:only-of-type {\n",
       "        vertical-align: middle;\n",
       "    }\n",
       "\n",
       "    .dataframe tbody tr th {\n",
       "        vertical-align: top;\n",
       "    }\n",
       "\n",
       "    .dataframe thead th {\n",
       "        text-align: right;\n",
       "    }\n",
       "</style>\n",
       "<table border=\"1\" class=\"dataframe\">\n",
       "  <thead>\n",
       "    <tr style=\"text-align: right;\">\n",
       "      <th></th>\n",
       "      <th>manufacturer</th>\n",
       "      <th>model</th>\n",
       "      <th>displ</th>\n",
       "      <th>year</th>\n",
       "      <th>cyl</th>\n",
       "      <th>trans</th>\n",
       "      <th>drv</th>\n",
       "      <th>cty</th>\n",
       "      <th>hwy</th>\n",
       "      <th>fl</th>\n",
       "      <th>class</th>\n",
       "    </tr>\n",
       "  </thead>\n",
       "  <tbody>\n",
       "    <tr>\n",
       "      <th>1</th>\n",
       "      <td>audi</td>\n",
       "      <td>a4</td>\n",
       "      <td>1.8</td>\n",
       "      <td>1999</td>\n",
       "      <td>4</td>\n",
       "      <td>auto(l5)</td>\n",
       "      <td>f</td>\n",
       "      <td>18</td>\n",
       "      <td>29</td>\n",
       "      <td>p</td>\n",
       "      <td>compact</td>\n",
       "    </tr>\n",
       "    <tr>\n",
       "      <th>2</th>\n",
       "      <td>audi</td>\n",
       "      <td>a4</td>\n",
       "      <td>1.8</td>\n",
       "      <td>1999</td>\n",
       "      <td>4</td>\n",
       "      <td>manual(m5)</td>\n",
       "      <td>f</td>\n",
       "      <td>21</td>\n",
       "      <td>29</td>\n",
       "      <td>p</td>\n",
       "      <td>compact</td>\n",
       "    </tr>\n",
       "    <tr>\n",
       "      <th>3</th>\n",
       "      <td>audi</td>\n",
       "      <td>a4</td>\n",
       "      <td>2.0</td>\n",
       "      <td>2008</td>\n",
       "      <td>4</td>\n",
       "      <td>manual(m6)</td>\n",
       "      <td>f</td>\n",
       "      <td>20</td>\n",
       "      <td>31</td>\n",
       "      <td>p</td>\n",
       "      <td>compact</td>\n",
       "    </tr>\n",
       "    <tr>\n",
       "      <th>4</th>\n",
       "      <td>audi</td>\n",
       "      <td>a4</td>\n",
       "      <td>2.0</td>\n",
       "      <td>2008</td>\n",
       "      <td>4</td>\n",
       "      <td>auto(av)</td>\n",
       "      <td>f</td>\n",
       "      <td>21</td>\n",
       "      <td>30</td>\n",
       "      <td>p</td>\n",
       "      <td>compact</td>\n",
       "    </tr>\n",
       "    <tr>\n",
       "      <th>5</th>\n",
       "      <td>audi</td>\n",
       "      <td>a4</td>\n",
       "      <td>2.8</td>\n",
       "      <td>1999</td>\n",
       "      <td>6</td>\n",
       "      <td>auto(l5)</td>\n",
       "      <td>f</td>\n",
       "      <td>16</td>\n",
       "      <td>26</td>\n",
       "      <td>p</td>\n",
       "      <td>compact</td>\n",
       "    </tr>\n",
       "  </tbody>\n",
       "</table>\n",
       "</div>"
      ],
      "text/plain": [
       "  manufacturer model  displ  year  cyl       trans drv  cty  hwy fl    class\n",
       "1         audi    a4    1.8  1999    4    auto(l5)   f   18   29  p  compact\n",
       "2         audi    a4    1.8  1999    4  manual(m5)   f   21   29  p  compact\n",
       "3         audi    a4    2.0  2008    4  manual(m6)   f   20   31  p  compact\n",
       "4         audi    a4    2.0  2008    4    auto(av)   f   21   30  p  compact\n",
       "5         audi    a4    2.8  1999    6    auto(l5)   f   16   26  p  compact"
      ]
     },
     "execution_count": 12,
     "metadata": {},
     "output_type": "execute_result"
    }
   ],
   "source": [
    "mpg.head()"
   ]
  },
  {
   "cell_type": "markdown",
   "id": "9f4abc2c",
   "metadata": {},
   "source": [
    "### 1. Is there a difference in fuel-efficiency in cars from 2008 vs 1999?"
   ]
  },
  {
   "cell_type": "markdown",
   "id": "d23a3cb1",
   "metadata": {},
   "source": [
    "#### - a. Distributions"
   ]
  },
  {
   "cell_type": "code",
   "execution_count": null,
   "id": "7fba7c9c",
   "metadata": {},
   "outputs": [],
   "source": []
  },
  {
   "cell_type": "markdown",
   "id": "cc06180f",
   "metadata": {},
   "source": [
    "#### - b. Set Hypothesis"
   ]
  },
  {
   "cell_type": "code",
   "execution_count": null,
   "id": "b898a21a",
   "metadata": {},
   "outputs": [],
   "source": []
  },
  {
   "cell_type": "markdown",
   "id": "579bba30",
   "metadata": {},
   "source": [
    "#### - c. Set Alpha"
   ]
  },
  {
   "cell_type": "code",
   "execution_count": null,
   "id": "988255bd",
   "metadata": {},
   "outputs": [],
   "source": [
    "α = 0.05"
   ]
  },
  {
   "cell_type": "markdown",
   "id": "f356f740",
   "metadata": {},
   "source": [
    "#### - d. Assumptions"
   ]
  },
  {
   "cell_type": "code",
   "execution_count": null,
   "id": "4f6eb239",
   "metadata": {},
   "outputs": [],
   "source": []
  },
  {
   "cell_type": "markdown",
   "id": "b937705a",
   "metadata": {},
   "source": [
    "#### - e. Compute Test Statistics"
   ]
  },
  {
   "cell_type": "code",
   "execution_count": null,
   "id": "dd22a5b5",
   "metadata": {},
   "outputs": [],
   "source": []
  },
  {
   "cell_type": "markdown",
   "id": "5e4bffc9",
   "metadata": {},
   "source": [
    "#### - f.   (Depends on Test - Update based on type of test)"
   ]
  },
  {
   "cell_type": "code",
   "execution_count": null,
   "id": "35188563",
   "metadata": {},
   "outputs": [],
   "source": []
  },
  {
   "cell_type": "markdown",
   "id": "5626c2ea",
   "metadata": {},
   "source": [
    "### 2. Are compact cars more fuel-efficient than the average car?"
   ]
  },
  {
   "cell_type": "markdown",
   "id": "1ec09894",
   "metadata": {},
   "source": [
    "#### - a. Distributions"
   ]
  },
  {
   "cell_type": "code",
   "execution_count": null,
   "id": "483b1f48",
   "metadata": {},
   "outputs": [],
   "source": []
  },
  {
   "cell_type": "markdown",
   "id": "d0219cb6",
   "metadata": {},
   "source": [
    "#### - b. Set Hypothesis"
   ]
  },
  {
   "cell_type": "code",
   "execution_count": null,
   "id": "beb2fd2c",
   "metadata": {},
   "outputs": [],
   "source": []
  },
  {
   "cell_type": "markdown",
   "id": "40371b2b",
   "metadata": {},
   "source": [
    "#### - c. Set Alpha"
   ]
  },
  {
   "cell_type": "code",
   "execution_count": null,
   "id": "91515299",
   "metadata": {},
   "outputs": [],
   "source": [
    "α = 0.05"
   ]
  },
  {
   "cell_type": "markdown",
   "id": "ca8f37d6",
   "metadata": {},
   "source": [
    "#### - d. Assumptions"
   ]
  },
  {
   "cell_type": "code",
   "execution_count": null,
   "id": "bef93632",
   "metadata": {},
   "outputs": [],
   "source": []
  },
  {
   "cell_type": "markdown",
   "id": "4c1f872e",
   "metadata": {},
   "source": [
    "#### - e. Compute Test Statistics"
   ]
  },
  {
   "cell_type": "code",
   "execution_count": null,
   "id": "dd0a1442",
   "metadata": {},
   "outputs": [],
   "source": []
  },
  {
   "cell_type": "markdown",
   "id": "25d5d43a",
   "metadata": {},
   "source": [
    "#### - f.   (Depends on Test - Update based on type of test)"
   ]
  },
  {
   "cell_type": "code",
   "execution_count": null,
   "id": "3c8f0e92",
   "metadata": {},
   "outputs": [],
   "source": []
  },
  {
   "cell_type": "markdown",
   "id": "bb84603f",
   "metadata": {},
   "source": [
    "### 3. Do manual cars get better gas mileage than automatic cars?"
   ]
  },
  {
   "cell_type": "markdown",
   "id": "b1677530",
   "metadata": {},
   "source": [
    "#### - a. Distributions"
   ]
  },
  {
   "cell_type": "code",
   "execution_count": null,
   "id": "328f0456",
   "metadata": {},
   "outputs": [],
   "source": []
  },
  {
   "cell_type": "markdown",
   "id": "55817f92",
   "metadata": {},
   "source": [
    "#### - b. Set Hypothesis"
   ]
  },
  {
   "cell_type": "code",
   "execution_count": null,
   "id": "d7c3a56d",
   "metadata": {},
   "outputs": [],
   "source": []
  },
  {
   "cell_type": "markdown",
   "id": "96f088b7",
   "metadata": {},
   "source": [
    "#### - c. Set Alpha"
   ]
  },
  {
   "cell_type": "code",
   "execution_count": null,
   "id": "bb5b94bf",
   "metadata": {},
   "outputs": [],
   "source": [
    "α = 0.05"
   ]
  },
  {
   "cell_type": "markdown",
   "id": "fcfe5a89",
   "metadata": {},
   "source": [
    "#### - d. Assumptions"
   ]
  },
  {
   "cell_type": "code",
   "execution_count": null,
   "id": "64973fa9",
   "metadata": {},
   "outputs": [],
   "source": []
  },
  {
   "cell_type": "markdown",
   "id": "69fb1b62",
   "metadata": {},
   "source": [
    "#### - e. Compute Test Statistics"
   ]
  },
  {
   "cell_type": "code",
   "execution_count": null,
   "id": "2a05b7f2",
   "metadata": {},
   "outputs": [],
   "source": []
  },
  {
   "cell_type": "markdown",
   "id": "596f08ca",
   "metadata": {},
   "source": [
    "#### - f.   (Depends on Test - Update based on type of test)"
   ]
  },
  {
   "cell_type": "code",
   "execution_count": null,
   "id": "d7c87a10",
   "metadata": {},
   "outputs": [],
   "source": []
  },
  {
   "cell_type": "code",
   "execution_count": null,
   "id": "55000813",
   "metadata": {},
   "outputs": [],
   "source": []
  }
 ],
 "metadata": {
  "kernelspec": {
   "display_name": "Python 3 (ipykernel)",
   "language": "python",
   "name": "python3"
  },
  "language_info": {
   "codemirror_mode": {
    "name": "ipython",
    "version": 3
   },
   "file_extension": ".py",
   "mimetype": "text/x-python",
   "name": "python",
   "nbconvert_exporter": "python",
   "pygments_lexer": "ipython3",
   "version": "3.9.7"
  }
 },
 "nbformat": 4,
 "nbformat_minor": 5
}
