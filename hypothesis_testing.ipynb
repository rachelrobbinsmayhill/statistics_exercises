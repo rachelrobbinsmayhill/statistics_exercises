{
 "cells": [
  {
   "cell_type": "markdown",
   "id": "6696d3a3",
   "metadata": {},
   "source": [
    "#### For each of the following questions, \n",
    "#### - formulate a null and \n",
    "#### - alternative hypothesis (be as specific as you can be), \n",
    "#### - then give an example of what a true positive, \n",
    "#### - true negative, \n",
    "#### - type I and \n",
    "#### - type II errors would look like. \n",
    "\n",
    "\n",
    "#### Note that some of the questions are intentionally phrased in a vague way. It is your job to reword these as more precise questions that could be tested.\n",
    "\n"
   ]
  },
  {
   "cell_type": "markdown",
   "id": "8a504629",
   "metadata": {},
   "source": [
    "### 1. Has the network latency gone up since we switched internet service providers?\n"
   ]
  },
  {
   "cell_type": "markdown",
   "id": "71f6b2cd",
   "metadata": {},
   "source": [
    "#### 1. - Null Hypothesis"
   ]
  },
  {
   "cell_type": "markdown",
   "id": "5fe5a5b2",
   "metadata": {},
   "source": [
    "#### 1. - Alternative Hypothesis"
   ]
  },
  {
   "cell_type": "markdown",
   "id": "2cc31f57",
   "metadata": {},
   "source": [
    "#### 1. - True Positive"
   ]
  },
  {
   "cell_type": "markdown",
   "id": "2a5edb2d",
   "metadata": {},
   "source": [
    "#### 1. - True Negative"
   ]
  },
  {
   "cell_type": "markdown",
   "id": "64463b05",
   "metadata": {},
   "source": [
    "#### 1. - Type I Error"
   ]
  },
  {
   "cell_type": "markdown",
   "id": "e6669149",
   "metadata": {},
   "source": [
    "#### 1. - Type II Error"
   ]
  },
  {
   "cell_type": "markdown",
   "id": "067a36f3",
   "metadata": {},
   "source": [
    "### 2. Is the website redesign any good?\n"
   ]
  },
  {
   "cell_type": "markdown",
   "id": "3cc38f84",
   "metadata": {},
   "source": [
    "#### 2. - Null Hypothesis"
   ]
  },
  {
   "cell_type": "markdown",
   "id": "7745e3a6",
   "metadata": {},
   "source": [
    "#### 2 - Alternative Hypothesis"
   ]
  },
  {
   "cell_type": "markdown",
   "id": "eeecc971",
   "metadata": {},
   "source": [
    "#### 2. - True Positive"
   ]
  },
  {
   "cell_type": "markdown",
   "id": "b1f976b8",
   "metadata": {},
   "source": [
    "#### 2. - True Negative"
   ]
  },
  {
   "cell_type": "markdown",
   "id": "1508aff0",
   "metadata": {},
   "source": [
    "#### 2. - Type I Error"
   ]
  },
  {
   "cell_type": "markdown",
   "id": "0cf4ac43",
   "metadata": {},
   "source": [
    "#### 2. - Type II Error"
   ]
  },
  {
   "cell_type": "markdown",
   "id": "b098f5c5",
   "metadata": {},
   "source": [
    "### 3. Is our television ad driving more sales?"
   ]
  },
  {
   "cell_type": "markdown",
   "id": "ecbdcf7f",
   "metadata": {},
   "source": [
    "#### 3. - Null Hypothesis"
   ]
  },
  {
   "cell_type": "markdown",
   "id": "9c376583",
   "metadata": {},
   "source": [
    "#### 1. - Alternative Hypothesis"
   ]
  },
  {
   "cell_type": "markdown",
   "id": "d1821e85",
   "metadata": {},
   "source": [
    "#### 1. - True Positive"
   ]
  },
  {
   "cell_type": "markdown",
   "id": "2951702a",
   "metadata": {},
   "source": [
    "#### 1. - True Negative"
   ]
  },
  {
   "cell_type": "markdown",
   "id": "2b3d2283",
   "metadata": {},
   "source": [
    "#### 1. - Type I Error"
   ]
  },
  {
   "cell_type": "markdown",
   "id": "488df21f",
   "metadata": {},
   "source": [
    "#### 1. - Type II Error"
   ]
  },
  {
   "cell_type": "code",
   "execution_count": null,
   "id": "3f02341f",
   "metadata": {},
   "outputs": [],
   "source": []
  }
 ],
 "metadata": {
  "kernelspec": {
   "display_name": "Python 3 (ipykernel)",
   "language": "python",
   "name": "python3"
  },
  "language_info": {
   "codemirror_mode": {
    "name": "ipython",
    "version": 3
   },
   "file_extension": ".py",
   "mimetype": "text/x-python",
   "name": "python",
   "nbconvert_exporter": "python",
   "pygments_lexer": "ipython3",
   "version": "3.9.7"
  }
 },
 "nbformat": 4,
 "nbformat_minor": 5
}
