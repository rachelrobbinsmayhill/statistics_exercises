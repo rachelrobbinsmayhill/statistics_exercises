{
 "cells": [
  {
   "cell_type": "code",
   "execution_count": 1,
   "id": "f8fa90ef",
   "metadata": {},
   "outputs": [],
   "source": [
    "import numpy as np\n",
    "import pandas as pd\n",
    "\n",
    "\n",
    "np.random.seed(29)"
   ]
  },
  {
   "cell_type": "markdown",
   "id": "b9f80320",
   "metadata": {},
   "source": [
    "## 1. How likely is it that you roll doubles when rolling two dice?"
   ]
  },
  {
   "cell_type": "code",
   "execution_count": 2,
   "id": "e86226a3",
   "metadata": {},
   "outputs": [
    {
     "data": {
      "text/plain": [
       "0.4258"
      ]
     },
     "execution_count": 2,
     "metadata": {},
     "output_type": "execute_result"
    }
   ],
   "source": [
    "\n",
    "\n",
    "# 1. Figure out how to represent your data (1 = heads, 0 = tails)\n",
    "# a dice roll is a random number between 1 and 6\n",
    "\n",
    "# 2. Create a matrix of random numbers, rows represent simulations cols represent trials\n",
    "rolls = np.random.randint(1, 7, size=(10000, 3))\n",
    "\n",
    "# 3. Apply an aggregation row-wise to summarize each simulation (sum for the total number of heads)\n",
    "did_we_get_at_least_one_3 = (rolls == 3).sum(axis=1) >= 1\n",
    "\n",
    "# 4. Apply an aggregation to the resulting 1-d array to come up with a experimental probability (>= 2 heads, mean)\n",
    "did_we_get_at_least_one_3.mean()"
   ]
  },
  {
   "cell_type": "code",
   "execution_count": 5,
   "id": "0a704ecf",
   "metadata": {},
   "outputs": [
    {
     "name": "stdout",
     "output_type": "stream",
     "text": [
      "The probability of rolling doubles when rolling two dice is 17%.\n"
     ]
    }
   ],
   "source": [
    "# Set trials and simulations\n",
    "n_trials = 2\n",
    "n_simulations = 100_000\n",
    "\n",
    "# 1. Figure out how to represent your data \n",
    "# a dice roll is a random number between 1 and 6\n",
    "\n",
    "# 2. Create a matrix of random numbers, rows represent simulations cols represent trials\n",
    "rolls = np.random.randint(1 ,7, size=(n_simulations, n_trials))\n",
    "\n",
    "# 3. Apply an aggregation row-wise to summarize each simulation (sum for the total number of doubles)\n",
    "doubles_when_rolling_two = [x[0] == x[1] for x in rolls]\n",
    "\n",
    "# 4. Apply an aggregation to the resulting 1-d array to come up with a experimental probability (>= 2 heads, mean)\n",
    "probability_of_doubles_when_rolling_two= pd.Series(doubles_when_rolling_two).mean()\n",
    "\n",
    "print(f'The probability of rolling doubles when rolling two dice is {round(probability_of_doubles_when_rolling_two*100)}%.')\n"
   ]
  },
  {
   "cell_type": "markdown",
   "id": "a6f85641",
   "metadata": {},
   "source": [
    "## 2. If you flip 8 coins, what is the probability of getting exactly 3 heads? What is the probability of getting more than 3 heads?"
   ]
  },
  {
   "cell_type": "code",
   "execution_count": 8,
   "id": "22c2ad33",
   "metadata": {},
   "outputs": [
    {
     "name": "stdout",
     "output_type": "stream",
     "text": [
      "The probability of getting exactly 3 heads when flipping 8 coins is 22%.\n",
      "The probability of getting more than 3 heads when flipping 8 coins is 64%.\n"
     ]
    }
   ],
   "source": [
    "# Set trials and simulations\n",
    "\n",
    "n_trials = 8\n",
    "n_simulations = 100_000\n",
    "\n",
    "# 1. Figure out how to represent your data \n",
    "# a coin flip is heads or tails (heads = 1, tails = 0)\n",
    "\n",
    "\n",
    "# 2. Create a matrix of random numbers, rows represent simulations cols represent trials\n",
    "flips = np.random.choice([1,0], size=(n_simulations, n_trials))\n",
    "\n",
    "\n",
    "# 3. Apply an aggregation row-wise to summarize each simulation (sum for the total number of heads)\n",
    "exactly_three_heads = flips.sum(axis=1) == 3\n",
    "\n",
    "more_than_three_heads = flips.sum(axis=1) > 3\n",
    "\n",
    "\n",
    "# 4. Apply an aggregation to the resulting 1-d array to come up with a experimental probability (>= 2 heads, mean)\n",
    "odds_of_exactly_three_heads = exactly_three_heads.mean()\n",
    "\n",
    "odds_of_more_than_three_heads = more_than_three_heads.mean()\n",
    "\n",
    "\n",
    "\n",
    "print(f'The probability of getting exactly 3 heads when flipping 8 coins is {round(odds_of_exactly_three_heads*100)}%.')\n",
    "\n",
    "print(f'The probability of getting more than 3 heads when flipping 8 coins is {round(odds_of_more_than_three_heads*100)}%.')\n"
   ]
  },
  {
   "cell_type": "markdown",
   "id": "8d4f571e",
   "metadata": {},
   "source": [
    "## 3. There are approximitely 3 web development cohorts for every 1 data science cohort at Codeup. Assuming that Codeup randomly selects an alumni to put on a billboard, what are the odds that the two billboards I drive past both have data science students on them?"
   ]
  },
  {
   "cell_type": "code",
   "execution_count": 15,
   "id": "111f3c36",
   "metadata": {},
   "outputs": [
    {
     "name": "stdout",
     "output_type": "stream",
     "text": [
      "The probability of seeing two data science billboards is 6%.\n"
     ]
    }
   ],
   "source": [
    "n_trials = 2\n",
    "n_simulations = 100_000\n",
    "\n",
    "\n",
    "# 1. Figure out how to represent your data \n",
    "# 3 Web-Development = 0   1 Data Science = 1\n",
    "\n",
    "\n",
    "# 2. Create a matrix of random numbers, rows represent simulations cols represent trials\n",
    "billboards = np.random.choice([1,0,0,0], size=(n_simulations, n_trials))\n",
    "\n",
    "\n",
    "# 3. Apply an aggregation row-wise to summarize each simulation (sum for the total number of heads)\n",
    "two_data_science_billboards = billboards.sum(axis=1) == 2\n",
    "\n",
    "\n",
    "# 4. Apply an aggregation to the resulting 1-d array to come up with a experimental probability (>= 2 heads, mean)\n",
    "\n",
    "odds_of_two_data_science_billboards = two_data_science_billboards.mean()\n",
    "odds_of_two_data_science_billboards\n",
    "\n",
    "\n",
    "\n",
    "print(f'The probability of seeing two data science billboards is {round(odds_of_two_data_science_billboards*100)}%.')\n"
   ]
  },
  {
   "cell_type": "markdown",
   "id": "12f99bd3",
   "metadata": {},
   "source": [
    "## 4. Codeup students buy, on average, 3 poptart packages with a standard deviation of 1.5 a day from the snack vending machine. If on monday the machine is restocked with 17 poptart packages, how likely is it that I will be able to buy some poptarts on Friday afternoon? (Remember, if you have mean and standard deviation, use the np.random.normal)"
   ]
  },
  {
   "cell_type": "code",
   "execution_count": null,
   "id": "73bfb80c",
   "metadata": {},
   "outputs": [],
   "source": [
    "n_trials = \n",
    "n_simulations = 10_000\n",
    "\n",
    "\n"
   ]
  },
  {
   "cell_type": "markdown",
   "id": "9a726a03",
   "metadata": {},
   "source": [
    "Compare Heights\n",
    "\n",
    "Men have an average height of 178 cm and standard deviation of 8cm.\n",
    "Women have a mean of 170, sd = 6cm.\n",
    "Since you have means and standard deviations, you can use np.random.normal to generate observations.\n",
    "If a man and woman are chosen at random, P(woman taller than man)?\n",
    "When installing anaconda on a student's computer, there's a 1 in 250 chance that the download is corrupted and the installation fails. What are the odds that after having 50 students download anaconda, no one has an installation issue? 100 students?\n",
    "\n",
    "What is the probability that we observe an installation issue within the first 150 students that download anaconda?\n",
    "\n",
    "How likely is it that 450 students all download anaconda without an issue?\n",
    "\n",
    "There's a 70% chance on any given day that there will be at least one food truck at Travis Park. However, you haven't seen a food truck there in 3 days. How unlikely is this?\n",
    "\n",
    "How likely is it that a food truck will show up sometime this week?\n",
    "\n",
    "If 23 people are in the same room, what are the odds that two of them share a birthday? What if it's 20 people? 40?"
   ]
  }
 ],
 "metadata": {
  "kernelspec": {
   "display_name": "Python 3 (ipykernel)",
   "language": "python",
   "name": "python3"
  },
  "language_info": {
   "codemirror_mode": {
    "name": "ipython",
    "version": 3
   },
   "file_extension": ".py",
   "mimetype": "text/x-python",
   "name": "python",
   "nbconvert_exporter": "python",
   "pygments_lexer": "ipython3",
   "version": "3.9.7"
  }
 },
 "nbformat": 4,
 "nbformat_minor": 5
}
