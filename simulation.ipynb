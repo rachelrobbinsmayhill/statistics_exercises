{
 "cells": [
  {
   "cell_type": "code",
   "execution_count": 22,
   "id": "f8fa90ef",
   "metadata": {},
   "outputs": [],
   "source": [
    "import numpy as np\n",
    "import pandas as pd\n",
    "\n",
    "\n",
    "np.random.seed(29)"
   ]
  },
  {
   "cell_type": "markdown",
   "id": "b9f80320",
   "metadata": {},
   "source": [
    "## 1. How likely is it that you roll doubles when rolling two dice?"
   ]
  },
  {
   "cell_type": "code",
   "execution_count": 23,
   "id": "e86226a3",
   "metadata": {},
   "outputs": [
    {
     "data": {
      "text/plain": [
       "0.4258"
      ]
     },
     "execution_count": 23,
     "metadata": {},
     "output_type": "execute_result"
    }
   ],
   "source": [
    "\n",
    "\n",
    "# 1. Figure out how to represent your data (1 = heads, 0 = tails)\n",
    "# a dice roll is a random number between 1 and 6\n",
    "\n",
    "# 2. Create a matrix of random numbers, rows represent simulations cols represent trials\n",
    "rolls = np.random.randint(1, 7, size=(10000, 3))\n",
    "\n",
    "# 3. Apply an aggregation row-wise to summarize each simulation (sum for the total number of heads)\n",
    "did_we_get_at_least_one_3 = (rolls == 3).sum(axis=1) >= 1\n",
    "\n",
    "# 4. Apply an aggregation to the resulting 1-d array to come up with a experimental probability (>= 2 heads, mean)\n",
    "did_we_get_at_least_one_3.mean()"
   ]
  },
  {
   "cell_type": "code",
   "execution_count": 24,
   "id": "0a704ecf",
   "metadata": {},
   "outputs": [
    {
     "name": "stdout",
     "output_type": "stream",
     "text": [
      "The probability of rolling doubles when rolling two dice is 17%.\n"
     ]
    }
   ],
   "source": [
    "# Set trials and simulations\n",
    "n_trials = 2\n",
    "n_simulations = 100_000\n",
    "\n",
    "# 1. Figure out how to represent your data \n",
    "# a dice roll is a random number between 1 and 6\n",
    "\n",
    "# 2. Create a matrix of random numbers, rows represent simulations cols represent trials\n",
    "rolls = np.random.randint(1 ,7, size=(n_simulations, n_trials))\n",
    "\n",
    "# 3. Apply an aggregation row-wise to summarize each simulation (sum for the total number of doubles)\n",
    "doubles_when_rolling_two = [x[0] == x[1] for x in rolls]\n",
    "\n",
    "# 4. Apply an aggregation to the resulting 1-d array to come up with a experimental probability (>= 2 heads, mean)\n",
    "probability_of_doubles_when_rolling_two= pd.Series(doubles_when_rolling_two).mean()\n",
    "\n",
    "print(f'The probability of rolling doubles when rolling two dice is {round(probability_of_doubles_when_rolling_two*100)}%.')\n"
   ]
  },
  {
   "cell_type": "code",
   "execution_count": 25,
   "id": "8eddb22c",
   "metadata": {},
   "outputs": [
    {
     "name": "stdout",
     "output_type": "stream",
     "text": [
      "The probability of rolling doubles when rolling two dice is 17%.\n"
     ]
    }
   ],
   "source": [
    "# Condensed Version\n",
    "rolls = np.random.randint(1 ,7, size=(n_simulations, n_trials))\n",
    "doubles_when_rolling_two = [x[0] == x[1] for x in rolls]\n",
    "probability_of_doubles_when_rolling_two= pd.Series(doubles_when_rolling_two).mean()\n",
    "\n",
    "print(f'The probability of rolling doubles when rolling two dice is {round(probability_of_doubles_when_rolling_two*100)}%.')\n"
   ]
  },
  {
   "cell_type": "markdown",
   "id": "a6f85641",
   "metadata": {},
   "source": [
    "## 2. If you flip 8 coins, what is the probability of getting exactly 3 heads? What is the probability of getting more than 3 heads?"
   ]
  },
  {
   "cell_type": "code",
   "execution_count": 26,
   "id": "22c2ad33",
   "metadata": {},
   "outputs": [
    {
     "name": "stdout",
     "output_type": "stream",
     "text": [
      "The probability of getting exactly 3 heads when flipping 8 coins is 22%.\n",
      "The probability of getting more than 3 heads when flipping 8 coins is 64%.\n"
     ]
    }
   ],
   "source": [
    "# Set trials and simulations\n",
    "\n",
    "n_trials = 8\n",
    "n_simulations = 100_000\n",
    "\n",
    "# 1. Figure out how to represent your data \n",
    "# a coin flip is heads or tails (heads = 1, tails = 0)\n",
    "\n",
    "\n",
    "# 2. Create a matrix of random numbers, rows represent simulations cols represent trials\n",
    "flips = np.random.choice([1,0], size=(n_simulations, n_trials))\n",
    "\n",
    "\n",
    "# 3. Apply an aggregation row-wise to summarize each simulation (sum for the total number of heads)\n",
    "exactly_three_heads = flips.sum(axis=1) == 3\n",
    "\n",
    "more_than_three_heads = flips.sum(axis=1) > 3\n",
    "\n",
    "\n",
    "# 4. Apply an aggregation to the resulting 1-d array to come up with a experimental probability (>= 2 heads, mean)\n",
    "odds_of_exactly_three_heads = exactly_three_heads.mean()\n",
    "\n",
    "odds_of_more_than_three_heads = more_than_three_heads.mean()\n",
    "\n",
    "\n",
    "\n",
    "print(f'The probability of getting exactly 3 heads when flipping 8 coins is {round(odds_of_exactly_three_heads*100)}%.')\n",
    "\n",
    "print(f'The probability of getting more than 3 heads when flipping 8 coins is {round(odds_of_more_than_three_heads*100)}%.')\n"
   ]
  },
  {
   "cell_type": "code",
   "execution_count": 27,
   "id": "5e8909fd",
   "metadata": {},
   "outputs": [
    {
     "name": "stdout",
     "output_type": "stream",
     "text": [
      "The probability of getting exactly 3 heads when flipping 8 coins is 22%.\n"
     ]
    }
   ],
   "source": [
    "# Condensed Version\n",
    "\n",
    "flips = np.random.choice([1,0], size=(n_simulations, n_trials))\n",
    "exactly_three_heads = flips.sum(axis=1) == 3\n",
    "odds_of_exactly_three_heads = exactly_three_heads.mean()\n",
    "\n",
    "print(f'The probability of getting exactly 3 heads when flipping 8 coins is {round(odds_of_exactly_three_heads*100)}%.')"
   ]
  },
  {
   "cell_type": "code",
   "execution_count": 28,
   "id": "570d94e9",
   "metadata": {},
   "outputs": [
    {
     "name": "stdout",
     "output_type": "stream",
     "text": [
      "The probability of getting more than 3 heads when flipping 8 coins is 64%.\n"
     ]
    }
   ],
   "source": [
    "# Condensed Version\n",
    "\n",
    "more_than_three_heads = flips.sum(axis=1) > 3\n",
    "odds_of_more_than_three_heads = more_than_three_heads.mean()\n",
    "print(f'The probability of getting more than 3 heads when flipping 8 coins is {round(odds_of_more_than_three_heads*100)}%.')"
   ]
  },
  {
   "cell_type": "markdown",
   "id": "8d4f571e",
   "metadata": {},
   "source": [
    "## 3. There are approximitely 3 web development cohorts for every 1 data science cohort at Codeup. Assuming that Codeup randomly selects an alumni to put on a billboard, what are the odds that the two billboards I drive past both have data science students on them?"
   ]
  },
  {
   "cell_type": "code",
   "execution_count": 29,
   "id": "111f3c36",
   "metadata": {},
   "outputs": [
    {
     "name": "stdout",
     "output_type": "stream",
     "text": [
      "The probability of seeing two data science billboards is 6%.\n"
     ]
    }
   ],
   "source": [
    "n_trials = 2\n",
    "n_simulations = 100_000\n",
    "\n",
    "\n",
    "# 1. Figure out how to represent your data \n",
    "# 3 Web-Development = 0   1 Data Science = 1\n",
    "\n",
    "\n",
    "# 2. Create a matrix of random numbers, rows represent simulations cols represent trials\n",
    "billboards = np.random.choice([1,0,0,0], size=(n_simulations, n_trials))\n",
    "\n",
    "\n",
    "# 3. Apply an aggregation row-wise to summarize each simulation (sum for the total number of heads)\n",
    "two_data_science_billboards = billboards.sum(axis=1) == 2\n",
    "\n",
    "\n",
    "# 4. Apply an aggregation to the resulting 1-d array to come up with a experimental probability (>= 2 heads, mean)\n",
    "\n",
    "odds_of_two_data_science_billboards = two_data_science_billboards.mean()\n",
    "odds_of_two_data_science_billboards\n",
    "\n",
    "\n",
    "\n",
    "print(f'The probability of seeing two data science billboards is {round(odds_of_two_data_science_billboards*100)}%.')\n"
   ]
  },
  {
   "cell_type": "code",
   "execution_count": 30,
   "id": "df654944",
   "metadata": {},
   "outputs": [
    {
     "name": "stdout",
     "output_type": "stream",
     "text": [
      "The probability of seeing two data science billboards is 6%.\n"
     ]
    }
   ],
   "source": [
    "# Condensed Version\n",
    "\n",
    "billboards = np.random.choice([1,0,0,0], size=(n_simulations, n_trials))\n",
    "two_data_science_billboards = billboards.sum(axis=1) == 2\n",
    "odds_of_two_data_science_billboards = two_data_science_billboards.mean()\n",
    "\n",
    "print(f'The probability of seeing two data science billboards is {round(odds_of_two_data_science_billboards*100)}%.')\n",
    "\n"
   ]
  },
  {
   "cell_type": "markdown",
   "id": "12f99bd3",
   "metadata": {},
   "source": [
    "## 4. Codeup students buy, on average, 3 poptart packages with a standard deviation of 1.5 a day from the snack vending machine. If on monday the machine is restocked with 17 poptart packages, how likely is it that I will be able to buy some poptarts on Friday afternoon? (Remember, if you have mean and standard deviation, use the np.random.normal)"
   ]
  },
  {
   "cell_type": "code",
   "execution_count": 31,
   "id": "73bfb80c",
   "metadata": {},
   "outputs": [
    {
     "name": "stdout",
     "output_type": "stream",
     "text": [
      "The probability of being able to buy a poptart Friday afternoon is 62%.\n"
     ]
    }
   ],
   "source": [
    "n_trials = 5\n",
    "# By Friday AFTERNOON, so, Mon, Tues, Wed, Thurs, and Fri (morning).\n",
    "\n",
    "n_simulations = 100_000\n",
    "\n",
    "\n",
    "poptarts = np.random.normal(3, 1.5, size=(n_simulations, n_trials)).reshape((n_simulations, n_trials))\n",
    "poptarts_on_Friday = poptarts.sum(axis=1) <= 16\n",
    "odds_of_poptarts_on_Friday = poptarts_on_Friday.mean()\n",
    "\n",
    "print(f'The probability of being able to buy a poptart Friday afternoon is {round(odds_of_poptarts_on_Friday*100)}%.')"
   ]
  },
  {
   "cell_type": "markdown",
   "id": "8db51082",
   "metadata": {},
   "source": [
    "## 5. Compare Heights\n",
    "\n",
    "### - Men have an average height of 178 cm and standard deviation of 8cm. \n",
    "\n",
    "### - Women have a mean of 170, sd = 6cm.\n",
    "\n",
    "### - Since you have means and standard deviations, you can use np.random.normal to generate observations.\n",
    "\n",
    "### If a man and woman are chosen at random, P(woman taller than man)?"
   ]
  },
  {
   "cell_type": "code",
   "execution_count": 32,
   "id": "28c36465",
   "metadata": {},
   "outputs": [
    {
     "name": "stdout",
     "output_type": "stream",
     "text": [
      "The probability of the female being taller is 21%.\n"
     ]
    }
   ],
   "source": [
    "# P(woman taller than man)  women = 1 man = 0\n",
    "\n",
    "n_trials = 2\n",
    "n_simulations\n",
    "\n",
    "male_height = np.random.normal(178, 8, 100_000)\n",
    "female_height = np.random.normal(170, 6, 100_000)\n",
    "\n",
    "df = pd.DataFrame({\"male_height\" : male_height,\n",
    "                  'female_height': female_height})\n",
    "\n",
    "df['female_is_taller'] = df.female_height > df.male_height\n",
    "\n",
    "female_taller = df['female_is_taller'].mean()\n",
    "\n",
    "\n",
    "print(f'The probability of the female being taller is {round(female_taller*100)}%.')"
   ]
  },
  {
   "cell_type": "markdown",
   "id": "7ade4a90",
   "metadata": {},
   "source": [
    "## 6. When installing anaconda on a student's computer, there's a 1 in 250 chance that the download is corrupted and the installation fails. "
   ]
  },
  {
   "cell_type": "code",
   "execution_count": 33,
   "id": "0385e046",
   "metadata": {},
   "outputs": [],
   "source": [
    "# 1. Figure out how to represent your data \n",
    "\n",
    "# 2. Create a matrix of random numbers, rows represent simulations cols represent trials\n",
    "\n",
    "# 3. Apply an aggregation row-wise to summarize each simulation (sum for the total number of heads)\n",
    "\n",
    "# 4. Apply an aggregation to the resulting 1-d array to come up with a experimental probability (>= 2 heads, mean)"
   ]
  },
  {
   "cell_type": "markdown",
   "id": "7503da24",
   "metadata": {},
   "source": [
    "## - What are the odds that after having 50 students download anaconda, no one has an installation issue? "
   ]
  },
  {
   "cell_type": "code",
   "execution_count": 53,
   "id": "56183ec0",
   "metadata": {},
   "outputs": [
    {
     "name": "stdout",
     "output_type": "stream",
     "text": [
      "The probability no student has an installation issue after 50 student downloads is 82%.\n"
     ]
    }
   ],
   "source": [
    "prob_corrupted = 1/250\n",
    "n_trials = 50\n",
    "n_simulations = 100_000\n",
    "\n",
    "# not corrupt= 0    corrupt= 1\n",
    "\n",
    "student_downloads= np.random.random(size=(n_simulations, n_trials))\n",
    "downloads_corrupted = student_downloads < prob_corrupted\n",
    "no_downloads_corrupted = downloads_corrupted.sum(axis=1) == 0 \n",
    "prob_of_no_downloads_corrupted = no_downloads_corrupted.mean()\n",
    "\n",
    "prob_of_no_downloads_corrupted \n",
    "\n",
    "\n",
    "print(f'The probability no student has an installation issue after {n_trials} student downloads is {round(prob_of_no_downloads_corrupted *100)}%.')"
   ]
  },
  {
   "cell_type": "markdown",
   "id": "8065653b",
   "metadata": {},
   "source": [
    "## - 100 students?"
   ]
  },
  {
   "cell_type": "code",
   "execution_count": 54,
   "id": "2a7a79ca",
   "metadata": {},
   "outputs": [
    {
     "name": "stdout",
     "output_type": "stream",
     "text": [
      "The probability no student has an installation issue after 100 student downloads is 67%.\n"
     ]
    }
   ],
   "source": [
    "n_trials = 100\n",
    "n_simulations = 100_000\n",
    "\n",
    "prob_corrupted = 1/250\n",
    "\n",
    "\n",
    "# not corrupt= 0    corrupt= 1\n",
    "\n",
    "student_downloads= np.random.random(size=(n_simulations, n_trials))\n",
    "downloads_corrupted = student_downloads < prob_corrupted\n",
    "no_downloads_corrupted = downloads_corrupted.sum(axis=1) == 0 \n",
    "prob_of_no_downloads_corrupted = no_downloads_corrupted.mean()\n",
    "\n",
    "prob_of_no_downloads_corrupted \n",
    "\n",
    "print(f'The probability no student has an installation issue after {n_trials} student downloads is {round(prob_of_no_downloads_corrupted *100)}%.')"
   ]
  },
  {
   "cell_type": "markdown",
   "id": "5f4fdb16",
   "metadata": {},
   "source": [
    "## - What is the probability that we observe an installation issue within the first 150 students that download anaconda?"
   ]
  },
  {
   "cell_type": "code",
   "execution_count": 55,
   "id": "f5579ca8",
   "metadata": {},
   "outputs": [
    {
     "name": "stdout",
     "output_type": "stream",
     "text": [
      "The probability no student has an installation issue after 150 student downloads is 55%.\n"
     ]
    }
   ],
   "source": [
    "n_trials = 150\n",
    "n_simulations = 100_000\n",
    "\n",
    "prob_corrupted = 1/250\n",
    "\n",
    "\n",
    "# not corrupt= 0    corrupt= 1\n",
    "\n",
    "student_downloads= np.random.random(size=(n_simulations, n_trials))\n",
    "downloads_corrupted = student_downloads < prob_corrupted\n",
    "no_downloads_corrupted = downloads_corrupted.sum(axis=1) == 0 \n",
    "prob_of_no_downloads_corrupted = no_downloads_corrupted.mean()\n",
    "\n",
    "prob_of_no_downloads_corrupted \n",
    "\n",
    "print(f'The probability no student has an installation issue after {n_trials} student downloads is {round(prob_of_no_downloads_corrupted *100)}%.')"
   ]
  },
  {
   "cell_type": "markdown",
   "id": "537fa546",
   "metadata": {},
   "source": [
    "## - How likely is it that 450 students all download anaconda without an issue?"
   ]
  },
  {
   "cell_type": "code",
   "execution_count": 56,
   "id": "dbc42fcf",
   "metadata": {},
   "outputs": [
    {
     "name": "stdout",
     "output_type": "stream",
     "text": [
      "The probability no student has an installation issue after 450 student downloads is 16%.\n"
     ]
    }
   ],
   "source": [
    "n_trials = 450\n",
    "n_simulations = 100_000\n",
    "\n",
    "prob_corrupted = 1/250\n",
    "\n",
    "\n",
    "# not corrupt= 0    corrupt= 1\n",
    "\n",
    "student_downloads= np.random.random(size=(n_simulations, n_trials))\n",
    "downloads_corrupted = student_downloads < prob_corrupted\n",
    "no_downloads_corrupted = downloads_corrupted.sum(axis=1) == 0 \n",
    "prob_of_no_downloads_corrupted = no_downloads_corrupted.mean()\n",
    "\n",
    "prob_of_no_downloads_corrupted \n",
    "\n",
    "print(f'The probability no student has an installation issue after {n_trials} student downloads is {round(prob_of_no_downloads_corrupted *100)}%.')"
   ]
  },
  {
   "cell_type": "markdown",
   "id": "f4e5c780",
   "metadata": {},
   "source": [
    "## #6. Completed as a function. "
   ]
  },
  {
   "cell_type": "code",
   "execution_count": 66,
   "id": "87ca8dc2",
   "metadata": {},
   "outputs": [],
   "source": [
    "def download_issue(number_of_students):\n",
    "    \n",
    "    n_simulations = 100_000\n",
    "    n_cols = number_of_students\n",
    "    \n",
    "\n",
    "    prob_corrupted = 1/250 # not corrupt= 0    corrupt= 1\n",
    "\n",
    "    student_downloads= np.random.random(size=(n_simulations, n_cols))\n",
    "    downloads_corrupted = student_downloads < prob_corrupted\n",
    "    no_downloads_corrupted = downloads_corrupted.sum(axis=1) == 0 \n",
    "    prob_of_no_downloads_corrupted = no_downloads_corrupted.mean()\n",
    "\n",
    "    print(f'The probability no student has an installation issue after {number_of_students} student downloads is {round(prob_of_no_downloads_corrupted *100)}%.')"
   ]
  },
  {
   "cell_type": "code",
   "execution_count": 67,
   "id": "2dd327a2",
   "metadata": {},
   "outputs": [
    {
     "name": "stdout",
     "output_type": "stream",
     "text": [
      "The probability no student has an installation issue after 50 student downloads is 82%.\n"
     ]
    }
   ],
   "source": [
    "download_issue(50)"
   ]
  },
  {
   "cell_type": "code",
   "execution_count": 68,
   "id": "e483a88d",
   "metadata": {},
   "outputs": [
    {
     "name": "stdout",
     "output_type": "stream",
     "text": [
      "The probability no student has an installation issue after 100 student downloads is 67%.\n"
     ]
    }
   ],
   "source": [
    "download_issue(100)"
   ]
  },
  {
   "cell_type": "code",
   "execution_count": 69,
   "id": "fe6f70a7",
   "metadata": {},
   "outputs": [
    {
     "name": "stdout",
     "output_type": "stream",
     "text": [
      "The probability no student has an installation issue after 150 student downloads is 55%.\n"
     ]
    }
   ],
   "source": [
    "download_issue(150)"
   ]
  },
  {
   "cell_type": "code",
   "execution_count": 70,
   "id": "534ee590",
   "metadata": {},
   "outputs": [
    {
     "name": "stdout",
     "output_type": "stream",
     "text": [
      "The probability no student has an installation issue after 450 student downloads is 17%.\n"
     ]
    }
   ],
   "source": [
    "download_issue(450)"
   ]
  },
  {
   "cell_type": "markdown",
   "id": "2ce6ff37",
   "metadata": {},
   "source": [
    "## 7. There's a 70% chance on any given day that there will be at least one food truck at Travis Park. However, you haven't seen a food truck there in 3 days. How unlikely is this?"
   ]
  },
  {
   "cell_type": "code",
   "execution_count": null,
   "id": "ebe48121",
   "metadata": {},
   "outputs": [],
   "source": []
  },
  {
   "cell_type": "markdown",
   "id": "d3926d9d",
   "metadata": {},
   "source": [
    "## - How likely is it that a food truck will show up sometime this week?"
   ]
  },
  {
   "cell_type": "code",
   "execution_count": null,
   "id": "b57bbcf6",
   "metadata": {},
   "outputs": [],
   "source": []
  },
  {
   "cell_type": "markdown",
   "id": "9a726a03",
   "metadata": {},
   "source": [
    "## 8. If 23 people are in the same room, what are the odds that two of them share a birthday? What if it's 20 people? 40?"
   ]
  },
  {
   "cell_type": "code",
   "execution_count": null,
   "id": "ac069301",
   "metadata": {},
   "outputs": [],
   "source": []
  }
 ],
 "metadata": {
  "kernelspec": {
   "display_name": "Python 3 (ipykernel)",
   "language": "python",
   "name": "python3"
  },
  "language_info": {
   "codemirror_mode": {
    "name": "ipython",
    "version": 3
   },
   "file_extension": ".py",
   "mimetype": "text/x-python",
   "name": "python",
   "nbconvert_exporter": "python",
   "pygments_lexer": "ipython3",
   "version": "3.9.7"
  }
 },
 "nbformat": 4,
 "nbformat_minor": 5
}
