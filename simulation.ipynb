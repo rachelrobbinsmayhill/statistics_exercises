{
 "cells": [
  {
   "cell_type": "code",
   "execution_count": 36,
   "id": "f8fa90ef",
   "metadata": {},
   "outputs": [],
   "source": [
    "import numpy as np\n",
    "import pandas as pd\n",
    "\n",
    "\n",
    "np.random.seed(29)"
   ]
  },
  {
   "cell_type": "markdown",
   "id": "b9f80320",
   "metadata": {},
   "source": [
    "## 1. How likely is it that you roll doubles when rolling two dice?"
   ]
  },
  {
   "cell_type": "code",
   "execution_count": 37,
   "id": "e86226a3",
   "metadata": {},
   "outputs": [
    {
     "data": {
      "text/plain": [
       "0.4258"
      ]
     },
     "execution_count": 37,
     "metadata": {},
     "output_type": "execute_result"
    }
   ],
   "source": [
    "\n",
    "\n",
    "# 1. Figure out how to represent your data (1 = heads, 0 = tails)\n",
    "# a dice roll is a random number between 1 and 6\n",
    "\n",
    "# 2. Create a matrix of random numbers, rows represent simulations cols represent trials\n",
    "rolls = np.random.randint(1, 7, size=(10000, 3))\n",
    "\n",
    "# 3. Apply an aggregation row-wise to summarize each simulation (sum for the total number of heads)\n",
    "did_we_get_at_least_one_3 = (rolls == 3).sum(axis=1) >= 1\n",
    "\n",
    "# 4. Apply an aggregation to the resulting 1-d array to come up with a experimental probability (>= 2 heads, mean)\n",
    "did_we_get_at_least_one_3.mean()"
   ]
  },
  {
   "cell_type": "code",
   "execution_count": 38,
   "id": "0a704ecf",
   "metadata": {},
   "outputs": [
    {
     "name": "stdout",
     "output_type": "stream",
     "text": [
      "The probability of rolling doubles when rolling two dice is 17%.\n"
     ]
    }
   ],
   "source": [
    "# Set trials and simulations\n",
    "n_trials = 2\n",
    "n_simulations = 100_000\n",
    "\n",
    "# 1. Figure out how to represent your data \n",
    "# a dice roll is a random number between 1 and 6\n",
    "\n",
    "# 2. Create a matrix of random numbers, rows represent simulations cols represent trials\n",
    "rolls = np.random.randint(1 ,7, size=(n_simulations, n_trials))\n",
    "\n",
    "# 3. Apply an aggregation row-wise to summarize each simulation (sum for the total number of doubles)\n",
    "doubles_when_rolling_two = [x[0] == x[1] for x in rolls]\n",
    "\n",
    "# 4. Apply an aggregation to the resulting 1-d array to come up with a experimental probability (>= 2 heads, mean)\n",
    "probability_of_doubles_when_rolling_two= pd.Series(doubles_when_rolling_two).mean()\n",
    "\n",
    "print(f'The probability of rolling doubles when rolling two dice is {round(probability_of_doubles_when_rolling_two*100)}%.')\n"
   ]
  },
  {
   "cell_type": "code",
   "execution_count": 39,
   "id": "058600df",
   "metadata": {},
   "outputs": [
    {
     "name": "stdout",
     "output_type": "stream",
     "text": [
      "The probability of rolling doubles when rolling two dice is 17%.\n"
     ]
    }
   ],
   "source": [
    "# Condensed Version\n",
    "rolls = np.random.randint(1 ,7, size=(n_simulations, n_trials))\n",
    "doubles_when_rolling_two = [x[0] == x[1] for x in rolls]\n",
    "probability_of_doubles_when_rolling_two= pd.Series(doubles_when_rolling_two).mean()\n",
    "\n",
    "print(f'The probability of rolling doubles when rolling two dice is {round(probability_of_doubles_when_rolling_two*100)}%.')\n"
   ]
  },
  {
   "cell_type": "markdown",
   "id": "a6f85641",
   "metadata": {},
   "source": [
    "## 2. If you flip 8 coins, what is the probability of getting exactly 3 heads? What is the probability of getting more than 3 heads?"
   ]
  },
  {
   "cell_type": "code",
   "execution_count": 40,
   "id": "22c2ad33",
   "metadata": {},
   "outputs": [
    {
     "name": "stdout",
     "output_type": "stream",
     "text": [
      "The probability of getting exactly 3 heads when flipping 8 coins is 22%.\n",
      "The probability of getting more than 3 heads when flipping 8 coins is 64%.\n"
     ]
    }
   ],
   "source": [
    "# Set trials and simulations\n",
    "\n",
    "n_trials = 8\n",
    "n_simulations = 100_000\n",
    "\n",
    "# 1. Figure out how to represent your data \n",
    "# a coin flip is heads or tails (heads = 1, tails = 0)\n",
    "\n",
    "\n",
    "# 2. Create a matrix of random numbers, rows represent simulations cols represent trials\n",
    "flips = np.random.choice([1,0], size=(n_simulations, n_trials))\n",
    "\n",
    "\n",
    "# 3. Apply an aggregation row-wise to summarize each simulation (sum for the total number of heads)\n",
    "exactly_three_heads = flips.sum(axis=1) == 3\n",
    "\n",
    "more_than_three_heads = flips.sum(axis=1) > 3\n",
    "\n",
    "\n",
    "# 4. Apply an aggregation to the resulting 1-d array to come up with a experimental probability (>= 2 heads, mean)\n",
    "odds_of_exactly_three_heads = exactly_three_heads.mean()\n",
    "\n",
    "odds_of_more_than_three_heads = more_than_three_heads.mean()\n",
    "\n",
    "\n",
    "\n",
    "print(f'The probability of getting exactly 3 heads when flipping 8 coins is {round(odds_of_exactly_three_heads*100)}%.')\n",
    "\n",
    "print(f'The probability of getting more than 3 heads when flipping 8 coins is {round(odds_of_more_than_three_heads*100)}%.')\n"
   ]
  },
  {
   "cell_type": "code",
   "execution_count": 41,
   "id": "2f32bab6",
   "metadata": {},
   "outputs": [
    {
     "name": "stdout",
     "output_type": "stream",
     "text": [
      "The probability of getting exactly 3 heads when flipping 8 coins is 22%.\n"
     ]
    }
   ],
   "source": [
    "# Condensed Version\n",
    "\n",
    "flips = np.random.choice([1,0], size=(n_simulations, n_trials))\n",
    "exactly_three_heads = flips.sum(axis=1) == 3\n",
    "odds_of_exactly_three_heads = exactly_three_heads.mean()\n",
    "\n",
    "print(f'The probability of getting exactly 3 heads when flipping 8 coins is {round(odds_of_exactly_three_heads*100)}%.')"
   ]
  },
  {
   "cell_type": "code",
   "execution_count": 42,
   "id": "143e5f2b",
   "metadata": {},
   "outputs": [
    {
     "name": "stdout",
     "output_type": "stream",
     "text": [
      "The probability of getting more than 3 heads when flipping 8 coins is 64%.\n"
     ]
    }
   ],
   "source": [
    "# Condensed Version\n",
    "\n",
    "more_than_three_heads = flips.sum(axis=1) > 3\n",
    "odds_of_more_than_three_heads = more_than_three_heads.mean()\n",
    "print(f'The probability of getting more than 3 heads when flipping 8 coins is {round(odds_of_more_than_three_heads*100)}%.')"
   ]
  },
  {
   "cell_type": "markdown",
   "id": "8d4f571e",
   "metadata": {},
   "source": [
    "## 3. There are approximitely 3 web development cohorts for every 1 data science cohort at Codeup. Assuming that Codeup randomly selects an alumni to put on a billboard, what are the odds that the two billboards I drive past both have data science students on them?"
   ]
  },
  {
   "cell_type": "code",
   "execution_count": 43,
   "id": "111f3c36",
   "metadata": {},
   "outputs": [
    {
     "name": "stdout",
     "output_type": "stream",
     "text": [
      "The probability of seeing two data science billboards is 6%.\n"
     ]
    }
   ],
   "source": [
    "n_trials = 2\n",
    "n_simulations = 100_000\n",
    "\n",
    "\n",
    "# 1. Figure out how to represent your data \n",
    "# 3 Web-Development = 0   1 Data Science = 1\n",
    "\n",
    "\n",
    "# 2. Create a matrix of random numbers, rows represent simulations cols represent trials\n",
    "billboards = np.random.choice([1,0,0,0], size=(n_simulations, n_trials))\n",
    "\n",
    "\n",
    "# 3. Apply an aggregation row-wise to summarize each simulation (sum for the total number of heads)\n",
    "two_data_science_billboards = billboards.sum(axis=1) == 2\n",
    "\n",
    "\n",
    "# 4. Apply an aggregation to the resulting 1-d array to come up with a experimental probability (>= 2 heads, mean)\n",
    "\n",
    "odds_of_two_data_science_billboards = two_data_science_billboards.mean()\n",
    "odds_of_two_data_science_billboards\n",
    "\n",
    "\n",
    "\n",
    "print(f'The probability of seeing two data science billboards is {round(odds_of_two_data_science_billboards*100)}%.')\n"
   ]
  },
  {
   "cell_type": "code",
   "execution_count": 44,
   "id": "593a84e0",
   "metadata": {},
   "outputs": [
    {
     "name": "stdout",
     "output_type": "stream",
     "text": [
      "The probability of seeing two data science billboards is 6%.\n"
     ]
    }
   ],
   "source": [
    "# Condensed Version\n",
    "\n",
    "billboards = np.random.choice([1,0,0,0], size=(n_simulations, n_trials))\n",
    "two_data_science_billboards = billboards.sum(axis=1) == 2\n",
    "odds_of_two_data_science_billboards = two_data_science_billboards.mean()\n",
    "\n",
    "print(f'The probability of seeing two data science billboards is {round(odds_of_two_data_science_billboards*100)}%.')\n",
    "\n"
   ]
  },
  {
   "cell_type": "markdown",
   "id": "12f99bd3",
   "metadata": {},
   "source": [
    "## 4. Codeup students buy, on average, 3 poptart packages with a standard deviation of 1.5 a day from the snack vending machine. If on monday the machine is restocked with 17 poptart packages, how likely is it that I will be able to buy some poptarts on Friday afternoon? (Remember, if you have mean and standard deviation, use the np.random.normal)"
   ]
  },
  {
   "cell_type": "code",
   "execution_count": 45,
   "id": "73bfb80c",
   "metadata": {},
   "outputs": [
    {
     "name": "stdout",
     "output_type": "stream",
     "text": [
      "The probability of being able to buy a poptart Friday afternoon is 62%.\n"
     ]
    }
   ],
   "source": [
    "n_trials = 5\n",
    "# By Friday AFTERNOON, so, Mon, Tues, Wed, Thurs, and Fri (morning).\n",
    "\n",
    "n_simulations = 100_000\n",
    "\n",
    "\n",
    "poptarts = np.random.normal(3, 1.5, size=(n_simulations, n_trials)).reshape((n_simulations, n_trials))\n",
    "poptarts_on_Friday = poptarts.sum(axis=1) <= 16\n",
    "odds_of_poptarts_on_Friday = poptarts_on_Friday.mean()\n",
    "\n",
    "print(f'The probability of being able to buy a poptart Friday afternoon is {round(odds_of_poptarts_on_Friday*100)}%.')"
   ]
  },
  {
   "cell_type": "markdown",
   "id": "8db51082",
   "metadata": {},
   "source": [
    "## 5. Compare Heights\n",
    "\n",
    "### - Men have an average height of 178 cm and standard deviation of 8cm. \n",
    "\n",
    "### - Women have a mean of 170, sd = 6cm.\n",
    "\n",
    "### - Since you have means and standard deviations, you can use np.random.normal to generate observations.\n",
    "\n",
    "### If a man and woman are chosen at random, P(woman taller than man)?"
   ]
  },
  {
   "cell_type": "code",
   "execution_count": 46,
   "id": "28c36465",
   "metadata": {},
   "outputs": [
    {
     "name": "stdout",
     "output_type": "stream",
     "text": [
      "The probability of the female being taller is 21%.\n"
     ]
    }
   ],
   "source": [
    "# P(woman taller than man)  women = 1 man = 0\n",
    "\n",
    "n_trials = 2\n",
    "n_simulations\n",
    "\n",
    "male_height = np.random.normal(178, 8, 100_000)\n",
    "female_height = np.random.normal(170, 6, 100_000)\n",
    "\n",
    "df = pd.DataFrame({\"male_height\" : male_height,\n",
    "                  'female_height': female_height})\n",
    "\n",
    "df['female_is_taller'] = df.female_height > df.male_height\n",
    "\n",
    "female_taller = df['female_is_taller'].mean()\n",
    "\n",
    "\n",
    "print(f'The probability of the female being taller is {round(female_taller*100)}%.')"
   ]
  },
  {
   "cell_type": "markdown",
   "id": "70a87b33",
   "metadata": {},
   "source": [
    "## 6. When installing anaconda on a student's computer, there's a 1 in 250 chance that the download is corrupted and the installation fails. "
   ]
  },
  {
   "cell_type": "code",
   "execution_count": 47,
   "id": "13e97e0d",
   "metadata": {},
   "outputs": [],
   "source": [
    "# 1. Figure out how to represent your data \n",
    "\n",
    "# 2. Create a matrix of random numbers, rows represent simulations cols represent trials\n",
    "\n",
    "# 3. Apply an aggregation row-wise to summarize each simulation (sum for the total number of heads)\n",
    "\n",
    "# 4. Apply an aggregation to the resulting 1-d array to come up with a experimental probability (>= 2 heads, mean)"
   ]
  },
  {
   "cell_type": "markdown",
   "id": "b6550ebd",
   "metadata": {},
   "source": [
    "## - What are the odds that after having 50 students download anaconda, no one has an installation issue? "
   ]
  },
  {
   "cell_type": "code",
   "execution_count": 48,
   "id": "a044b9a6",
   "metadata": {},
   "outputs": [
    {
     "name": "stdout",
     "output_type": "stream",
     "text": [
      "The probability no student has an installation issue after 50 student downloads is 82%.\n"
     ]
    }
   ],
   "source": [
    "prob_corrupted = 1/250\n",
    "n_trials = 50\n",
    "n_simulations = 100_000\n",
    "\n",
    "# not corrupt= 0    corrupt= 1\n",
    "\n",
    "student_downloads= np.random.random(size=(n_simulations, n_trials))\n",
    "downloads_corrupted = student_downloads < prob_corrupted\n",
    "no_downloads_corrupted = downloads_corrupted.sum(axis=1) == 0 \n",
    "prob_of_no_downloads_corrupted = no_downloads_corrupted.mean()\n",
    "\n",
    "prob_of_no_downloads_corrupted \n",
    "\n",
    "\n",
    "print(f'The probability no student has an installation issue after {n_trials} student downloads is {round(prob_of_no_downloads_corrupted *100)}%.')"
   ]
  },
  {
   "cell_type": "markdown",
   "id": "383dbe6e",
   "metadata": {},
   "source": [
    "## - 100 students?"
   ]
  },
  {
   "cell_type": "code",
   "execution_count": 49,
   "id": "7bbfe47b",
   "metadata": {},
   "outputs": [
    {
     "name": "stdout",
     "output_type": "stream",
     "text": [
      "The probability no student has an installation issue after 100 student downloads is 67%.\n"
     ]
    }
   ],
   "source": [
    "n_trials = 100\n",
    "n_simulations = 100_000\n",
    "\n",
    "prob_corrupted = 1/250\n",
    "\n",
    "\n",
    "# not corrupt= 0    corrupt= 1\n",
    "\n",
    "student_downloads= np.random.random(size=(n_simulations, n_trials))\n",
    "downloads_corrupted = student_downloads < prob_corrupted\n",
    "no_downloads_corrupted = downloads_corrupted.sum(axis=1) == 0 \n",
    "prob_of_no_downloads_corrupted = no_downloads_corrupted.mean()\n",
    "\n",
    "prob_of_no_downloads_corrupted \n",
    "\n",
    "print(f'The probability no student has an installation issue after {n_trials} student downloads is {round(prob_of_no_downloads_corrupted *100)}%.')"
   ]
  },
  {
   "cell_type": "markdown",
   "id": "c3481d1a",
   "metadata": {},
   "source": [
    "## - What is the probability that we observe an installation issue within the first 150 students that download anaconda?"
   ]
  },
  {
   "cell_type": "code",
   "execution_count": 50,
   "id": "d418c0a3",
   "metadata": {},
   "outputs": [
    {
     "name": "stdout",
     "output_type": "stream",
     "text": [
      "The probability there is an installation issue wihtin the first 150 of student downloads is 45%.\n"
     ]
    }
   ],
   "source": [
    "n_trials = 150\n",
    "n_simulations = 100_000\n",
    "\n",
    "prob_corrupted = 1/250\n",
    "\n",
    "\n",
    "# not corrupt= 0    corrupt= 1\n",
    "\n",
    "student_downloads= np.random.random(size=(n_simulations, n_trials))\n",
    "downloads_corrupted = student_downloads < prob_corrupted\n",
    "no_downloads_corrupted = downloads_corrupted.sum(axis=1) == 0 \n",
    "prob_of_corrupted = 1 - no_downloads_corrupted.mean()\n",
    "\n",
    "prob_of_corrupted \n",
    "\n",
    "print(f'The probability there is an installation issue wihtin the first {n_trials} of student downloads is {round(prob_of_corrupted *100)}%.')"
   ]
  },
  {
   "cell_type": "markdown",
   "id": "537fa546",
   "metadata": {},
   "source": [
    "## - How likely is it that 450 students all download anaconda without an issue?"
   ]
  },
  {
   "cell_type": "code",
   "execution_count": 51,
   "id": "1fb40c20",
   "metadata": {},
   "outputs": [
    {
     "name": "stdout",
     "output_type": "stream",
     "text": [
      "The probability no student has an installation issue after 450 student downloads is 16%.\n"
     ]
    }
   ],
   "source": [
    "n_trials = 450\n",
    "n_simulations = 100_000\n",
    "\n",
    "prob_corrupted = 1/250\n",
    "\n",
    "\n",
    "# not corrupt= 0    corrupt= 1\n",
    "\n",
    "student_downloads= np.random.random(size=(n_simulations, n_trials))\n",
    "downloads_corrupted = student_downloads < prob_corrupted\n",
    "no_downloads_corrupted = downloads_corrupted.sum(axis=1) == 0 \n",
    "prob_of_no_downloads_corrupted = no_downloads_corrupted.mean()\n",
    "\n",
    "prob_of_no_downloads_corrupted \n",
    "\n",
    "print(f'The probability no student has an installation issue after {n_trials} student downloads is {round(prob_of_no_downloads_corrupted *100)}%.')"
   ]
  },
  {
   "cell_type": "markdown",
   "id": "2d48241d",
   "metadata": {},
   "source": [
    "## 7. There's a 70% chance on any given day that there will be at least one food truck at Travis Park. However, you haven't seen a food truck there in 3 days. How unlikely is this?"
   ]
  },
  {
   "cell_type": "code",
   "execution_count": 63,
   "id": "caa6b989",
   "metadata": {},
   "outputs": [
    {
     "name": "stdout",
     "output_type": "stream",
     "text": [
      "The probability that it one will not see a food truck in Travis Park for 3 days is 3%.\n"
     ]
    }
   ],
   "source": [
    "nrows = 100_000\n",
    "ncols = 3\n",
    "\n",
    "simulations = np.random.choice(['Food Truck', 'No Food Truck'],  \n",
    "                  p=[.7,.3],\n",
    "                  size =(nrows, ncols)\n",
    "                 )\n",
    "\n",
    "probability = (simulations == 'No Food Truck').all(axis=1).mean()\n",
    "\n",
    "\n",
    "print(f'The probability that it one will not see a food truck in Travis Park for 3 days is {round(probability * 100)}%.')"
   ]
  },
  {
   "cell_type": "markdown",
   "id": "d3926d9d",
   "metadata": {},
   "source": [
    "## - How likely is it that a food truck will show up sometime this week?"
   ]
  },
  {
   "cell_type": "code",
   "execution_count": 67,
   "id": "b57bbcf6",
   "metadata": {},
   "outputs": [
    {
     "name": "stdout",
     "output_type": "stream",
     "text": [
      "The probability that a food truck will be in Travis Park sometime this week is 100.\n"
     ]
    }
   ],
   "source": [
    "nrows = 100_000\n",
    "ncols = 7\n",
    "\n",
    "simulations = np.random.choice(['Food Truck', 'No Food Truck'],  \n",
    "                  p=[.7,.3],\n",
    "                  size =(nrows, ncols)\n",
    "                 )\n",
    "\n",
    "probability = (simulations == 'Food Truck').any(axis=1).mean()\n",
    "\n",
    "print(f'The probability that a food truck will be in Travis Park sometime this week is {round(probability * 100)}.')"
   ]
  },
  {
   "cell_type": "markdown",
   "id": "9a726a03",
   "metadata": {},
   "source": [
    "## 8. If 23 people are in the same room, what are the odds that two of them share a birthday? "
   ]
  },
  {
   "cell_type": "markdown",
   "id": "fd8b53d9",
   "metadata": {},
   "source": [
    "# ** As modeled, go back and complete."
   ]
  },
  {
   "cell_type": "code",
   "execution_count": 77,
   "id": "ac069301",
   "metadata": {},
   "outputs": [
    {
     "data": {
      "text/plain": [
       "0.5032"
      ]
     },
     "execution_count": 77,
     "metadata": {},
     "output_type": "execute_result"
    }
   ],
   "source": [
    "share_birthdays = np.random.randint(1, 366, size=(10_000, 23))\n",
    "share_birthdays = pd.DataFrame(share_birthdays)\n",
    "\n",
    "(share_birthdays.apply(lambda birthdays: birthdays.nunique(), axis=1) <23).mean()"
   ]
  },
  {
   "cell_type": "markdown",
   "id": "ac8074c3",
   "metadata": {},
   "source": [
    "## What if it's 20 people? "
   ]
  },
  {
   "cell_type": "code",
   "execution_count": 78,
   "id": "cef7b986",
   "metadata": {},
   "outputs": [
    {
     "data": {
      "text/plain": [
       "0.4143"
      ]
     },
     "execution_count": 78,
     "metadata": {},
     "output_type": "execute_result"
    }
   ],
   "source": [
    "share_birthdays = np.random.randint(1, 366, size=(10_000, 20))\n",
    "share_birthdays = pd.DataFrame(share_birthdays)\n",
    "\n",
    "(share_birthdays.apply(lambda birthdays: birthdays.nunique(), axis=1) <20).mean()"
   ]
  },
  {
   "cell_type": "markdown",
   "id": "b4c4b58a",
   "metadata": {},
   "source": [
    "##  40?"
   ]
  },
  {
   "cell_type": "code",
   "execution_count": 79,
   "id": "2f2ab294",
   "metadata": {},
   "outputs": [
    {
     "data": {
      "text/plain": [
       "0.8924"
      ]
     },
     "execution_count": 79,
     "metadata": {},
     "output_type": "execute_result"
    }
   ],
   "source": [
    "share_birthdays = np.random.randint(1, 366, size=(10_000, 40))\n",
    "share_birthdays = pd.DataFrame(share_birthdays)\n",
    "\n",
    "(share_birthdays.apply(lambda birthdays: birthdays.nunique(), axis=1) <40).mean()"
   ]
  }
 ],
 "metadata": {
  "kernelspec": {
   "display_name": "Python 3 (ipykernel)",
   "language": "python",
   "name": "python3"
  },
  "language_info": {
   "codemirror_mode": {
    "name": "ipython",
    "version": 3
   },
   "file_extension": ".py",
   "mimetype": "text/x-python",
   "name": "python",
   "nbconvert_exporter": "python",
   "pygments_lexer": "ipython3",
   "version": "3.9.7"
  }
 },
 "nbformat": 4,
 "nbformat_minor": 5
}
